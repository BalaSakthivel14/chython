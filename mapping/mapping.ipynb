{
 "cells": [
  {
   "cell_type": "code",
   "execution_count": 1,
   "id": "aa934a36",
   "metadata": {},
   "outputs": [],
   "source": [
    "import chython\n",
    "from chython import RDFRead, ReactionContainer, smiles\n",
    "from chython.algorithms.mapping.attention import autocast_filler\n",
    "\n",
    "from tqdm import tqdm\n",
    "\n",
    "chython.torch_device = 'cuda'  # enable gpu"
   ]
  },
  {
   "cell_type": "code",
   "execution_count": 2,
   "id": "a68a17b6",
   "metadata": {},
   "outputs": [],
   "source": [
    "# disable AMP on cuda for deterministic benchmarking\n",
    "smiles('C>>C').__class_cache__[ReactionContainer] = {'_Attention__autocast': autocast_filler()}"
   ]
  },
  {
   "cell_type": "code",
   "execution_count": 3,
   "id": "e46f874d",
   "metadata": {},
   "outputs": [
    {
     "name": "stderr",
     "output_type": "stream",
     "text": [
      "1851it [00:36, 50.28it/s]\n"
     ]
    }
   ],
   "source": [
    "bad = []\n",
    "\n",
    "for n, r in enumerate(tqdm(RDFRead('./golden.rdf'))):\n",
    "    r.thiele()  # \"aromatize\" kekule rings\n",
    "    copy = r.copy()\n",
    "    copy.reset_mapping()\n",
    "    if ~r != ~copy:\n",
    "        bad.append((n, r, copy))"
   ]
  },
  {
   "cell_type": "code",
   "execution_count": 4,
   "id": "e583a1fb",
   "metadata": {},
   "outputs": [
    {
     "data": {
      "text/plain": [
       "1647"
      ]
     },
     "execution_count": 4,
     "metadata": {},
     "output_type": "execute_result"
    }
   ],
   "source": [
    "1851 - len(bad)"
   ]
  },
  {
   "cell_type": "code",
   "execution_count": 5,
   "id": "eaa351a0",
   "metadata": {},
   "outputs": [
    {
     "data": {
      "image/svg+xml": [
       "<svg width=\"11.61cm\" height=\"4.32cm\" viewBox=\"-0.62 -2.16 11.61 4.32\" xmlns=\"http://www.w3.org/2000/svg\" xmlns:xlink=\"http://www.w3.org/1999/xlink\" version=\"1.1\">\n",
       "  <defs>\n",
       "    <marker id=\"arrow\" markerWidth=\"10\" markerHeight=\"10\" refX=\"0\" refY=\"3\" orient=\"auto\">\n",
       "      <path d=\"M0,0 L0,6 L9,3\"/>\n",
       "    </marker>\n",
       "  </defs>\n",
       "  <line x1=\"4.57\" y1=\"0\" x2=\"6.57\" y2=\"0\" fill=\"none\" stroke=\"black\" stroke-width=\".04\" marker-end=\"url(#arrow)\"/>\n",
       "  <g id=\"aa544d42-ec48-4a46-8aa7-684f3f4cfb9e-molecule\">\n",
       "    <defs>\n",
       "      <g id=\"aa544d42-ec48-4a46-8aa7-684f3f4cfb9e-symbols\" font-size=\"0.50\" font-family=\"sans-serif\">\n",
       "        <text id=\"aa544d42-ec48-4a46-8aa7-684f3f4cfb9e-1\" x=\"0.00\" y=\"1.44\" dx=\"-0.20\" dy=\"0.20\">O</text>\n",
       "        <text id=\"aa544d42-ec48-4a46-8aa7-684f3f4cfb9e-2\" x=\"0.71\" y=\"1.03\" dx=\"-0.20\" dy=\"0.20\">N</text>\n",
       "        <text id=\"aa544d42-ec48-4a46-8aa7-684f3f4cfb9e-3\" x=\"1.43\" y=\"1.44\" dx=\"-0.20\" dy=\"0.20\">O</text>\n",
       "        <text id=\"aa544d42-ec48-4a46-8aa7-684f3f4cfb9e-10\" x=\"2.14\" y=\"0.21\" dx=\"-0.20\" dy=\"0.20\">N</text>\n",
       "        <text id=\"aa544d42-ec48-4a46-8aa7-684f3f4cfb9e-11\" x=\"2.86\" y=\"-0.21\" dx=\"-0.20\" dy=\"0.20\">N</text>\n",
       "        <text id=\"aa544d42-ec48-4a46-8aa7-684f3f4cfb9e-12\" x=\"3.57\" y=\"-0.62\" dx=\"-0.20\" dy=\"0.20\">N</text>\n",
       "      </g>\n",
       "      <g id=\"aa544d42-ec48-4a46-8aa7-684f3f4cfb9e-attrs\" font-size=\"0.30\" font-family=\"monospace\">\n",
       "        <text x=\"0.71\" y=\"1.03\" dx=\"0.05\" dy=\"-0.20\">+</text>\n",
       "        <text x=\"1.43\" y=\"1.44\" dx=\"0.05\" dy=\"-0.20\">-</text>\n",
       "        <text x=\"2.86\" y=\"-0.21\" dx=\"0.05\" dy=\"-0.20\">+</text>\n",
       "        <text x=\"3.57\" y=\"-0.62\" dx=\"0.05\" dy=\"-0.20\">-</text>\n",
       "      </g>\n",
       "      <g id=\"aa544d42-ec48-4a46-8aa7-684f3f4cfb9e-mapping\" font-size=\"0.25\" font-family=\"monospace\" text-anchor=\"end\">\n",
       "        <text x=\"0.00\" y=\"1.44\" dx=\"-0.15\" dy=\"0.35\">1</text>\n",
       "        <text x=\"0.71\" y=\"1.03\" dx=\"-0.15\" dy=\"0.35\">2</text>\n",
       "        <text x=\"1.43\" y=\"1.44\" dx=\"-0.15\" dy=\"0.35\">3</text>\n",
       "        <text x=\"0.71\" y=\"0.21\" dx=\"-0.05\" dy=\"0.20\">4</text>\n",
       "        <text x=\"0.00\" y=\"-0.21\" dx=\"-0.05\" dy=\"0.20\">5</text>\n",
       "        <text x=\"0.00\" y=\"-1.03\" dx=\"-0.05\" dy=\"0.20\">6</text>\n",
       "        <text x=\"0.71\" y=\"-1.44\" dx=\"-0.05\" dy=\"0.20\">7</text>\n",
       "        <text x=\"1.43\" y=\"-1.03\" dx=\"-0.05\" dy=\"0.20\">8</text>\n",
       "        <text x=\"1.43\" y=\"-0.21\" dx=\"-0.05\" dy=\"0.20\">9</text>\n",
       "        <text x=\"2.14\" y=\"0.21\" dx=\"-0.15\" dy=\"0.35\">10</text>\n",
       "        <text x=\"2.86\" y=\"-0.21\" dx=\"-0.15\" dy=\"0.35\">11</text>\n",
       "        <text x=\"3.57\" y=\"-0.62\" dx=\"-0.15\" dy=\"0.35\">12</text>\n",
       "      </g>\n",
       "      <mask id=\"aa544d42-ec48-4a46-8aa7-684f3f4cfb9e-mask\">\n",
       "        <rect x=\"-0.62\" y=\"-2.16\" width=\"11.61\" height=\"4.32\" fill=\"white\"/>\n",
       "        <g>\n",
       "          <circle cx=\"0.00\" cy=\"1.44\" r=\"0.20\"/>\n",
       "          <circle cx=\"0.71\" cy=\"1.03\" r=\"0.20\"/>\n",
       "          <circle cx=\"1.43\" cy=\"1.44\" r=\"0.20\"/>\n",
       "          <circle cx=\"2.14\" cy=\"0.21\" r=\"0.20\"/>\n",
       "          <circle cx=\"2.86\" cy=\"-0.21\" r=\"0.20\"/>\n",
       "          <circle cx=\"3.57\" cy=\"-0.62\" r=\"0.20\"/>\n",
       "        </g>\n",
       "        <g stroke=\"black\">\n",
       "          <use xlink:href=\"#aa544d42-ec48-4a46-8aa7-684f3f4cfb9e-symbols\" stroke-width=\"0.05\"/>\n",
       "          <use xlink:href=\"#aa544d42-ec48-4a46-8aa7-684f3f4cfb9e-attrs\" stroke-width=\"0.03\"/>\n",
       "          <use xlink:href=\"#aa544d42-ec48-4a46-8aa7-684f3f4cfb9e-mapping\" stroke-width=\"0.03\"/>\n",
       "        </g>\n",
       "      </mask>\n",
       "    </defs>\n",
       "    <g fill=\"none\" stroke=\"black\" stroke-width=\"0.04\" mask=\"url(#aa544d42-ec48-4a46-8aa7-684f3f4cfb9e-mask)\">\n",
       "      <line x1=\"-0.03\" y1=\"1.39\" x2=\"0.68\" y2=\"0.98\"/>\n",
       "      <line x1=\"0.03\" y1=\"1.50\" x2=\"0.74\" y2=\"1.08\"/>\n",
       "      <line x1=\"0.71\" y1=\"1.03\" x2=\"1.43\" y2=\"1.44\"/>\n",
       "      <line x1=\"0.71\" y1=\"1.03\" x2=\"0.71\" y2=\"0.21\"/>\n",
       "      <line x1=\"0.71\" y1=\"0.21\" x2=\"0.00\" y2=\"-0.21\"/>\n",
       "      <line x1=\"0.71\" y1=\"0.21\" x2=\"1.43\" y2=\"-0.21\"/>\n",
       "      <line x1=\"0.00\" y1=\"-0.21\" x2=\"0.00\" y2=\"-1.03\"/>\n",
       "      <line x1=\"0.00\" y1=\"-1.03\" x2=\"0.71\" y2=\"-1.44\"/>\n",
       "      <line x1=\"0.71\" y1=\"-1.44\" x2=\"1.43\" y2=\"-1.03\"/>\n",
       "      <line x1=\"1.43\" y1=\"-1.03\" x2=\"1.43\" y2=\"-0.21\"/>\n",
       "      <line x1=\"1.43\" y1=\"-0.21\" x2=\"2.14\" y2=\"0.21\"/>\n",
       "      <line x1=\"2.11\" y1=\"0.15\" x2=\"2.83\" y2=\"-0.26\"/>\n",
       "      <line x1=\"2.17\" y1=\"0.26\" x2=\"2.89\" y2=\"-0.15\"/>\n",
       "      <line x1=\"2.83\" y1=\"-0.26\" x2=\"3.54\" y2=\"-0.67\"/>\n",
       "      <line x1=\"2.89\" y1=\"-0.15\" x2=\"3.60\" y2=\"-0.57\"/>\n",
       "      <line x1=\"0.71\" y1=\"0.04\" x2=\"0.14\" y2=\"-0.29\" stroke-dasharray=\"0.15 0.05\"/>\n",
       "      <line x1=\"0.14\" y1=\"-0.29\" x2=\"0.14\" y2=\"-0.95\" stroke-dasharray=\"0.15 0.05\"/>\n",
       "      <line x1=\"0.14\" y1=\"-0.95\" x2=\"0.71\" y2=\"-1.28\" stroke-dasharray=\"0.15 0.05\"/>\n",
       "      <line x1=\"0.71\" y1=\"-1.28\" x2=\"1.29\" y2=\"-0.95\" stroke-dasharray=\"0.15 0.05\"/>\n",
       "      <line x1=\"1.29\" y1=\"-0.95\" x2=\"1.29\" y2=\"-0.29\" stroke-dasharray=\"0.15 0.05\"/>\n",
       "      <line x1=\"1.29\" y1=\"-0.29\" x2=\"0.71\" y2=\"0.04\" stroke-dasharray=\"0.15 0.05\"/>\n",
       "    </g>\n",
       "    <g font-size=\"0.50\" font-family=\"sans-serif\">\n",
       "      <use xlink:href=\"#aa544d42-ec48-4a46-8aa7-684f3f4cfb9e-1\" fill=\"#FF0D0D\"/>\n",
       "      <use xlink:href=\"#aa544d42-ec48-4a46-8aa7-684f3f4cfb9e-2\" fill=\"#3050F8\"/>\n",
       "      <use xlink:href=\"#aa544d42-ec48-4a46-8aa7-684f3f4cfb9e-3\" fill=\"#FF0D0D\"/>\n",
       "      <use xlink:href=\"#aa544d42-ec48-4a46-8aa7-684f3f4cfb9e-10\" fill=\"#3050F8\"/>\n",
       "      <use xlink:href=\"#aa544d42-ec48-4a46-8aa7-684f3f4cfb9e-11\" fill=\"#3050F8\"/>\n",
       "      <use xlink:href=\"#aa544d42-ec48-4a46-8aa7-684f3f4cfb9e-12\" fill=\"#3050F8\"/>\n",
       "    </g>\n",
       "    <use xlink:href=\"#aa544d42-ec48-4a46-8aa7-684f3f4cfb9e-attrs\" fill=\"black\"/>\n",
       "    <use xlink:href=\"#aa544d42-ec48-4a46-8aa7-684f3f4cfb9e-mapping\" fill=\"#0305A7\"/>\n",
       "  </g>\n",
       "  <g id=\"24be12d6-bbb5-453d-b40c-60e0f2880814-molecule\">\n",
       "    <defs>\n",
       "      <g id=\"24be12d6-bbb5-453d-b40c-60e0f2880814-symbols\" font-size=\"0.50\" font-family=\"sans-serif\">\n",
       "        <text id=\"24be12d6-bbb5-453d-b40c-60e0f2880814-3\" x=\"7.91\" y=\"1.54\" dx=\"-0.20\" dy=\"0.20\">O</text>\n",
       "        <text id=\"24be12d6-bbb5-453d-b40c-60e0f2880814-2\" x=\"8.46\" y=\"0.92\" dx=\"-0.20\" dy=\"0.20\">N</text>\n",
       "        <text id=\"24be12d6-bbb5-453d-b40c-60e0f2880814-10\" x=\"9.61\" y=\"0.25\" dx=\"-0.20\" dy=\"0.20\">N</text>\n",
       "        <text id=\"24be12d6-bbb5-453d-b40c-60e0f2880814-1\" x=\"9.28\" y=\"1.01\" dx=\"-0.20\" dy=\"0.20\">O</text>\n",
       "      </g>\n",
       "      <g id=\"24be12d6-bbb5-453d-b40c-60e0f2880814-attrs\" font-size=\"0.30\" font-family=\"monospace\">\n",
       "        <text x=\"7.91\" y=\"1.54\" dx=\"0.05\" dy=\"-0.20\">-</text>\n",
       "        <text x=\"8.46\" y=\"0.92\" dx=\"0.05\" dy=\"-0.20\">+</text>\n",
       "      </g>\n",
       "      <g id=\"24be12d6-bbb5-453d-b40c-60e0f2880814-mapping\" font-size=\"0.25\" font-family=\"monospace\" text-anchor=\"end\">\n",
       "        <text x=\"7.91\" y=\"1.54\" dx=\"-0.15\" dy=\"0.35\">3</text>\n",
       "        <text x=\"8.46\" y=\"0.92\" dx=\"-0.15\" dy=\"0.35\">2</text>\n",
       "        <text x=\"8.29\" y=\"0.11\" dx=\"-0.05\" dy=\"0.20\">4</text>\n",
       "        <text x=\"7.57\" y=\"-0.30\" dx=\"-0.05\" dy=\"0.20\">5</text>\n",
       "        <text x=\"7.57\" y=\"-1.12\" dx=\"-0.05\" dy=\"0.20\">6</text>\n",
       "        <text x=\"8.29\" y=\"-1.54\" dx=\"-0.05\" dy=\"0.20\">7</text>\n",
       "        <text x=\"9.00\" y=\"-1.12\" dx=\"-0.05\" dy=\"0.20\">8</text>\n",
       "        <text x=\"9.00\" y=\"-0.30\" dx=\"-0.05\" dy=\"0.20\">9</text>\n",
       "        <text x=\"9.61\" y=\"0.25\" dx=\"-0.15\" dy=\"0.35\">10</text>\n",
       "        <text x=\"9.28\" y=\"1.01\" dx=\"-0.15\" dy=\"0.35\">1</text>\n",
       "      </g>\n",
       "      <mask id=\"24be12d6-bbb5-453d-b40c-60e0f2880814-mask\">\n",
       "        <rect x=\"-0.62\" y=\"-2.16\" width=\"11.61\" height=\"4.32\" fill=\"white\"/>\n",
       "        <g>\n",
       "          <circle cx=\"7.91\" cy=\"1.54\" r=\"0.20\"/>\n",
       "          <circle cx=\"8.46\" cy=\"0.92\" r=\"0.20\"/>\n",
       "          <circle cx=\"9.61\" cy=\"0.25\" r=\"0.20\"/>\n",
       "          <circle cx=\"9.28\" cy=\"1.01\" r=\"0.20\"/>\n",
       "        </g>\n",
       "        <g stroke=\"black\">\n",
       "          <use xlink:href=\"#24be12d6-bbb5-453d-b40c-60e0f2880814-symbols\" stroke-width=\"0.05\"/>\n",
       "          <use xlink:href=\"#24be12d6-bbb5-453d-b40c-60e0f2880814-attrs\" stroke-width=\"0.03\"/>\n",
       "          <use xlink:href=\"#24be12d6-bbb5-453d-b40c-60e0f2880814-mapping\" stroke-width=\"0.03\"/>\n",
       "        </g>\n",
       "      </mask>\n",
       "    </defs>\n",
       "    <g fill=\"none\" stroke=\"black\" stroke-width=\"0.04\" mask=\"url(#24be12d6-bbb5-453d-b40c-60e0f2880814-mask)\">\n",
       "      <line x1=\"7.91\" y1=\"1.54\" x2=\"8.46\" y2=\"0.92\"/>\n",
       "      <line x1=\"8.46\" y1=\"0.92\" x2=\"8.29\" y2=\"0.11\"/>\n",
       "      <line x1=\"8.46\" y1=\"0.92\" x2=\"9.28\" y2=\"1.01\"/>\n",
       "      <line x1=\"8.29\" y1=\"0.11\" x2=\"7.57\" y2=\"-0.30\"/>\n",
       "      <line x1=\"8.29\" y1=\"0.11\" x2=\"9.00\" y2=\"-0.30\"/>\n",
       "      <line x1=\"7.57\" y1=\"-0.30\" x2=\"7.57\" y2=\"-1.12\"/>\n",
       "      <line x1=\"7.57\" y1=\"-1.12\" x2=\"8.29\" y2=\"-1.54\"/>\n",
       "      <line x1=\"8.29\" y1=\"-1.54\" x2=\"9.00\" y2=\"-1.12\"/>\n",
       "      <line x1=\"9.00\" y1=\"-1.12\" x2=\"9.00\" y2=\"-0.30\"/>\n",
       "      <line x1=\"9.00\" y1=\"-0.30\" x2=\"9.61\" y2=\"0.25\"/>\n",
       "      <line x1=\"9.61\" y1=\"0.25\" x2=\"9.28\" y2=\"1.01\"/>\n",
       "      <line x1=\"9.19\" y1=\"0.86\" x2=\"8.57\" y2=\"0.79\" stroke-dasharray=\"0.15 0.05\"/>\n",
       "      <line x1=\"8.57\" y1=\"0.79\" x2=\"8.44\" y2=\"0.19\" stroke-dasharray=\"0.15 0.05\"/>\n",
       "      <line x1=\"8.44\" y1=\"0.19\" x2=\"8.98\" y2=\"-0.13\" stroke-dasharray=\"0.15 0.05\"/>\n",
       "      <line x1=\"8.98\" y1=\"-0.13\" x2=\"9.45\" y2=\"0.29\" stroke-dasharray=\"0.15 0.05\"/>\n",
       "      <line x1=\"9.45\" y1=\"0.29\" x2=\"9.19\" y2=\"0.86\" stroke-dasharray=\"0.15 0.05\"/>\n",
       "      <line x1=\"8.29\" y1=\"-0.05\" x2=\"7.71\" y2=\"-0.38\" stroke-dasharray=\"0.15 0.05\"/>\n",
       "      <line x1=\"7.71\" y1=\"-0.38\" x2=\"7.71\" y2=\"-1.04\" stroke-dasharray=\"0.15 0.05\"/>\n",
       "      <line x1=\"7.71\" y1=\"-1.04\" x2=\"8.29\" y2=\"-1.37\" stroke-dasharray=\"0.15 0.05\"/>\n",
       "      <line x1=\"8.29\" y1=\"-1.37\" x2=\"8.86\" y2=\"-1.04\" stroke-dasharray=\"0.15 0.05\"/>\n",
       "      <line x1=\"8.86\" y1=\"-1.04\" x2=\"8.86\" y2=\"-0.38\" stroke-dasharray=\"0.15 0.05\"/>\n",
       "      <line x1=\"8.86\" y1=\"-0.38\" x2=\"8.29\" y2=\"-0.05\" stroke-dasharray=\"0.15 0.05\"/>\n",
       "    </g>\n",
       "    <g font-size=\"0.50\" font-family=\"sans-serif\">\n",
       "      <use xlink:href=\"#24be12d6-bbb5-453d-b40c-60e0f2880814-3\" fill=\"#FF0D0D\"/>\n",
       "      <use xlink:href=\"#24be12d6-bbb5-453d-b40c-60e0f2880814-2\" fill=\"#3050F8\"/>\n",
       "      <use xlink:href=\"#24be12d6-bbb5-453d-b40c-60e0f2880814-10\" fill=\"#3050F8\"/>\n",
       "      <use xlink:href=\"#24be12d6-bbb5-453d-b40c-60e0f2880814-1\" fill=\"#FF0D0D\"/>\n",
       "    </g>\n",
       "    <use xlink:href=\"#24be12d6-bbb5-453d-b40c-60e0f2880814-attrs\" fill=\"black\"/>\n",
       "    <use xlink:href=\"#24be12d6-bbb5-453d-b40c-60e0f2880814-mapping\" fill=\"#0305A7\"/>\n",
       "  </g>\n",
       "</svg>"
      ],
      "text/plain": [
       "<chython.containers.reaction.ReactionContainer at 0x7f9648bafb80>"
      ]
     },
     "execution_count": 5,
     "metadata": {},
     "output_type": "execute_result"
    }
   ],
   "source": [
    "bad[2][2]  # pseudo-bad mapping"
   ]
  }
 ],
 "metadata": {
  "kernelspec": {
   "display_name": "Python 3 (ipykernel)",
   "language": "python",
   "name": "python3"
  },
  "language_info": {
   "codemirror_mode": {
    "name": "ipython",
    "version": 3
   },
   "file_extension": ".py",
   "mimetype": "text/x-python",
   "name": "python",
   "nbconvert_exporter": "python",
   "pygments_lexer": "ipython3",
   "version": "3.10.6"
  }
 },
 "nbformat": 4,
 "nbformat_minor": 5
}
