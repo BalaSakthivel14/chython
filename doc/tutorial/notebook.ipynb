{
 "cells": [
  {
   "cell_type": "markdown",
   "metadata": {},
   "source": [
    "# 1. Input-output operations\n",
    "\n",
    "*chython.files* subpackage contains file readers and writers classes.\n",
    "\n",
    "## 1.1. MDL RDF reader\n",
    "\n",
    "**RDFRead** class can be used for RDF files reading.\n",
    "Instance of this class is file-like object which support **iteration**, has a method **read()** for parsing all data and **context manager**.\n",
    "\n",
    "### 1.1.1. Read file from disk"
   ]
  },
  {
   "cell_type": "code",
   "execution_count": 1,
   "metadata": {},
   "outputs": [],
   "source": [
    "from chython.files import * # import all available readers and writers\n",
    "\n",
    "with RDFRead('example.rdf') as f:\n",
    "    first = next(f)  # get first reaction using generator\n",
    "    data = f.read()  # read remaining reactions to list of ReactionContainers\n",
    "\n",
    "data = []\n",
    "with RDFRead('example.rdf') as f:\n",
    "    for r in f:  # looping is supported. Useful for large files.\n",
    "        data.append(r)"
   ]
  },
  {
   "cell_type": "markdown",
   "metadata": {},
   "source": [
    "#### OOP-stype Pathlib supported"
   ]
  },
  {
   "cell_type": "code",
   "execution_count": 2,
   "metadata": {},
   "outputs": [],
   "source": [
    "from pathlib import Path\n",
    "\n",
    "with RDFRead(Path('example.rdf')) as r: # OOP style call\n",
    "    r = next(r)"
   ]
  },
  {
   "cell_type": "markdown",
   "metadata": {},
   "source": [
    "#### opened files supported\n",
    "RDF file should be opened in text mode"
   ]
  },
  {
   "cell_type": "code",
   "execution_count": 3,
   "metadata": {},
   "outputs": [],
   "source": [
    "with open('example.rdf') as f, RDFRead(f) as r:\n",
    "    r = next(r) # OOP style application"
   ]
  },
  {
   "cell_type": "markdown",
   "metadata": {},
   "source": [
    "### 1.1.2. Transparent loading from archives and network\n",
    "Readers designed transparently support any type of data sources. \n",
    "\n",
    "Data sources should be file-like objects."
   ]
  },
  {
   "cell_type": "code",
   "execution_count": 4,
   "metadata": {},
   "outputs": [],
   "source": [
    "from requests import get\n",
    "from io import StringIO\n",
    "\n",
    "# get function return requested URL which has attribute text. \n",
    "# in example this text is whole RDF stored in single string.\n",
    "# RDFread does not support parsing of strings, but one can emulate files with data \n",
    "# instead of strings by using io.StringIO\n",
    "with StringIO(get('https://github.com/chython/chython/raw/master/doc/tutorial/example.rdf').text) as f, RDFRead(f) as r:\n",
    "    r = next(r)\n",
    "\n",
    "# python support gzipped data. This example shows how to work with compressed \n",
    "# data directly without decompressing them to disk.\n",
    "from gzip import open as gzip_open\n",
    "with gzip_open('example.rdf.gz', 'rt') as f, RDFRead(f) as r:\n",
    "    r = next(r)\n",
    "\n",
    "# zip-files also supported out of the box \n",
    "# zipped files can be opened only in binary mode. io.TextIOWrapper can be used for transparent decoding them into text\n",
    "from zipfile import ZipFile\n",
    "from io import TextIOWrapper\n",
    "with ZipFile('example.zip') as z, z.open('example.rdf') as c:\n",
    "    with TextIOWrapper(c) as f, RDFRead(f) as r:\n",
    "        r = next(r)\n",
    "\n",
    "# tar-file reading example\n",
    "from tarfile import open as tar_open\n",
    "from io import TextIOWrapper\n",
    "with tar_open('example.tar.gz') as t:\n",
    "    c = t.extractfile('example.rdf')\n",
    "    with TextIOWrapper(c) as f, RDFRead(f) as r:\n",
    "        r = next(r)"
   ]
  },
  {
   "cell_type": "markdown",
   "metadata": {},
   "source": [
    "## 1.2. Other Readers\n",
    "* SDFRead - MOL, SDF files reader (versions v2000, v3000 are supported)\n",
    "* MRVRead - ChemAxon MRV files reader (lxml parser is used)\n",
    "* SMILESRead - SMILES strings files reader (coho backend used). Every row should start with new SMILES\n",
    "* INCHIRead - INCHI strings files reader (INCHI trust backend used). Every row should start with new InChI\n",
    "* XYZRead - xyz files reader (only structures with explicit hydrogens supported)\n",
    "* PDBRead - PDB files parser (only structures with explicit hydrogens supported)\n",
    "\n",
    "All files except MRV should be opened in **text-mode**  \n",
    "MRV requires binary mode `open('/path/to/data.mrv', 'rb')`"
   ]
  },
  {
   "cell_type": "code",
   "execution_count": 5,
   "metadata": {},
   "outputs": [],
   "source": [
    "with MRVRead(open('example.mrv', 'rb')) as f:\n",
    "    m = next(f)"
   ]
  },
  {
   "cell_type": "markdown",
   "metadata": {},
   "source": [
    "## 1.3. File writers\n",
    "Export in following file formats is supported:\n",
    "\n",
    "* RDFWrite (v2000) - molecules and reactions export in RDF format\n",
    "* SDFWrite (v2000) - molecules export in SDF format\n",
    "* ERDFWrite (v3000) - molecules and reactions export in RDF format\n",
    "* ESDFWrite (v3000) - molecules export in SDF format\n",
    "* MRVWrite - molecules and reactions export in MRV format\n",
    "\n",
    "Writers have the same API as readers. All writers work with text-files\n",
    "Writers have `write` method which accepts as argument single reaction or molecule object"
   ]
  },
  {
   "cell_type": "code",
   "execution_count": 6,
   "metadata": {},
   "outputs": [],
   "source": [
    "with RDFWrite('out.rdf') as f: # context manager supported\n",
    "    for r in data:\n",
    "        f.write(r)\n",
    "# file out.rdf will be overriden"
   ]
  },
  {
   "cell_type": "code",
   "execution_count": 7,
   "metadata": {},
   "outputs": [],
   "source": [
    "f = RDFWrite('out.rdf') # ongoing writing into a single file\n",
    "for r in data:\n",
    "    f.write(r)\n",
    "\n",
    "f.write(r)\n",
    "f.close() # close file. Flushes Python writer buffers."
   ]
  },
  {
   "cell_type": "markdown",
   "metadata": {},
   "source": [
    "## 1.4. Pickle support\n",
    "\n",
    "Chython containers fully support pickle dumping and loading.\n",
    "\n",
    "Pickle dumps are more fast than common files and could be used as temporal storage."
   ]
  },
  {
   "cell_type": "code",
   "execution_count": 8,
   "metadata": {},
   "outputs": [],
   "source": [
    "from pickle import loads, dumps"
   ]
  },
  {
   "cell_type": "code",
   "execution_count": 9,
   "metadata": {},
   "outputs": [
    {
     "data": {
      "image/svg+xml": [
       "<svg width=\"13.58cm\" height=\"1.96cm\" viewBox=\"-0.62 -0.98 13.58 1.96\" xmlns=\"http://www.w3.org/2000/svg\" xmlns:xlink=\"http://www.w3.org/1999/xlink\" version=\"1.1\">\n",
       "  <defs>\n",
       "    <marker id=\"arrow\" markerWidth=\"10\" markerHeight=\"10\" refX=\"0\" refY=\"3\" orient=\"auto\">\n",
       "      <path d=\"M0,0 L0,6 L9,3\"/>\n",
       "    </marker>\n",
       "  </defs>\n",
       "  <line x1=\"5.69\" y1=\"0\" x2=\"7.69\" y2=\"0\" fill=\"none\" stroke=\"black\" stroke-width=\".04\" marker-end=\"url(#arrow)\"/>\n",
       "  <g fill=\"none\" stroke=\"black\" stroke-width=\".04\">\n",
       "    <line x1=\"1.98\" y1=\"0\" x2=\"2.28\" y2=\"0\"/>\n",
       "    <line x1=\"2.13\" y1=\"0.15\" x2=\"2.13\" y2=\"-0.15\"/>\n",
       "  </g>\n",
       "  <g id=\"4cef5b8c-1fdc-4e18-bbac-791735ff2f00-molecule\">\n",
       "    <defs>\n",
       "      <g id=\"4cef5b8c-1fdc-4e18-bbac-791735ff2f00-symbols\" font-size=\"0.50\" font-family=\"sans-serif\">\n",
       "        <text id=\"4cef5b8c-1fdc-4e18-bbac-791735ff2f00-3\" x=\"1.43\" y=\"-0.21\" dx=\"-0.07\" dy=\"0.20\">I</text>\n",
       "      </g>\n",
       "      <g id=\"4cef5b8c-1fdc-4e18-bbac-791735ff2f00-mapping\" font-size=\"0.25\" font-family=\"monospace\" text-anchor=\"end\">\n",
       "        <text x=\"0.00\" y=\"-0.21\" dx=\"-0.05\" dy=\"0.20\">1</text>\n",
       "        <text x=\"0.71\" y=\"0.21\" dx=\"-0.05\" dy=\"0.20\">2</text>\n",
       "        <text x=\"1.43\" y=\"-0.21\" dx=\"-0.05\" dy=\"0.35\">3</text>\n",
       "      </g>\n",
       "      <mask id=\"4cef5b8c-1fdc-4e18-bbac-791735ff2f00-mask\">\n",
       "        <rect x=\"-0.62\" y=\"-0.98\" width=\"13.58\" height=\"1.96\" fill=\"white\"/>\n",
       "        <g>\n",
       "          <circle cx=\"1.43\" cy=\"-0.21\" r=\"0.20\"/>\n",
       "        </g>\n",
       "        <g stroke=\"black\">\n",
       "          <use xlink:href=\"#4cef5b8c-1fdc-4e18-bbac-791735ff2f00-symbols\" stroke-width=\"0.05\"/>\n",
       "          <use xlink:href=\"#4cef5b8c-1fdc-4e18-bbac-791735ff2f00-mapping\" stroke-width=\"0.03\"/>\n",
       "        </g>\n",
       "      </mask>\n",
       "    </defs>\n",
       "    <g fill=\"none\" stroke=\"black\" stroke-width=\"0.04\" mask=\"url(#4cef5b8c-1fdc-4e18-bbac-791735ff2f00-mask)\">\n",
       "      <line x1=\"0.00\" y1=\"-0.21\" x2=\"0.71\" y2=\"0.21\"/>\n",
       "      <line x1=\"0.71\" y1=\"0.21\" x2=\"1.43\" y2=\"-0.21\"/>\n",
       "    </g>\n",
       "    <g font-size=\"0.50\" font-family=\"sans-serif\">\n",
       "      <use xlink:href=\"#4cef5b8c-1fdc-4e18-bbac-791735ff2f00-3\" fill=\"#940094\"/>\n",
       "    </g>\n",
       "    <use xlink:href=\"#4cef5b8c-1fdc-4e18-bbac-791735ff2f00-mapping\" fill=\"#0305A7\"/>\n",
       "  </g>\n",
       "  <g id=\"4ca9f39b-facb-472a-b8a6-eb913e939e45-molecule\">\n",
       "    <defs>\n",
       "      <g id=\"4ca9f39b-facb-472a-b8a6-eb913e939e45-symbols\" font-size=\"0.50\" font-family=\"sans-serif\">\n",
       "        <text id=\"4ca9f39b-facb-472a-b8a6-eb913e939e45-7\" x=\"4.69\" y=\"0.36\" dx=\"-0.35\" dy=\"0.20\">Na</text>\n",
       "        <text id=\"4ca9f39b-facb-472a-b8a6-eb913e939e45-4\" x=\"4.28\" y=\"-0.36\" dx=\"-0.20\" dy=\"0.20\">N</text>\n",
       "        <text id=\"4ca9f39b-facb-472a-b8a6-eb913e939e45-5\" x=\"3.45\" y=\"-0.36\" dx=\"-0.20\" dy=\"0.20\">N</text>\n",
       "        <text id=\"4ca9f39b-facb-472a-b8a6-eb913e939e45-6\" x=\"2.63\" y=\"-0.36\" dx=\"-0.20\" dy=\"0.20\">N</text>\n",
       "      </g>\n",
       "      <g id=\"4ca9f39b-facb-472a-b8a6-eb913e939e45-attrs\" font-size=\"0.30\" font-family=\"monospace\">\n",
       "        <text x=\"4.28\" y=\"-0.36\" dx=\"0.05\" dy=\"-0.20\">-</text>\n",
       "        <text x=\"3.45\" y=\"-0.36\" dx=\"0.05\" dy=\"-0.20\">+</text>\n",
       "      </g>\n",
       "      <g id=\"4ca9f39b-facb-472a-b8a6-eb913e939e45-mapping\" font-size=\"0.25\" font-family=\"monospace\" text-anchor=\"end\">\n",
       "        <text x=\"4.69\" y=\"0.36\" dx=\"-0.30\" dy=\"0.35\">7</text>\n",
       "        <text x=\"4.28\" y=\"-0.36\" dx=\"-0.15\" dy=\"0.35\">4</text>\n",
       "        <text x=\"3.45\" y=\"-0.36\" dx=\"-0.15\" dy=\"0.35\">5</text>\n",
       "        <text x=\"2.63\" y=\"-0.36\" dx=\"-0.15\" dy=\"0.35\">6</text>\n",
       "      </g>\n",
       "      <mask id=\"4ca9f39b-facb-472a-b8a6-eb913e939e45-mask\">\n",
       "        <rect x=\"-0.62\" y=\"-0.98\" width=\"13.58\" height=\"1.96\" fill=\"white\"/>\n",
       "        <g>\n",
       "          <ellipse cx=\"4.62\" cy=\"0.36\" rx=\"0.35\" ry=\"0.2\"/>\n",
       "          <circle cx=\"4.28\" cy=\"-0.36\" r=\"0.20\"/>\n",
       "          <circle cx=\"3.45\" cy=\"-0.36\" r=\"0.20\"/>\n",
       "          <circle cx=\"2.63\" cy=\"-0.36\" r=\"0.20\"/>\n",
       "        </g>\n",
       "        <g stroke=\"black\">\n",
       "          <use xlink:href=\"#4ca9f39b-facb-472a-b8a6-eb913e939e45-symbols\" stroke-width=\"0.05\"/>\n",
       "          <use xlink:href=\"#4ca9f39b-facb-472a-b8a6-eb913e939e45-attrs\" stroke-width=\"0.03\"/>\n",
       "          <use xlink:href=\"#4ca9f39b-facb-472a-b8a6-eb913e939e45-mapping\" stroke-width=\"0.03\"/>\n",
       "        </g>\n",
       "      </mask>\n",
       "    </defs>\n",
       "    <g fill=\"none\" stroke=\"black\" stroke-width=\"0.04\" mask=\"url(#4ca9f39b-facb-472a-b8a6-eb913e939e45-mask)\">\n",
       "      <line x1=\"4.69\" y1=\"0.36\" x2=\"4.28\" y2=\"-0.36\"/>\n",
       "      <line x1=\"4.28\" y1=\"-0.36\" x2=\"3.45\" y2=\"-0.36\"/>\n",
       "      <line x1=\"3.45\" y1=\"-0.23\" x2=\"2.63\" y2=\"-0.23\"/>\n",
       "      <line x1=\"3.45\" y1=\"-0.36\" x2=\"2.63\" y2=\"-0.36\"/>\n",
       "      <line x1=\"3.45\" y1=\"-0.49\" x2=\"2.63\" y2=\"-0.49\"/>\n",
       "    </g>\n",
       "    <g font-size=\"0.50\" font-family=\"sans-serif\">\n",
       "      <use xlink:href=\"#4ca9f39b-facb-472a-b8a6-eb913e939e45-7\" fill=\"#AB5CF2\"/>\n",
       "      <use xlink:href=\"#4ca9f39b-facb-472a-b8a6-eb913e939e45-4\" fill=\"#3050F8\"/>\n",
       "      <use xlink:href=\"#4ca9f39b-facb-472a-b8a6-eb913e939e45-5\" fill=\"#3050F8\"/>\n",
       "      <use xlink:href=\"#4ca9f39b-facb-472a-b8a6-eb913e939e45-6\" fill=\"#3050F8\"/>\n",
       "    </g>\n",
       "    <use xlink:href=\"#4ca9f39b-facb-472a-b8a6-eb913e939e45-attrs\" fill=\"black\"/>\n",
       "    <use xlink:href=\"#4ca9f39b-facb-472a-b8a6-eb913e939e45-mapping\" fill=\"#0305A7\"/>\n",
       "  </g>\n",
       "  <g id=\"75e44dbe-4fa4-4253-943f-aa5242bf1086-molecule\">\n",
       "    <defs>\n",
       "      <g id=\"75e44dbe-4fa4-4253-943f-aa5242bf1086-symbols\" font-size=\"0.50\" font-family=\"sans-serif\">\n",
       "        <text id=\"75e44dbe-4fa4-4253-943f-aa5242bf1086-6\" x=\"11.58\" y=\"-0.36\" dx=\"-0.20\" dy=\"0.20\">N</text>\n",
       "        <text id=\"75e44dbe-4fa4-4253-943f-aa5242bf1086-5\" x=\"10.75\" y=\"-0.36\" dx=\"-0.20\" dy=\"0.20\">N</text>\n",
       "        <text id=\"75e44dbe-4fa4-4253-943f-aa5242bf1086-4\" x=\"9.93\" y=\"-0.36\" dx=\"-0.20\" dy=\"0.20\">N</text>\n",
       "      </g>\n",
       "      <g id=\"75e44dbe-4fa4-4253-943f-aa5242bf1086-attrs\" font-size=\"0.30\" font-family=\"monospace\">\n",
       "        <text x=\"11.58\" y=\"-0.36\" dx=\"0.05\" dy=\"-0.20\">-</text>\n",
       "        <text x=\"9.93\" y=\"-0.36\" dx=\"0.05\" dy=\"-0.20\">+</text>\n",
       "      </g>\n",
       "      <g id=\"75e44dbe-4fa4-4253-943f-aa5242bf1086-mapping\" font-size=\"0.25\" font-family=\"monospace\" text-anchor=\"end\">\n",
       "        <text x=\"11.58\" y=\"-0.36\" dx=\"-0.15\" dy=\"0.35\">6</text>\n",
       "        <text x=\"10.75\" y=\"-0.36\" dx=\"-0.15\" dy=\"0.35\">5</text>\n",
       "        <text x=\"9.93\" y=\"-0.36\" dx=\"-0.15\" dy=\"0.35\">4</text>\n",
       "        <text x=\"9.10\" y=\"-0.36\" dx=\"-0.05\" dy=\"0.20\">2</text>\n",
       "        <text x=\"8.69\" y=\"0.36\" dx=\"-0.05\" dy=\"0.20\">1</text>\n",
       "      </g>\n",
       "      <mask id=\"75e44dbe-4fa4-4253-943f-aa5242bf1086-mask\">\n",
       "        <rect x=\"-0.62\" y=\"-0.98\" width=\"13.58\" height=\"1.96\" fill=\"white\"/>\n",
       "        <g>\n",
       "          <circle cx=\"11.58\" cy=\"-0.36\" r=\"0.20\"/>\n",
       "          <circle cx=\"10.75\" cy=\"-0.36\" r=\"0.20\"/>\n",
       "          <circle cx=\"9.93\" cy=\"-0.36\" r=\"0.20\"/>\n",
       "        </g>\n",
       "        <g stroke=\"black\">\n",
       "          <use xlink:href=\"#75e44dbe-4fa4-4253-943f-aa5242bf1086-symbols\" stroke-width=\"0.05\"/>\n",
       "          <use xlink:href=\"#75e44dbe-4fa4-4253-943f-aa5242bf1086-attrs\" stroke-width=\"0.03\"/>\n",
       "          <use xlink:href=\"#75e44dbe-4fa4-4253-943f-aa5242bf1086-mapping\" stroke-width=\"0.03\"/>\n",
       "        </g>\n",
       "      </mask>\n",
       "    </defs>\n",
       "    <g fill=\"none\" stroke=\"black\" stroke-width=\"0.04\" mask=\"url(#75e44dbe-4fa4-4253-943f-aa5242bf1086-mask)\">\n",
       "      <line x1=\"11.58\" y1=\"-0.30\" x2=\"10.75\" y2=\"-0.30\"/>\n",
       "      <line x1=\"11.58\" y1=\"-0.42\" x2=\"10.75\" y2=\"-0.42\"/>\n",
       "      <line x1=\"10.75\" y1=\"-0.23\" x2=\"9.93\" y2=\"-0.23\"/>\n",
       "      <line x1=\"10.75\" y1=\"-0.36\" x2=\"9.93\" y2=\"-0.36\"/>\n",
       "      <line x1=\"10.75\" y1=\"-0.49\" x2=\"9.93\" y2=\"-0.49\"/>\n",
       "      <line x1=\"9.93\" y1=\"-0.36\" x2=\"9.10\" y2=\"-0.36\"/>\n",
       "      <line x1=\"9.10\" y1=\"-0.36\" x2=\"8.69\" y2=\"0.36\"/>\n",
       "    </g>\n",
       "    <g font-size=\"0.50\" font-family=\"sans-serif\">\n",
       "      <use xlink:href=\"#75e44dbe-4fa4-4253-943f-aa5242bf1086-6\" fill=\"#3050F8\"/>\n",
       "      <use xlink:href=\"#75e44dbe-4fa4-4253-943f-aa5242bf1086-5\" fill=\"#3050F8\"/>\n",
       "      <use xlink:href=\"#75e44dbe-4fa4-4253-943f-aa5242bf1086-4\" fill=\"#3050F8\"/>\n",
       "    </g>\n",
       "    <use xlink:href=\"#75e44dbe-4fa4-4253-943f-aa5242bf1086-attrs\" fill=\"black\"/>\n",
       "    <use xlink:href=\"#75e44dbe-4fa4-4253-943f-aa5242bf1086-mapping\" fill=\"#0305A7\"/>\n",
       "  </g>\n",
       "</svg>"
      ],
      "text/plain": [
       "<chython.containers.reaction.ReactionContainer at 0x20734f766a0>"
      ]
     },
     "execution_count": 9,
     "metadata": {},
     "output_type": "execute_result"
    }
   ],
   "source": [
    "loads(dumps(r)) # load reaction from Pickle dump"
   ]
  },
  {
   "cell_type": "markdown",
   "metadata": {
    "pycharm": {
     "name": "#%% md\n"
    }
   },
   "source": [
    "## 1.5. Chython binary format (chython pack)\n",
    "\n",
    "Chython introduce new effective format for molecules and reactions, which combine benefits from MDL and SMILES formats.\n",
    "Molecules store 2d-coordinates; tetrahedron, allene and cis-trans stereo; explicit bonds, implicit hydrogen count, atom numbers, radical mark, charge, isotope.\n",
    "\n",
    "Size only 1.5-2 times larger than SMILES. Parsing speed is faster than pickle.\n",
    "Full specification described in source code."
   ]
  },
  {
   "cell_type": "code",
   "execution_count": 10,
   "metadata": {
    "pycharm": {
     "name": "#%%\n"
    }
   },
   "outputs": [],
   "source": [
    "from chython import MoleculeContainer, ReactionContainer\n",
    "\n",
    "b = r.pack()\n",
    "r = ReactionContainer.unpack(b)\n",
    "\n",
    "# same for molecules\n",
    "# MoleculeContainer.unpack(m.pack())"
   ]
  },
  {
   "cell_type": "markdown",
   "metadata": {},
   "source": [
    "## 1.6. Metadata access\n",
    "\n",
    "RDF, SDF, etc - files have metadata which stored in molecules and reactions objects"
   ]
  },
  {
   "cell_type": "code",
   "execution_count": 11,
   "metadata": {},
   "outputs": [
    {
     "data": {
      "text/plain": [
       "{'CdId': '1872',\n",
       " 'solvent': '3',\n",
       " 'temperature': '129.5',\n",
       " 'tabulated_constant': '-6.87'}"
      ]
     },
     "execution_count": 11,
     "metadata": {},
     "output_type": "execute_result"
    }
   ],
   "source": [
    "r = next(RDFRead('example.rdf'))\n",
    "r.meta # dictionary for molecule/reaction properties storage. For example, DTYPE/DATUM fields of RDF file are read into this dictionary"
   ]
  },
  {
   "cell_type": "code",
   "execution_count": 12,
   "metadata": {},
   "outputs": [
    {
     "data": {
      "text/plain": [
       "'reaction title'"
      ]
     },
     "execution_count": 12,
     "metadata": {},
     "output_type": "execute_result"
    }
   ],
   "source": [
    "r.name  # string with reaction title from RDF"
   ]
  },
  {
   "cell_type": "code",
   "execution_count": 13,
   "metadata": {},
   "outputs": [
    {
     "data": {
      "text/plain": [
       "'molecule title'"
      ]
     },
     "execution_count": 13,
     "metadata": {},
     "output_type": "execute_result"
    }
   ],
   "source": [
    "r.reactants[0].name # string with reactant molecule title from MOL"
   ]
  },
  {
   "cell_type": "markdown",
   "metadata": {},
   "source": [
    "## 1.7. Depiction into SVG"
   ]
  },
  {
   "cell_type": "code",
   "execution_count": 14,
   "metadata": {
    "scrolled": true
   },
   "outputs": [
    {
     "data": {
      "text/plain": [
       "'<svg width=\"18.32cm\" height=\"3.39cm\" viewBox=\"-0.62 -1.70 18.32 3.39\" xmlns=\"http://www.w3.org/2000/'"
      ]
     },
     "execution_count": 14,
     "metadata": {},
     "output_type": "execute_result"
    }
   ],
   "source": [
    "r.depict()[:100] # show only part of string"
   ]
  },
  {
   "cell_type": "code",
   "execution_count": 15,
   "metadata": {},
   "outputs": [
    {
     "data": {
      "image/svg+xml": [
       "<svg width=\"18.32cm\" height=\"3.39cm\" viewBox=\"-0.62 -1.70 18.32 3.39\" xmlns=\"http://www.w3.org/2000/svg\" xmlns:xlink=\"http://www.w3.org/1999/xlink\" version=\"1.1\">\n",
       "  <defs>\n",
       "    <marker id=\"arrow\" markerWidth=\"10\" markerHeight=\"10\" refX=\"0\" refY=\"3\" orient=\"auto\">\n",
       "      <path d=\"M0,0 L0,6 L9,3\"/>\n",
       "    </marker>\n",
       "  </defs>\n",
       "  <line x1=\"8.32\" y1=\"0\" x2=\"10.32\" y2=\"0\" fill=\"none\" stroke=\"black\" stroke-width=\".04\" marker-end=\"url(#arrow)\"/>\n",
       "  <g fill=\"none\" stroke=\"black\" stroke-width=\".04\">\n",
       "    <line x1=\"1.98\" y1=\"0\" x2=\"2.28\" y2=\"0\"/>\n",
       "    <line x1=\"2.13\" y1=\"0.15\" x2=\"2.13\" y2=\"-0.15\"/>\n",
       "    <line x1=\"5.24\" y1=\"0\" x2=\"5.54\" y2=\"0\"/>\n",
       "    <line x1=\"5.39\" y1=\"0.15\" x2=\"5.39\" y2=\"-0.15\"/>\n",
       "  </g>\n",
       "  <g id=\"a53ceb43-1602-4867-b237-520f5ab3d068-molecule\">\n",
       "    <defs>\n",
       "      <g id=\"a53ceb43-1602-4867-b237-520f5ab3d068-symbols\" font-size=\"0.50\" font-family=\"sans-serif\">\n",
       "        <text id=\"a53ceb43-1602-4867-b237-520f5ab3d068-1\" x=\"1.43\" y=\"-0.21\" dx=\"-0.20\" dy=\"0.20\">OH</text>\n",
       "      </g>\n",
       "      <g id=\"a53ceb43-1602-4867-b237-520f5ab3d068-mapping\" font-size=\"0.25\" font-family=\"monospace\" text-anchor=\"end\">\n",
       "        <text x=\"0.00\" y=\"-0.21\" dx=\"-0.05\" dy=\"0.20\">3</text>\n",
       "        <text x=\"0.71\" y=\"0.21\" dx=\"-0.05\" dy=\"0.20\">4</text>\n",
       "        <text x=\"1.43\" y=\"-0.21\" dx=\"-0.15\" dy=\"0.35\">1</text>\n",
       "      </g>\n",
       "      <mask id=\"a53ceb43-1602-4867-b237-520f5ab3d068-mask\">\n",
       "        <rect x=\"-0.62\" y=\"-1.70\" width=\"18.32\" height=\"3.39\" fill=\"white\"/>\n",
       "        <g>\n",
       "          <circle cx=\"1.43\" cy=\"-0.21\" r=\"0.20\"/>\n",
       "        </g>\n",
       "        <g stroke=\"black\">\n",
       "          <use xlink:href=\"#a53ceb43-1602-4867-b237-520f5ab3d068-symbols\" stroke-width=\"0.05\"/>\n",
       "          <use xlink:href=\"#a53ceb43-1602-4867-b237-520f5ab3d068-mapping\" stroke-width=\"0.03\"/>\n",
       "        </g>\n",
       "      </mask>\n",
       "    </defs>\n",
       "    <g fill=\"none\" stroke=\"black\" stroke-width=\"0.04\" mask=\"url(#a53ceb43-1602-4867-b237-520f5ab3d068-mask)\">\n",
       "      <line x1=\"0.00\" y1=\"-0.21\" x2=\"0.71\" y2=\"0.21\"/>\n",
       "      <line x1=\"0.71\" y1=\"0.21\" x2=\"1.43\" y2=\"-0.21\"/>\n",
       "    </g>\n",
       "    <g font-size=\"0.50\" font-family=\"sans-serif\">\n",
       "      <use xlink:href=\"#a53ceb43-1602-4867-b237-520f5ab3d068-1\" fill=\"#FF0D0D\"/>\n",
       "    </g>\n",
       "    <use xlink:href=\"#a53ceb43-1602-4867-b237-520f5ab3d068-mapping\" fill=\"#0305A7\"/>\n",
       "  </g>\n",
       "  <g id=\"8f5f4976-0ef2-4ebc-9aec-a1ff55107426-molecule\">\n",
       "    <defs>\n",
       "      <g id=\"8f5f4976-0ef2-4ebc-9aec-a1ff55107426-symbols\" font-size=\"0.50\" font-family=\"sans-serif\">\n",
       "        <text id=\"8f5f4976-0ef2-4ebc-9aec-a1ff55107426-7\" x=\"3.45\" y=\"-1.07\" dx=\"-0.20\" dy=\"0.20\">O</text>\n",
       "        <text id=\"8f5f4976-0ef2-4ebc-9aec-a1ff55107426-8\" x=\"4.69\" y=\"-0.36\" dx=\"-0.20\" dy=\"0.20\">OH</text>\n",
       "        <text id=\"8f5f4976-0ef2-4ebc-9aec-a1ff55107426-9\" x=\"3.87\" y=\"1.07\" dx=\"-0.20\" dy=\"0.20\">O</text>\n",
       "        <text id=\"8f5f4976-0ef2-4ebc-9aec-a1ff55107426-10\" x=\"2.63\" y=\"0.36\" dx=\"-0.20\" dy=\"0.20\">OH</text>\n",
       "      </g>\n",
       "      <g id=\"8f5f4976-0ef2-4ebc-9aec-a1ff55107426-mapping\" font-size=\"0.25\" font-family=\"monospace\" text-anchor=\"end\">\n",
       "        <text x=\"3.87\" y=\"-0.36\" dx=\"-0.05\" dy=\"0.20\">5</text>\n",
       "        <text x=\"3.45\" y=\"0.36\" dx=\"-0.05\" dy=\"0.20\">6</text>\n",
       "        <text x=\"3.45\" y=\"-1.07\" dx=\"-0.15\" dy=\"0.35\">7</text>\n",
       "        <text x=\"4.69\" y=\"-0.36\" dx=\"-0.15\" dy=\"0.35\">8</text>\n",
       "        <text x=\"3.87\" y=\"1.07\" dx=\"-0.15\" dy=\"0.35\">9</text>\n",
       "        <text x=\"2.63\" y=\"0.36\" dx=\"-0.15\" dy=\"0.35\">10</text>\n",
       "      </g>\n",
       "      <mask id=\"8f5f4976-0ef2-4ebc-9aec-a1ff55107426-mask\">\n",
       "        <rect x=\"-0.62\" y=\"-1.70\" width=\"18.32\" height=\"3.39\" fill=\"white\"/>\n",
       "        <g>\n",
       "          <circle cx=\"3.45\" cy=\"-1.07\" r=\"0.20\"/>\n",
       "          <circle cx=\"4.69\" cy=\"-0.36\" r=\"0.20\"/>\n",
       "          <circle cx=\"3.87\" cy=\"1.07\" r=\"0.20\"/>\n",
       "          <circle cx=\"2.63\" cy=\"0.36\" r=\"0.20\"/>\n",
       "        </g>\n",
       "        <g stroke=\"black\">\n",
       "          <use xlink:href=\"#8f5f4976-0ef2-4ebc-9aec-a1ff55107426-symbols\" stroke-width=\"0.05\"/>\n",
       "          <use xlink:href=\"#8f5f4976-0ef2-4ebc-9aec-a1ff55107426-mapping\" stroke-width=\"0.03\"/>\n",
       "        </g>\n",
       "      </mask>\n",
       "    </defs>\n",
       "    <g fill=\"none\" stroke=\"black\" stroke-width=\"0.04\" mask=\"url(#8f5f4976-0ef2-4ebc-9aec-a1ff55107426-mask)\">\n",
       "      <line x1=\"3.87\" y1=\"-0.36\" x2=\"3.45\" y2=\"0.36\"/>\n",
       "      <line x1=\"3.81\" y1=\"-0.33\" x2=\"3.40\" y2=\"-1.04\"/>\n",
       "      <line x1=\"3.92\" y1=\"-0.39\" x2=\"3.51\" y2=\"-1.10\"/>\n",
       "      <line x1=\"3.87\" y1=\"-0.36\" x2=\"4.69\" y2=\"-0.36\"/>\n",
       "      <line x1=\"3.51\" y1=\"0.33\" x2=\"3.92\" y2=\"1.04\"/>\n",
       "      <line x1=\"3.40\" y1=\"0.39\" x2=\"3.81\" y2=\"1.10\"/>\n",
       "      <line x1=\"3.45\" y1=\"0.36\" x2=\"2.63\" y2=\"0.36\"/>\n",
       "    </g>\n",
       "    <g font-size=\"0.50\" font-family=\"sans-serif\">\n",
       "      <use xlink:href=\"#8f5f4976-0ef2-4ebc-9aec-a1ff55107426-7\" fill=\"#FF0D0D\"/>\n",
       "      <use xlink:href=\"#8f5f4976-0ef2-4ebc-9aec-a1ff55107426-8\" fill=\"#FF0D0D\"/>\n",
       "      <use xlink:href=\"#8f5f4976-0ef2-4ebc-9aec-a1ff55107426-9\" fill=\"#FF0D0D\"/>\n",
       "      <use xlink:href=\"#8f5f4976-0ef2-4ebc-9aec-a1ff55107426-10\" fill=\"#FF0D0D\"/>\n",
       "    </g>\n",
       "    <use xlink:href=\"#8f5f4976-0ef2-4ebc-9aec-a1ff55107426-mapping\" fill=\"#0305A7\"/>\n",
       "  </g>\n",
       "  <g id=\"85dfe4a1-c1a9-43f0-ab36-0674dece3571-molecule\">\n",
       "    <defs>\n",
       "      <g id=\"85dfe4a1-c1a9-43f0-ab36-0674dece3571-symbols\" font-size=\"0.50\" font-family=\"sans-serif\">\n",
       "        <text id=\"85dfe4a1-c1a9-43f0-ab36-0674dece3571-2\" x=\"7.32\" y=\"-0.21\" dx=\"-0.20\" dy=\"0.20\">OH</text>\n",
       "      </g>\n",
       "      <g id=\"85dfe4a1-c1a9-43f0-ab36-0674dece3571-mapping\" font-size=\"0.25\" font-family=\"monospace\" text-anchor=\"end\">\n",
       "        <text x=\"6.61\" y=\"0.21\" dx=\"-0.05\" dy=\"0.20\">11</text>\n",
       "        <text x=\"5.89\" y=\"-0.21\" dx=\"-0.05\" dy=\"0.20\">12</text>\n",
       "        <text x=\"7.32\" y=\"-0.21\" dx=\"-0.15\" dy=\"0.35\">2</text>\n",
       "      </g>\n",
       "      <mask id=\"85dfe4a1-c1a9-43f0-ab36-0674dece3571-mask\">\n",
       "        <rect x=\"-0.62\" y=\"-1.70\" width=\"18.32\" height=\"3.39\" fill=\"white\"/>\n",
       "        <g>\n",
       "          <circle cx=\"7.32\" cy=\"-0.21\" r=\"0.20\"/>\n",
       "        </g>\n",
       "        <g stroke=\"black\">\n",
       "          <use xlink:href=\"#85dfe4a1-c1a9-43f0-ab36-0674dece3571-symbols\" stroke-width=\"0.05\"/>\n",
       "          <use xlink:href=\"#85dfe4a1-c1a9-43f0-ab36-0674dece3571-mapping\" stroke-width=\"0.03\"/>\n",
       "        </g>\n",
       "      </mask>\n",
       "    </defs>\n",
       "    <g fill=\"none\" stroke=\"black\" stroke-width=\"0.04\" mask=\"url(#85dfe4a1-c1a9-43f0-ab36-0674dece3571-mask)\">\n",
       "      <line x1=\"6.61\" y1=\"0.21\" x2=\"5.89\" y2=\"-0.21\"/>\n",
       "      <line x1=\"6.61\" y1=\"0.21\" x2=\"7.32\" y2=\"-0.21\"/>\n",
       "    </g>\n",
       "    <g font-size=\"0.50\" font-family=\"sans-serif\">\n",
       "      <use xlink:href=\"#85dfe4a1-c1a9-43f0-ab36-0674dece3571-2\" fill=\"#FF0D0D\"/>\n",
       "    </g>\n",
       "    <use xlink:href=\"#85dfe4a1-c1a9-43f0-ab36-0674dece3571-mapping\" fill=\"#0305A7\"/>\n",
       "  </g>\n",
       "  <g id=\"55689817-2035-4a7e-a79c-ec59f361c28d-molecule\">\n",
       "    <defs>\n",
       "      <g id=\"55689817-2035-4a7e-a79c-ec59f361c28d-symbols\" font-size=\"0.50\" font-family=\"sans-serif\">\n",
       "        <text id=\"55689817-2035-4a7e-a79c-ec59f361c28d-2\" x=\"14.89\" y=\"-0.21\" dx=\"-0.20\" dy=\"0.20\">O</text>\n",
       "        <text id=\"55689817-2035-4a7e-a79c-ec59f361c28d-1\" x=\"12.75\" y=\"0.21\" dx=\"-0.20\" dy=\"0.20\">O</text>\n",
       "        <text id=\"55689817-2035-4a7e-a79c-ec59f361c28d-9\" x=\"13.46\" y=\"-1.03\" dx=\"-0.20\" dy=\"0.20\">O</text>\n",
       "        <text id=\"55689817-2035-4a7e-a79c-ec59f361c28d-7\" x=\"14.18\" y=\"1.03\" dx=\"-0.20\" dy=\"0.20\">O</text>\n",
       "      </g>\n",
       "      <g id=\"55689817-2035-4a7e-a79c-ec59f361c28d-mapping\" font-size=\"0.25\" font-family=\"monospace\" text-anchor=\"end\">\n",
       "        <text x=\"14.18\" y=\"0.21\" dx=\"-0.05\" dy=\"0.20\">5</text>\n",
       "        <text x=\"13.46\" y=\"-0.21\" dx=\"-0.05\" dy=\"0.20\">6</text>\n",
       "        <text x=\"14.89\" y=\"-0.21\" dx=\"-0.15\" dy=\"0.35\">2</text>\n",
       "        <text x=\"12.75\" y=\"0.21\" dx=\"-0.15\" dy=\"0.35\">1</text>\n",
       "        <text x=\"13.46\" y=\"-1.03\" dx=\"-0.15\" dy=\"0.35\">9</text>\n",
       "        <text x=\"14.18\" y=\"1.03\" dx=\"-0.15\" dy=\"0.35\">7</text>\n",
       "        <text x=\"15.61\" y=\"0.21\" dx=\"-0.05\" dy=\"0.20\">11</text>\n",
       "        <text x=\"16.32\" y=\"-0.21\" dx=\"-0.05\" dy=\"0.20\">12</text>\n",
       "        <text x=\"12.03\" y=\"-0.21\" dx=\"-0.05\" dy=\"0.20\">4</text>\n",
       "        <text x=\"11.32\" y=\"0.21\" dx=\"-0.05\" dy=\"0.20\">3</text>\n",
       "      </g>\n",
       "      <mask id=\"55689817-2035-4a7e-a79c-ec59f361c28d-mask\">\n",
       "        <rect x=\"-0.62\" y=\"-1.70\" width=\"18.32\" height=\"3.39\" fill=\"white\"/>\n",
       "        <g>\n",
       "          <circle cx=\"14.89\" cy=\"-0.21\" r=\"0.20\"/>\n",
       "          <circle cx=\"12.75\" cy=\"0.21\" r=\"0.20\"/>\n",
       "          <circle cx=\"13.46\" cy=\"-1.03\" r=\"0.20\"/>\n",
       "          <circle cx=\"14.18\" cy=\"1.03\" r=\"0.20\"/>\n",
       "        </g>\n",
       "        <g stroke=\"black\">\n",
       "          <use xlink:href=\"#55689817-2035-4a7e-a79c-ec59f361c28d-symbols\" stroke-width=\"0.05\"/>\n",
       "          <use xlink:href=\"#55689817-2035-4a7e-a79c-ec59f361c28d-mapping\" stroke-width=\"0.03\"/>\n",
       "        </g>\n",
       "      </mask>\n",
       "    </defs>\n",
       "    <g fill=\"none\" stroke=\"black\" stroke-width=\"0.04\" mask=\"url(#55689817-2035-4a7e-a79c-ec59f361c28d-mask)\">\n",
       "      <line x1=\"14.18\" y1=\"0.21\" x2=\"13.46\" y2=\"-0.21\"/>\n",
       "      <line x1=\"14.18\" y1=\"0.21\" x2=\"14.89\" y2=\"-0.21\"/>\n",
       "      <line x1=\"14.24\" y1=\"0.21\" x2=\"14.24\" y2=\"1.03\"/>\n",
       "      <line x1=\"14.12\" y1=\"0.21\" x2=\"14.12\" y2=\"1.03\"/>\n",
       "      <line x1=\"13.46\" y1=\"-0.21\" x2=\"12.75\" y2=\"0.21\"/>\n",
       "      <line x1=\"13.40\" y1=\"-0.21\" x2=\"13.40\" y2=\"-1.03\"/>\n",
       "      <line x1=\"13.52\" y1=\"-0.21\" x2=\"13.52\" y2=\"-1.03\"/>\n",
       "      <line x1=\"14.89\" y1=\"-0.21\" x2=\"15.61\" y2=\"0.21\"/>\n",
       "      <line x1=\"12.75\" y1=\"0.21\" x2=\"12.03\" y2=\"-0.21\"/>\n",
       "      <line x1=\"15.61\" y1=\"0.21\" x2=\"16.32\" y2=\"-0.21\"/>\n",
       "      <line x1=\"12.03\" y1=\"-0.21\" x2=\"11.32\" y2=\"0.21\"/>\n",
       "    </g>\n",
       "    <g font-size=\"0.50\" font-family=\"sans-serif\">\n",
       "      <use xlink:href=\"#55689817-2035-4a7e-a79c-ec59f361c28d-2\" fill=\"#FF0D0D\"/>\n",
       "      <use xlink:href=\"#55689817-2035-4a7e-a79c-ec59f361c28d-1\" fill=\"#FF0D0D\"/>\n",
       "      <use xlink:href=\"#55689817-2035-4a7e-a79c-ec59f361c28d-9\" fill=\"#FF0D0D\"/>\n",
       "      <use xlink:href=\"#55689817-2035-4a7e-a79c-ec59f361c28d-7\" fill=\"#FF0D0D\"/>\n",
       "    </g>\n",
       "    <use xlink:href=\"#55689817-2035-4a7e-a79c-ec59f361c28d-mapping\" fill=\"#0305A7\"/>\n",
       "  </g>\n",
       "</svg>"
      ],
      "text/plain": [
       "<chython.containers.reaction.ReactionContainer at 0x20734fd4b20>"
      ]
     },
     "execution_count": 15,
     "metadata": {},
     "output_type": "execute_result"
    }
   ],
   "source": [
    "r # Notebooks supported!"
   ]
  },
  {
   "cell_type": "markdown",
   "metadata": {
    "pycharm": {
     "name": "#%% md\n"
    }
   },
   "source": [
    "# 2. Signatures and duplicates selection\n",
    "\n",
    "## 2.1. Molecule Signatures\n",
    "*MoleculeContainer* has methods for unique molecule signature generation.\n",
    "Signature is SMILES string with canonical atoms ordering. Order of atoms calculated by Morgan-like algorithm.\n",
    "\n",
    "For signature generation one need to call `str` function on MoleculeContainer object.\n",
    "Fixed length hash of signature could be retrieved by calling `bytes` function on molecule (correspond to SHA 512 bitstring).\n",
    "\n",
    "Next string formatting keys supported:\n",
    "\n",
    "a - Generate asymmetric closures.\n",
    "!s - Disable stereo marks.\n",
    "A - Use aromatic bonds instead aromatic atoms.\n",
    "m - Set atom mapping.\n",
    "r - Generate random-ordered smiles.\n",
    "h - Show implicit hydrogens.\n",
    "!b - Disable bonds tokens."
   ]
  },
  {
   "cell_type": "code",
   "execution_count": 16,
   "metadata": {
    "pycharm": {
     "name": "#%%\n"
    }
   },
   "outputs": [
    {
     "name": "stdout",
     "output_type": "stream",
     "text": [
      "c1ccccc1C=2C=CC=CC=2[C@H](O)C\n",
      "f string c1ccccc1C=2C=CC=CC=2[C@H](O)C\n",
      "C-style string c1ccccc1C=2C=CC=CC=2[C@H](O)C\n",
      "format method c1ccccc1C=2C=CC=CC=2[C@H](O)C\n",
      "C:1:C:C:C:C:C:1C=2C=CC=CC=2[C@H](O)C\n",
      "[c]1[c][c][c][c][c]1[C]2[CH][CH][CH][CH][C]2[C@H]([OH])[CH3]\n"
     ]
    }
   ],
   "source": [
    "from chython import smiles  # smiles string parser\n",
    "\n",
    "m = smiles('c1ccccc1C=2C=CC=CC=2[C@H](O)C')\n",
    "str(m) # signature\n",
    "bytes(m) # cryptographic signature hash\n",
    "hash(m) # runtime-dependent signature hash. See Python str hash behavior\n",
    "\n",
    "print(m)\n",
    "print(f'f string {m}')  # use signature in string formatting\n",
    "print('C-style string %s' % m)\n",
    "print('format method {}'.format(m))\n",
    "print(f'{m:A}')\n",
    "print(f'{m:h!b}') # combination supported"
   ]
  },
  {
   "cell_type": "markdown",
   "metadata": {
    "pycharm": {
     "name": "#%% md\n"
    }
   },
   "source": [
    "Molecules comparable and hashable\n",
    "\n",
    "Comparison of MoleculeContainer is based on its signatures. Moreover, since strings in Python are hashable, MoleculeContaier also hashable.\n",
    "\n",
    "NOTE: MoleculeContainer can be changed. This can lead to unobvious behavior of the sets and dictionaries in which these molecules were placed before the change. Avoid changing molecules (standardize, aromatize, hydrogens and atoms/bonds changes) placed inside sets and dictionaries."
   ]
  },
  {
   "cell_type": "code",
   "execution_count": 17,
   "metadata": {
    "pycharm": {
     "name": "#%%\n"
    }
   },
   "outputs": [
    {
     "data": {
      "text/plain": [
       "True"
      ]
     },
     "execution_count": 17,
     "metadata": {},
     "output_type": "execute_result"
    }
   ],
   "source": [
    "m != smiles('c1ccccc1')"
   ]
  },
  {
   "cell_type": "code",
   "execution_count": 18,
   "metadata": {
    "pycharm": {
     "name": "#%%\n"
    }
   },
   "outputs": [
    {
     "data": {
      "text/plain": [
       "True"
      ]
     },
     "execution_count": 18,
     "metadata": {},
     "output_type": "execute_result"
    }
   ],
   "source": [
    "# Simplest way to exclude duplicated structures\n",
    "len({m, m, smiles('c1ccccc1')}) == 2 # create set of unique molecules. Only 2 of them were different."
   ]
  },
  {
   "cell_type": "markdown",
   "metadata": {
    "pycharm": {
     "name": "#%% md\n"
    }
   },
   "source": [
    "## 2.2. Reaction signatures\n",
    "ReactionContainer have its signature. Signature is SMIRKS string in which molecules of reactants, reagents, products presented in canonical order.\n",
    "\n",
    "API is the same as for molecules\n",
    "\n",
    "Next extra formatting keys supported:\n",
    "\n",
    "!c - Keep nested containers order\n",
    "!C - skip cxsmiles fragments contract"
   ]
  },
  {
   "cell_type": "code",
   "execution_count": 19,
   "metadata": {
    "pycharm": {
     "name": "#%%\n"
    }
   },
   "outputs": [
    {
     "name": "stdout",
     "output_type": "stream",
     "text": [
      "C(C(=O)O)(=O)O.C(C)O.C(C)O>>CCOC(=O)C(OCC)=O\n"
     ]
    }
   ],
   "source": [
    "print(r)"
   ]
  },
  {
   "cell_type": "code",
   "execution_count": 20,
   "metadata": {
    "pycharm": {
     "name": "#%%\n"
    }
   },
   "outputs": [
    {
     "data": {
      "text/plain": [
       "'C(C)O.C(C(=O)O)(=O)O.C(C)O>>CCOC(=O)C(OCC)=O'"
      ]
     },
     "execution_count": 20,
     "metadata": {},
     "output_type": "execute_result"
    }
   ],
   "source": [
    "format(r, '!c')"
   ]
  },
  {
   "cell_type": "markdown",
   "metadata": {
    "pycharm": {
     "name": "#%% md\n"
    }
   },
   "source": [
    "# 3. Structure standardization\n",
    "\n",
    "## 3.1. Molecules\n",
    "\n",
    "MoleculeContainer has `standardize`, `kekule`, `thiele`, `neutralize`, `implicify_hydrogens`, `explicify_hidrogens` and `canonicalize` methods.\n",
    "\n",
    "Method `thiele` transforms Kekule representation of rings into aromatized.\n",
    "Method `standardize` applies functional group standardization rules to molecules (more than 80 rules).\n",
    "\n",
    "Method `canonicalize` apply set of methods: `neutralize`, `standardize`, `kekule`, `implicify_hydrogens`, `thiele`"
   ]
  },
  {
   "cell_type": "code",
   "execution_count": 21,
   "metadata": {
    "pycharm": {
     "name": "#%%\n"
    }
   },
   "outputs": [
    {
     "data": {
      "image/svg+xml": [
       "<svg width=\"4.89cm\" height=\"2.68cm\" viewBox=\"-2.27 -0.63 4.89 2.68\" xmlns=\"http://www.w3.org/2000/svg\" xmlns:xlink=\"http://www.w3.org/1999/xlink\" version=\"1.1\">\n",
       "  <g id=\"a421b275-352c-4c5b-b939-4ae3c9ea7c07-molecule\">\n",
       "    <defs>\n",
       "      <g id=\"a421b275-352c-4c5b-b939-4ae3c9ea7c07-symbols\" font-size=\"0.50\" font-family=\"sans-serif\">\n",
       "        <text id=\"a421b275-352c-4c5b-b939-4ae3c9ea7c07-7\" x=\"-1.24\" y=\"0.71\" dx=\"-0.20\" dy=\"0.20\">N</text>\n",
       "        <text id=\"a421b275-352c-4c5b-b939-4ae3c9ea7c07-8\" x=\"-1.65\" y=\"1.43\" dx=\"-0.20\" dy=\"0.20\">O</text>\n",
       "        <text id=\"a421b275-352c-4c5b-b939-4ae3c9ea7c07-9\" x=\"-1.65\" y=\"-0.00\" dx=\"-0.20\" dy=\"0.20\">O</text>\n",
       "      </g>\n",
       "      <g id=\"a421b275-352c-4c5b-b939-4ae3c9ea7c07-mapping\" font-size=\"0.25\" font-family=\"monospace\" text-anchor=\"end\">\n",
       "        <text x=\"0.00\" y=\"1.43\" dx=\"-0.05\" dy=\"0.20\">1</text>\n",
       "        <text x=\"0.83\" y=\"1.43\" dx=\"-0.05\" dy=\"0.20\">2</text>\n",
       "        <text x=\"1.24\" y=\"0.71\" dx=\"-0.05\" dy=\"0.20\">3</text>\n",
       "        <text x=\"0.83\" y=\"-0.00\" dx=\"-0.05\" dy=\"0.20\">4</text>\n",
       "        <text x=\"0.00\" y=\"-0.00\" dx=\"-0.05\" dy=\"0.20\">5</text>\n",
       "        <text x=\"-0.41\" y=\"0.71\" dx=\"-0.05\" dy=\"0.20\">6</text>\n",
       "        <text x=\"-1.24\" y=\"0.71\" dx=\"-0.15\" dy=\"0.35\">7</text>\n",
       "        <text x=\"-1.65\" y=\"1.43\" dx=\"-0.15\" dy=\"0.35\">8</text>\n",
       "        <text x=\"-1.65\" y=\"-0.00\" dx=\"-0.15\" dy=\"0.35\">9</text>\n",
       "      </g>\n",
       "      <mask id=\"a421b275-352c-4c5b-b939-4ae3c9ea7c07-mask\">\n",
       "        <rect x=\"-2.27\" y=\"-0.63\" width=\"4.89\" height=\"2.68\" fill=\"white\"/>\n",
       "        <g>\n",
       "          <circle cx=\"-1.24\" cy=\"0.71\" r=\"0.20\"/>\n",
       "          <circle cx=\"-1.65\" cy=\"1.43\" r=\"0.20\"/>\n",
       "          <circle cx=\"-1.65\" cy=\"-0.00\" r=\"0.20\"/>\n",
       "        </g>\n",
       "        <g stroke=\"black\">\n",
       "          <use xlink:href=\"#a421b275-352c-4c5b-b939-4ae3c9ea7c07-symbols\" stroke-width=\"0.05\"/>\n",
       "          <use xlink:href=\"#a421b275-352c-4c5b-b939-4ae3c9ea7c07-mapping\" stroke-width=\"0.03\"/>\n",
       "        </g>\n",
       "      </mask>\n",
       "    </defs>\n",
       "    <g fill=\"none\" stroke=\"black\" stroke-width=\"0.04\" mask=\"url(#a421b275-352c-4c5b-b939-4ae3c9ea7c07-mask)\">\n",
       "      <line x1=\"0.00\" y1=\"1.43\" x2=\"0.83\" y2=\"1.43\"/>\n",
       "      <line x1=\"0.00\" y1=\"1.43\" x2=\"-0.41\" y2=\"0.71\"/>\n",
       "      <line x1=\"0.83\" y1=\"1.43\" x2=\"1.24\" y2=\"0.71\"/>\n",
       "      <line x1=\"1.24\" y1=\"0.71\" x2=\"0.83\" y2=\"-0.00\"/>\n",
       "      <line x1=\"0.83\" y1=\"-0.00\" x2=\"0.00\" y2=\"-0.00\"/>\n",
       "      <line x1=\"0.00\" y1=\"-0.00\" x2=\"-0.41\" y2=\"0.71\"/>\n",
       "      <line x1=\"-0.41\" y1=\"0.71\" x2=\"-1.24\" y2=\"0.71\"/>\n",
       "      <line x1=\"-1.19\" y1=\"0.74\" x2=\"-1.60\" y2=\"1.46\"/>\n",
       "      <line x1=\"-1.29\" y1=\"0.68\" x2=\"-1.70\" y2=\"1.40\"/>\n",
       "      <line x1=\"-1.29\" y1=\"0.74\" x2=\"-1.70\" y2=\"0.03\"/>\n",
       "      <line x1=\"-1.19\" y1=\"0.68\" x2=\"-1.60\" y2=\"-0.03\"/>\n",
       "      <line x1=\"0.08\" y1=\"1.29\" x2=\"0.74\" y2=\"1.29\" stroke-dasharray=\"0.15 0.05\"/>\n",
       "      <line x1=\"0.74\" y1=\"1.29\" x2=\"1.08\" y2=\"0.71\" stroke-dasharray=\"0.15 0.05\"/>\n",
       "      <line x1=\"1.08\" y1=\"0.71\" x2=\"0.74\" y2=\"0.14\" stroke-dasharray=\"0.15 0.05\"/>\n",
       "      <line x1=\"0.74\" y1=\"0.14\" x2=\"0.08\" y2=\"0.14\" stroke-dasharray=\"0.15 0.05\"/>\n",
       "      <line x1=\"0.08\" y1=\"0.14\" x2=\"-0.25\" y2=\"0.71\" stroke-dasharray=\"0.15 0.05\"/>\n",
       "      <line x1=\"-0.25\" y1=\"0.71\" x2=\"0.08\" y2=\"1.29\" stroke-dasharray=\"0.15 0.05\"/>\n",
       "    </g>\n",
       "    <g font-size=\"0.50\" font-family=\"sans-serif\">\n",
       "      <use xlink:href=\"#a421b275-352c-4c5b-b939-4ae3c9ea7c07-7\" fill=\"#3050F8\"/>\n",
       "      <use xlink:href=\"#a421b275-352c-4c5b-b939-4ae3c9ea7c07-8\" fill=\"#FF0D0D\"/>\n",
       "      <use xlink:href=\"#a421b275-352c-4c5b-b939-4ae3c9ea7c07-9\" fill=\"#FF0D0D\"/>\n",
       "    </g>\n",
       "    <use xlink:href=\"#a421b275-352c-4c5b-b939-4ae3c9ea7c07-mapping\" fill=\"#0305A7\"/>\n",
       "  </g>\n",
       "</svg>"
      ],
      "text/plain": [
       "<chython.containers.molecule.MoleculeContainer at 0x20734fec180>"
      ]
     },
     "execution_count": 21,
     "metadata": {},
     "output_type": "execute_result"
    }
   ],
   "source": [
    "m = smiles('c1ccccc1N(=O)=O')\n",
    "m.clean2d()  # calculate 2d layout\n",
    "m #  depict"
   ]
  },
  {
   "cell_type": "code",
   "execution_count": 22,
   "metadata": {
    "pycharm": {
     "name": "#%%\n"
    }
   },
   "outputs": [
    {
     "data": {
      "image/svg+xml": [
       "<svg width=\"4.89cm\" height=\"2.68cm\" viewBox=\"-2.27 -0.63 4.89 2.68\" xmlns=\"http://www.w3.org/2000/svg\" xmlns:xlink=\"http://www.w3.org/1999/xlink\" version=\"1.1\">\n",
       "  <g id=\"1d1e25e0-f5fc-4b92-8597-77e57a56e533-molecule\">\n",
       "    <defs>\n",
       "      <g id=\"1d1e25e0-f5fc-4b92-8597-77e57a56e533-symbols\" font-size=\"0.50\" font-family=\"sans-serif\">\n",
       "        <text id=\"1d1e25e0-f5fc-4b92-8597-77e57a56e533-7\" x=\"-1.24\" y=\"0.71\" dx=\"-0.20\" dy=\"0.20\">N</text>\n",
       "        <text id=\"1d1e25e0-f5fc-4b92-8597-77e57a56e533-8\" x=\"-1.65\" y=\"1.43\" dx=\"-0.20\" dy=\"0.20\">O</text>\n",
       "        <text id=\"1d1e25e0-f5fc-4b92-8597-77e57a56e533-9\" x=\"-1.65\" y=\"-0.00\" dx=\"-0.20\" dy=\"0.20\">O</text>\n",
       "      </g>\n",
       "      <g id=\"1d1e25e0-f5fc-4b92-8597-77e57a56e533-mapping\" font-size=\"0.25\" font-family=\"monospace\" text-anchor=\"end\">\n",
       "        <text x=\"0.00\" y=\"1.43\" dx=\"-0.05\" dy=\"0.20\">1</text>\n",
       "        <text x=\"0.83\" y=\"1.43\" dx=\"-0.05\" dy=\"0.20\">2</text>\n",
       "        <text x=\"1.24\" y=\"0.71\" dx=\"-0.05\" dy=\"0.20\">3</text>\n",
       "        <text x=\"0.83\" y=\"-0.00\" dx=\"-0.05\" dy=\"0.20\">4</text>\n",
       "        <text x=\"0.00\" y=\"-0.00\" dx=\"-0.05\" dy=\"0.20\">5</text>\n",
       "        <text x=\"-0.41\" y=\"0.71\" dx=\"-0.05\" dy=\"0.20\">6</text>\n",
       "        <text x=\"-1.24\" y=\"0.71\" dx=\"-0.15\" dy=\"0.35\">7</text>\n",
       "        <text x=\"-1.65\" y=\"1.43\" dx=\"-0.15\" dy=\"0.35\">8</text>\n",
       "        <text x=\"-1.65\" y=\"-0.00\" dx=\"-0.15\" dy=\"0.35\">9</text>\n",
       "      </g>\n",
       "      <mask id=\"1d1e25e0-f5fc-4b92-8597-77e57a56e533-mask\">\n",
       "        <rect x=\"-2.27\" y=\"-0.63\" width=\"4.89\" height=\"2.68\" fill=\"white\"/>\n",
       "        <g>\n",
       "          <circle cx=\"-1.24\" cy=\"0.71\" r=\"0.20\"/>\n",
       "          <circle cx=\"-1.65\" cy=\"1.43\" r=\"0.20\"/>\n",
       "          <circle cx=\"-1.65\" cy=\"-0.00\" r=\"0.20\"/>\n",
       "        </g>\n",
       "        <g stroke=\"black\">\n",
       "          <use xlink:href=\"#1d1e25e0-f5fc-4b92-8597-77e57a56e533-symbols\" stroke-width=\"0.05\"/>\n",
       "          <use xlink:href=\"#1d1e25e0-f5fc-4b92-8597-77e57a56e533-mapping\" stroke-width=\"0.03\"/>\n",
       "        </g>\n",
       "      </mask>\n",
       "    </defs>\n",
       "    <g fill=\"none\" stroke=\"black\" stroke-width=\"0.04\" mask=\"url(#1d1e25e0-f5fc-4b92-8597-77e57a56e533-mask)\">\n",
       "      <line x1=\"0.00\" y1=\"1.37\" x2=\"0.83\" y2=\"1.37\"/>\n",
       "      <line x1=\"0.00\" y1=\"1.49\" x2=\"0.83\" y2=\"1.49\"/>\n",
       "      <line x1=\"0.00\" y1=\"1.43\" x2=\"-0.41\" y2=\"0.71\"/>\n",
       "      <line x1=\"0.83\" y1=\"1.43\" x2=\"1.24\" y2=\"0.71\"/>\n",
       "      <line x1=\"1.19\" y1=\"0.74\" x2=\"0.77\" y2=\"0.03\"/>\n",
       "      <line x1=\"1.29\" y1=\"0.68\" x2=\"0.88\" y2=\"-0.03\"/>\n",
       "      <line x1=\"0.83\" y1=\"-0.00\" x2=\"0.00\" y2=\"-0.00\"/>\n",
       "      <line x1=\"0.05\" y1=\"0.03\" x2=\"-0.36\" y2=\"0.74\"/>\n",
       "      <line x1=\"-0.05\" y1=\"-0.03\" x2=\"-0.46\" y2=\"0.68\"/>\n",
       "      <line x1=\"-0.41\" y1=\"0.71\" x2=\"-1.24\" y2=\"0.71\"/>\n",
       "      <line x1=\"-1.19\" y1=\"0.74\" x2=\"-1.60\" y2=\"1.46\"/>\n",
       "      <line x1=\"-1.29\" y1=\"0.68\" x2=\"-1.70\" y2=\"1.40\"/>\n",
       "      <line x1=\"-1.29\" y1=\"0.74\" x2=\"-1.70\" y2=\"0.03\"/>\n",
       "      <line x1=\"-1.19\" y1=\"0.68\" x2=\"-1.60\" y2=\"-0.03\"/>\n",
       "    </g>\n",
       "    <g font-size=\"0.50\" font-family=\"sans-serif\">\n",
       "      <use xlink:href=\"#1d1e25e0-f5fc-4b92-8597-77e57a56e533-7\" fill=\"#3050F8\"/>\n",
       "      <use xlink:href=\"#1d1e25e0-f5fc-4b92-8597-77e57a56e533-8\" fill=\"#FF0D0D\"/>\n",
       "      <use xlink:href=\"#1d1e25e0-f5fc-4b92-8597-77e57a56e533-9\" fill=\"#FF0D0D\"/>\n",
       "    </g>\n",
       "    <use xlink:href=\"#1d1e25e0-f5fc-4b92-8597-77e57a56e533-mapping\" fill=\"#0305A7\"/>\n",
       "  </g>\n",
       "</svg>"
      ],
      "text/plain": [
       "<chython.containers.molecule.MoleculeContainer at 0x20734fec180>"
      ]
     },
     "execution_count": 22,
     "metadata": {},
     "output_type": "execute_result"
    }
   ],
   "source": [
    "m.kekule()  # transform to kekule form\n",
    "m"
   ]
  },
  {
   "cell_type": "code",
   "execution_count": 23,
   "metadata": {
    "pycharm": {
     "name": "#%%\n"
    }
   },
   "outputs": [
    {
     "data": {
      "image/svg+xml": [
       "<svg width=\"4.89cm\" height=\"2.68cm\" viewBox=\"-2.27 -0.63 4.89 2.68\" xmlns=\"http://www.w3.org/2000/svg\" xmlns:xlink=\"http://www.w3.org/1999/xlink\" version=\"1.1\">\n",
       "  <g id=\"fa5ed06e-e5fa-4a9a-8c27-66576ac4a5b8-molecule\">\n",
       "    <defs>\n",
       "      <g id=\"fa5ed06e-e5fa-4a9a-8c27-66576ac4a5b8-symbols\" font-size=\"0.50\" font-family=\"sans-serif\">\n",
       "        <text id=\"fa5ed06e-e5fa-4a9a-8c27-66576ac4a5b8-7\" x=\"-1.24\" y=\"0.71\" dx=\"-0.20\" dy=\"0.20\">N</text>\n",
       "        <text id=\"fa5ed06e-e5fa-4a9a-8c27-66576ac4a5b8-8\" x=\"-1.65\" y=\"1.43\" dx=\"-0.20\" dy=\"0.20\">O</text>\n",
       "        <text id=\"fa5ed06e-e5fa-4a9a-8c27-66576ac4a5b8-9\" x=\"-1.65\" y=\"-0.00\" dx=\"-0.20\" dy=\"0.20\">O</text>\n",
       "      </g>\n",
       "      <g id=\"fa5ed06e-e5fa-4a9a-8c27-66576ac4a5b8-attrs\" font-size=\"0.30\" font-family=\"monospace\">\n",
       "        <text x=\"-1.24\" y=\"0.71\" dx=\"0.05\" dy=\"-0.20\">+</text>\n",
       "        <text x=\"-1.65\" y=\"1.43\" dx=\"0.05\" dy=\"-0.20\">-</text>\n",
       "      </g>\n",
       "      <g id=\"fa5ed06e-e5fa-4a9a-8c27-66576ac4a5b8-mapping\" font-size=\"0.25\" font-family=\"monospace\" text-anchor=\"end\">\n",
       "        <text x=\"0.00\" y=\"1.43\" dx=\"-0.05\" dy=\"0.20\">1</text>\n",
       "        <text x=\"0.83\" y=\"1.43\" dx=\"-0.05\" dy=\"0.20\">2</text>\n",
       "        <text x=\"1.24\" y=\"0.71\" dx=\"-0.05\" dy=\"0.20\">3</text>\n",
       "        <text x=\"0.83\" y=\"-0.00\" dx=\"-0.05\" dy=\"0.20\">4</text>\n",
       "        <text x=\"0.00\" y=\"-0.00\" dx=\"-0.05\" dy=\"0.20\">5</text>\n",
       "        <text x=\"-0.41\" y=\"0.71\" dx=\"-0.05\" dy=\"0.20\">6</text>\n",
       "        <text x=\"-1.24\" y=\"0.71\" dx=\"-0.15\" dy=\"0.35\">7</text>\n",
       "        <text x=\"-1.65\" y=\"1.43\" dx=\"-0.15\" dy=\"0.35\">8</text>\n",
       "        <text x=\"-1.65\" y=\"-0.00\" dx=\"-0.15\" dy=\"0.35\">9</text>\n",
       "      </g>\n",
       "      <mask id=\"fa5ed06e-e5fa-4a9a-8c27-66576ac4a5b8-mask\">\n",
       "        <rect x=\"-2.27\" y=\"-0.63\" width=\"4.89\" height=\"2.68\" fill=\"white\"/>\n",
       "        <g>\n",
       "          <circle cx=\"-1.24\" cy=\"0.71\" r=\"0.20\"/>\n",
       "          <circle cx=\"-1.65\" cy=\"1.43\" r=\"0.20\"/>\n",
       "          <circle cx=\"-1.65\" cy=\"-0.00\" r=\"0.20\"/>\n",
       "        </g>\n",
       "        <g stroke=\"black\">\n",
       "          <use xlink:href=\"#fa5ed06e-e5fa-4a9a-8c27-66576ac4a5b8-symbols\" stroke-width=\"0.05\"/>\n",
       "          <use xlink:href=\"#fa5ed06e-e5fa-4a9a-8c27-66576ac4a5b8-attrs\" stroke-width=\"0.03\"/>\n",
       "          <use xlink:href=\"#fa5ed06e-e5fa-4a9a-8c27-66576ac4a5b8-mapping\" stroke-width=\"0.03\"/>\n",
       "        </g>\n",
       "      </mask>\n",
       "    </defs>\n",
       "    <g fill=\"none\" stroke=\"black\" stroke-width=\"0.04\" mask=\"url(#fa5ed06e-e5fa-4a9a-8c27-66576ac4a5b8-mask)\">\n",
       "      <line x1=\"0.00\" y1=\"1.37\" x2=\"0.83\" y2=\"1.37\"/>\n",
       "      <line x1=\"0.00\" y1=\"1.49\" x2=\"0.83\" y2=\"1.49\"/>\n",
       "      <line x1=\"0.00\" y1=\"1.43\" x2=\"-0.41\" y2=\"0.71\"/>\n",
       "      <line x1=\"0.83\" y1=\"1.43\" x2=\"1.24\" y2=\"0.71\"/>\n",
       "      <line x1=\"1.19\" y1=\"0.74\" x2=\"0.77\" y2=\"0.03\"/>\n",
       "      <line x1=\"1.29\" y1=\"0.68\" x2=\"0.88\" y2=\"-0.03\"/>\n",
       "      <line x1=\"0.83\" y1=\"-0.00\" x2=\"0.00\" y2=\"-0.00\"/>\n",
       "      <line x1=\"0.05\" y1=\"0.03\" x2=\"-0.36\" y2=\"0.74\"/>\n",
       "      <line x1=\"-0.05\" y1=\"-0.03\" x2=\"-0.46\" y2=\"0.68\"/>\n",
       "      <line x1=\"-0.41\" y1=\"0.71\" x2=\"-1.24\" y2=\"0.71\"/>\n",
       "      <line x1=\"-1.24\" y1=\"0.71\" x2=\"-1.65\" y2=\"1.43\"/>\n",
       "      <line x1=\"-1.29\" y1=\"0.74\" x2=\"-1.70\" y2=\"0.03\"/>\n",
       "      <line x1=\"-1.19\" y1=\"0.68\" x2=\"-1.60\" y2=\"-0.03\"/>\n",
       "    </g>\n",
       "    <g font-size=\"0.50\" font-family=\"sans-serif\">\n",
       "      <use xlink:href=\"#fa5ed06e-e5fa-4a9a-8c27-66576ac4a5b8-7\" fill=\"#3050F8\"/>\n",
       "      <use xlink:href=\"#fa5ed06e-e5fa-4a9a-8c27-66576ac4a5b8-8\" fill=\"#FF0D0D\"/>\n",
       "      <use xlink:href=\"#fa5ed06e-e5fa-4a9a-8c27-66576ac4a5b8-9\" fill=\"#FF0D0D\"/>\n",
       "    </g>\n",
       "    <use xlink:href=\"#fa5ed06e-e5fa-4a9a-8c27-66576ac4a5b8-attrs\" fill=\"black\"/>\n",
       "    <use xlink:href=\"#fa5ed06e-e5fa-4a9a-8c27-66576ac4a5b8-mapping\" fill=\"#0305A7\"/>\n",
       "  </g>\n",
       "</svg>"
      ],
      "text/plain": [
       "<chython.containers.molecule.MoleculeContainer at 0x20734fec180>"
      ]
     },
     "execution_count": 23,
     "metadata": {},
     "output_type": "execute_result"
    }
   ],
   "source": [
    "m.standardize() # fix groups\n",
    "m"
   ]
  },
  {
   "cell_type": "code",
   "execution_count": 24,
   "metadata": {
    "pycharm": {
     "name": "#%%\n"
    }
   },
   "outputs": [
    {
     "data": {
      "image/svg+xml": [
       "<svg width=\"4.89cm\" height=\"2.68cm\" viewBox=\"-2.27 -0.63 4.89 2.68\" xmlns=\"http://www.w3.org/2000/svg\" xmlns:xlink=\"http://www.w3.org/1999/xlink\" version=\"1.1\">\n",
       "  <g id=\"d67cf6e4-44b7-4ad3-a1f5-8a21ac7b8b99-molecule\">\n",
       "    <defs>\n",
       "      <g id=\"d67cf6e4-44b7-4ad3-a1f5-8a21ac7b8b99-symbols\" font-size=\"0.50\" font-family=\"sans-serif\">\n",
       "        <text id=\"d67cf6e4-44b7-4ad3-a1f5-8a21ac7b8b99-7\" x=\"-1.24\" y=\"0.71\" dx=\"-0.20\" dy=\"0.20\">N</text>\n",
       "        <text id=\"d67cf6e4-44b7-4ad3-a1f5-8a21ac7b8b99-8\" x=\"-1.65\" y=\"1.43\" dx=\"-0.20\" dy=\"0.20\">O</text>\n",
       "        <text id=\"d67cf6e4-44b7-4ad3-a1f5-8a21ac7b8b99-9\" x=\"-1.65\" y=\"-0.00\" dx=\"-0.20\" dy=\"0.20\">O</text>\n",
       "      </g>\n",
       "      <g id=\"d67cf6e4-44b7-4ad3-a1f5-8a21ac7b8b99-attrs\" font-size=\"0.30\" font-family=\"monospace\">\n",
       "        <text x=\"-1.24\" y=\"0.71\" dx=\"0.05\" dy=\"-0.20\">+</text>\n",
       "        <text x=\"-1.65\" y=\"1.43\" dx=\"0.05\" dy=\"-0.20\">-</text>\n",
       "      </g>\n",
       "      <g id=\"d67cf6e4-44b7-4ad3-a1f5-8a21ac7b8b99-mapping\" font-size=\"0.25\" font-family=\"monospace\" text-anchor=\"end\">\n",
       "        <text x=\"0.00\" y=\"1.43\" dx=\"-0.05\" dy=\"0.20\">1</text>\n",
       "        <text x=\"0.83\" y=\"1.43\" dx=\"-0.05\" dy=\"0.20\">2</text>\n",
       "        <text x=\"1.24\" y=\"0.71\" dx=\"-0.05\" dy=\"0.20\">3</text>\n",
       "        <text x=\"0.83\" y=\"-0.00\" dx=\"-0.05\" dy=\"0.20\">4</text>\n",
       "        <text x=\"0.00\" y=\"-0.00\" dx=\"-0.05\" dy=\"0.20\">5</text>\n",
       "        <text x=\"-0.41\" y=\"0.71\" dx=\"-0.05\" dy=\"0.20\">6</text>\n",
       "        <text x=\"-1.24\" y=\"0.71\" dx=\"-0.15\" dy=\"0.35\">7</text>\n",
       "        <text x=\"-1.65\" y=\"1.43\" dx=\"-0.15\" dy=\"0.35\">8</text>\n",
       "        <text x=\"-1.65\" y=\"-0.00\" dx=\"-0.15\" dy=\"0.35\">9</text>\n",
       "      </g>\n",
       "      <mask id=\"d67cf6e4-44b7-4ad3-a1f5-8a21ac7b8b99-mask\">\n",
       "        <rect x=\"-2.27\" y=\"-0.63\" width=\"4.89\" height=\"2.68\" fill=\"white\"/>\n",
       "        <g>\n",
       "          <circle cx=\"-1.24\" cy=\"0.71\" r=\"0.20\"/>\n",
       "          <circle cx=\"-1.65\" cy=\"1.43\" r=\"0.20\"/>\n",
       "          <circle cx=\"-1.65\" cy=\"-0.00\" r=\"0.20\"/>\n",
       "        </g>\n",
       "        <g stroke=\"black\">\n",
       "          <use xlink:href=\"#d67cf6e4-44b7-4ad3-a1f5-8a21ac7b8b99-symbols\" stroke-width=\"0.05\"/>\n",
       "          <use xlink:href=\"#d67cf6e4-44b7-4ad3-a1f5-8a21ac7b8b99-attrs\" stroke-width=\"0.03\"/>\n",
       "          <use xlink:href=\"#d67cf6e4-44b7-4ad3-a1f5-8a21ac7b8b99-mapping\" stroke-width=\"0.03\"/>\n",
       "        </g>\n",
       "      </mask>\n",
       "    </defs>\n",
       "    <g fill=\"none\" stroke=\"black\" stroke-width=\"0.04\" mask=\"url(#d67cf6e4-44b7-4ad3-a1f5-8a21ac7b8b99-mask)\">\n",
       "      <line x1=\"0.00\" y1=\"1.43\" x2=\"0.83\" y2=\"1.43\"/>\n",
       "      <line x1=\"0.00\" y1=\"1.43\" x2=\"-0.41\" y2=\"0.71\"/>\n",
       "      <line x1=\"0.83\" y1=\"1.43\" x2=\"1.24\" y2=\"0.71\"/>\n",
       "      <line x1=\"1.24\" y1=\"0.71\" x2=\"0.83\" y2=\"-0.00\"/>\n",
       "      <line x1=\"0.83\" y1=\"-0.00\" x2=\"0.00\" y2=\"-0.00\"/>\n",
       "      <line x1=\"0.00\" y1=\"-0.00\" x2=\"-0.41\" y2=\"0.71\"/>\n",
       "      <line x1=\"-0.41\" y1=\"0.71\" x2=\"-1.24\" y2=\"0.71\"/>\n",
       "      <line x1=\"-1.24\" y1=\"0.71\" x2=\"-1.65\" y2=\"1.43\"/>\n",
       "      <line x1=\"-1.29\" y1=\"0.74\" x2=\"-1.70\" y2=\"0.03\"/>\n",
       "      <line x1=\"-1.19\" y1=\"0.68\" x2=\"-1.60\" y2=\"-0.03\"/>\n",
       "      <line x1=\"0.08\" y1=\"1.29\" x2=\"0.74\" y2=\"1.29\" stroke-dasharray=\"0.15 0.05\"/>\n",
       "      <line x1=\"0.74\" y1=\"1.29\" x2=\"1.08\" y2=\"0.71\" stroke-dasharray=\"0.15 0.05\"/>\n",
       "      <line x1=\"1.08\" y1=\"0.71\" x2=\"0.74\" y2=\"0.14\" stroke-dasharray=\"0.15 0.05\"/>\n",
       "      <line x1=\"0.74\" y1=\"0.14\" x2=\"0.08\" y2=\"0.14\" stroke-dasharray=\"0.15 0.05\"/>\n",
       "      <line x1=\"0.08\" y1=\"0.14\" x2=\"-0.25\" y2=\"0.71\" stroke-dasharray=\"0.15 0.05\"/>\n",
       "      <line x1=\"-0.25\" y1=\"0.71\" x2=\"0.08\" y2=\"1.29\" stroke-dasharray=\"0.15 0.05\"/>\n",
       "    </g>\n",
       "    <g font-size=\"0.50\" font-family=\"sans-serif\">\n",
       "      <use xlink:href=\"#d67cf6e4-44b7-4ad3-a1f5-8a21ac7b8b99-7\" fill=\"#3050F8\"/>\n",
       "      <use xlink:href=\"#d67cf6e4-44b7-4ad3-a1f5-8a21ac7b8b99-8\" fill=\"#FF0D0D\"/>\n",
       "      <use xlink:href=\"#d67cf6e4-44b7-4ad3-a1f5-8a21ac7b8b99-9\" fill=\"#FF0D0D\"/>\n",
       "    </g>\n",
       "    <use xlink:href=\"#d67cf6e4-44b7-4ad3-a1f5-8a21ac7b8b99-attrs\" fill=\"black\"/>\n",
       "    <use xlink:href=\"#d67cf6e4-44b7-4ad3-a1f5-8a21ac7b8b99-mapping\" fill=\"#0305A7\"/>\n",
       "  </g>\n",
       "</svg>"
      ],
      "text/plain": [
       "<chython.containers.molecule.MoleculeContainer at 0x20734fec180>"
      ]
     },
     "execution_count": 24,
     "metadata": {},
     "output_type": "execute_result"
    }
   ],
   "source": [
    "m.thiele() # transform to aromatized form\n",
    "m"
   ]
  },
  {
   "cell_type": "code",
   "execution_count": 25,
   "metadata": {
    "pycharm": {
     "name": "#%%\n"
    }
   },
   "outputs": [
    {
     "data": {
      "image/svg+xml": [
       "<svg width=\"4.14cm\" height=\"2.49cm\" viewBox=\"-2.77 -1.86 4.14 2.49\" xmlns=\"http://www.w3.org/2000/svg\" xmlns:xlink=\"http://www.w3.org/1999/xlink\" version=\"1.1\">\n",
       "  <g id=\"34961566-4861-46eb-9e24-1d2673c2341d-molecule\">\n",
       "    <defs>\n",
       "      <g id=\"34961566-4861-46eb-9e24-1d2673c2341d-symbols\" font-size=\"0.50\" font-family=\"sans-serif\">\n",
       "        <text id=\"34961566-4861-46eb-9e24-1d2673c2341d-1\" x=\"-2.14\" y=\"-0.41\" dx=\"-0.20\" dy=\"0.20\">NH<tspan  dy=\"0.15\" font-size=\"0.35\">2</tspan></text>\n",
       "        <text id=\"34961566-4861-46eb-9e24-1d2673c2341d-4\" x=\"0.00\" y=\"-0.00\" dx=\"-0.20\" dy=\"0.20\">O</text>\n",
       "        <text id=\"34961566-4861-46eb-9e24-1d2673c2341d-5\" x=\"-0.71\" y=\"-1.24\" dx=\"-0.20\" dy=\"0.20\">OH</text>\n",
       "      </g>\n",
       "      <g id=\"34961566-4861-46eb-9e24-1d2673c2341d-mapping\" font-size=\"0.25\" font-family=\"monospace\" text-anchor=\"end\">\n",
       "        <text x=\"-2.14\" y=\"-0.41\" dx=\"-0.15\" dy=\"0.35\">1</text>\n",
       "        <text x=\"-1.43\" y=\"-0.00\" dx=\"-0.05\" dy=\"0.20\">2</text>\n",
       "        <text x=\"-0.71\" y=\"-0.41\" dx=\"-0.05\" dy=\"0.20\">3</text>\n",
       "        <text x=\"0.00\" y=\"-0.00\" dx=\"-0.15\" dy=\"0.35\">4</text>\n",
       "        <text x=\"-0.71\" y=\"-1.24\" dx=\"-0.15\" dy=\"0.35\">5</text>\n",
       "      </g>\n",
       "      <mask id=\"34961566-4861-46eb-9e24-1d2673c2341d-mask\">\n",
       "        <rect x=\"-2.77\" y=\"-1.86\" width=\"4.14\" height=\"2.49\" fill=\"white\"/>\n",
       "        <g>\n",
       "          <circle cx=\"-2.14\" cy=\"-0.41\" r=\"0.20\"/>\n",
       "          <circle cx=\"0.00\" cy=\"-0.00\" r=\"0.20\"/>\n",
       "          <circle cx=\"-0.71\" cy=\"-1.24\" r=\"0.20\"/>\n",
       "        </g>\n",
       "        <g stroke=\"black\">\n",
       "          <use xlink:href=\"#34961566-4861-46eb-9e24-1d2673c2341d-symbols\" stroke-width=\"0.05\"/>\n",
       "          <use xlink:href=\"#34961566-4861-46eb-9e24-1d2673c2341d-mapping\" stroke-width=\"0.03\"/>\n",
       "        </g>\n",
       "      </mask>\n",
       "    </defs>\n",
       "    <g fill=\"none\" stroke=\"black\" stroke-width=\"0.04\" mask=\"url(#34961566-4861-46eb-9e24-1d2673c2341d-mask)\">\n",
       "      <line x1=\"-2.14\" y1=\"-0.41\" x2=\"-1.43\" y2=\"-0.00\"/>\n",
       "      <line x1=\"-1.43\" y1=\"-0.00\" x2=\"-0.71\" y2=\"-0.41\"/>\n",
       "      <line x1=\"-0.68\" y1=\"-0.46\" x2=\"0.03\" y2=\"-0.05\"/>\n",
       "      <line x1=\"-0.74\" y1=\"-0.36\" x2=\"-0.03\" y2=\"0.05\"/>\n",
       "      <line x1=\"-0.71\" y1=\"-0.41\" x2=\"-0.71\" y2=\"-1.24\"/>\n",
       "    </g>\n",
       "    <g font-size=\"0.50\" font-family=\"sans-serif\">\n",
       "      <use xlink:href=\"#34961566-4861-46eb-9e24-1d2673c2341d-1\" fill=\"#3050F8\"/>\n",
       "      <use xlink:href=\"#34961566-4861-46eb-9e24-1d2673c2341d-4\" fill=\"#FF0D0D\"/>\n",
       "      <use xlink:href=\"#34961566-4861-46eb-9e24-1d2673c2341d-5\" fill=\"#FF0D0D\"/>\n",
       "    </g>\n",
       "    <use xlink:href=\"#34961566-4861-46eb-9e24-1d2673c2341d-mapping\" fill=\"#0305A7\"/>\n",
       "  </g>\n",
       "</svg>"
      ],
      "text/plain": [
       "<chython.containers.molecule.MoleculeContainer at 0x20734f9e2c0>"
      ]
     },
     "execution_count": 25,
     "metadata": {},
     "output_type": "execute_result"
    }
   ],
   "source": [
    "m = smiles('[NH3+]CC(=O)[O-]')\n",
    "m.clean2d()\n",
    "m.neutralize() # fix zwitter-ions\n",
    "m"
   ]
  },
  {
   "cell_type": "markdown",
   "metadata": {
    "pycharm": {
     "name": "#%% md\n"
    }
   },
   "source": [
    "Molecules has `explicify_hydrogens` and `implicify_hydrogens` methods to handle hydrogens.\n",
    "\n",
    "This methods is used to add or remove hydrogens in molecule.\n",
    "\n",
    "Note `implicify_hydrogens` working for aromatic rings only in `kekule` form. `explicify_hydrogens` for `aromatized` forms required `kekule` and optionally `thiele` procedures applied before."
   ]
  },
  {
   "cell_type": "code",
   "execution_count": 26,
   "metadata": {
    "pycharm": {
     "name": "#%%\n"
    }
   },
   "outputs": [
    {
     "name": "stdout",
     "output_type": "stream",
     "text": [
      "5\n"
     ]
    },
    {
     "data": {
      "image/svg+xml": [
       "<svg width=\"5.57cm\" height=\"3.20cm\" viewBox=\"-4.20 -1.86 5.57 3.20\" xmlns=\"http://www.w3.org/2000/svg\" xmlns:xlink=\"http://www.w3.org/1999/xlink\" version=\"1.1\">\n",
       "  <g id=\"6872f5ac-450a-42e7-9c81-8cd6d6502f25-molecule\">\n",
       "    <defs>\n",
       "      <g id=\"6872f5ac-450a-42e7-9c81-8cd6d6502f25-symbols\" font-size=\"0.50\" font-family=\"sans-serif\">\n",
       "        <text id=\"6872f5ac-450a-42e7-9c81-8cd6d6502f25-1\" x=\"-0.71\" y=\"-0.41\" dx=\"-0.20\" dy=\"0.20\">N</text>\n",
       "        <text id=\"6872f5ac-450a-42e7-9c81-8cd6d6502f25-4\" x=\"-2.14\" y=\"-1.24\" dx=\"-0.20\" dy=\"0.20\">O</text>\n",
       "        <text id=\"6872f5ac-450a-42e7-9c81-8cd6d6502f25-5\" x=\"-2.86\" y=\"-0.00\" dx=\"-0.20\" dy=\"0.20\">O</text>\n",
       "        <text id=\"6872f5ac-450a-42e7-9c81-8cd6d6502f25-6\" x=\"-0.71\" y=\"-1.24\" dx=\"-0.20\" dy=\"0.20\">H</text>\n",
       "        <text id=\"6872f5ac-450a-42e7-9c81-8cd6d6502f25-7\" x=\"0.00\" y=\"-0.00\" dx=\"-0.20\" dy=\"0.20\">H</text>\n",
       "        <text id=\"6872f5ac-450a-42e7-9c81-8cd6d6502f25-8\" x=\"-1.84\" y=\"0.71\" dx=\"-0.20\" dy=\"0.20\">H</text>\n",
       "        <text id=\"6872f5ac-450a-42e7-9c81-8cd6d6502f25-9\" x=\"-1.02\" y=\"0.71\" dx=\"-0.20\" dy=\"0.20\">H</text>\n",
       "        <text id=\"6872f5ac-450a-42e7-9c81-8cd6d6502f25-10\" x=\"-3.57\" y=\"-0.41\" dx=\"-0.20\" dy=\"0.20\">H</text>\n",
       "      </g>\n",
       "      <g id=\"6872f5ac-450a-42e7-9c81-8cd6d6502f25-mapping\" font-size=\"0.25\" font-family=\"monospace\" text-anchor=\"end\">\n",
       "        <text x=\"-0.71\" y=\"-0.41\" dx=\"-0.15\" dy=\"0.35\">1</text>\n",
       "        <text x=\"-1.43\" y=\"-0.00\" dx=\"-0.05\" dy=\"0.20\">2</text>\n",
       "        <text x=\"-2.14\" y=\"-0.41\" dx=\"-0.05\" dy=\"0.20\">3</text>\n",
       "        <text x=\"-2.14\" y=\"-1.24\" dx=\"-0.15\" dy=\"0.35\">4</text>\n",
       "        <text x=\"-2.86\" y=\"-0.00\" dx=\"-0.15\" dy=\"0.35\">5</text>\n",
       "        <text x=\"-0.71\" y=\"-1.24\" dx=\"-0.15\" dy=\"0.35\">6</text>\n",
       "        <text x=\"0.00\" y=\"-0.00\" dx=\"-0.15\" dy=\"0.35\">7</text>\n",
       "        <text x=\"-1.84\" y=\"0.71\" dx=\"-0.15\" dy=\"0.35\">8</text>\n",
       "        <text x=\"-1.02\" y=\"0.71\" dx=\"-0.15\" dy=\"0.35\">9</text>\n",
       "        <text x=\"-3.57\" y=\"-0.41\" dx=\"-0.15\" dy=\"0.35\">10</text>\n",
       "      </g>\n",
       "      <mask id=\"6872f5ac-450a-42e7-9c81-8cd6d6502f25-mask\">\n",
       "        <rect x=\"-4.20\" y=\"-1.86\" width=\"5.57\" height=\"3.20\" fill=\"white\"/>\n",
       "        <g>\n",
       "          <circle cx=\"-0.71\" cy=\"-0.41\" r=\"0.20\"/>\n",
       "          <circle cx=\"-2.14\" cy=\"-1.24\" r=\"0.20\"/>\n",
       "          <circle cx=\"-2.86\" cy=\"-0.00\" r=\"0.20\"/>\n",
       "          <circle cx=\"-0.71\" cy=\"-1.24\" r=\"0.20\"/>\n",
       "          <circle cx=\"0.00\" cy=\"-0.00\" r=\"0.20\"/>\n",
       "          <circle cx=\"-1.84\" cy=\"0.71\" r=\"0.20\"/>\n",
       "          <circle cx=\"-1.02\" cy=\"0.71\" r=\"0.20\"/>\n",
       "          <circle cx=\"-3.57\" cy=\"-0.41\" r=\"0.20\"/>\n",
       "        </g>\n",
       "        <g stroke=\"black\">\n",
       "          <use xlink:href=\"#6872f5ac-450a-42e7-9c81-8cd6d6502f25-symbols\" stroke-width=\"0.05\"/>\n",
       "          <use xlink:href=\"#6872f5ac-450a-42e7-9c81-8cd6d6502f25-mapping\" stroke-width=\"0.03\"/>\n",
       "        </g>\n",
       "      </mask>\n",
       "    </defs>\n",
       "    <g fill=\"none\" stroke=\"black\" stroke-width=\"0.04\" mask=\"url(#6872f5ac-450a-42e7-9c81-8cd6d6502f25-mask)\">\n",
       "      <line x1=\"-0.71\" y1=\"-0.41\" x2=\"-1.43\" y2=\"-0.00\"/>\n",
       "      <line x1=\"-0.71\" y1=\"-0.41\" x2=\"-0.71\" y2=\"-1.24\"/>\n",
       "      <line x1=\"-0.71\" y1=\"-0.41\" x2=\"0.00\" y2=\"-0.00\"/>\n",
       "      <line x1=\"-1.43\" y1=\"-0.00\" x2=\"-2.14\" y2=\"-0.41\"/>\n",
       "      <line x1=\"-1.43\" y1=\"-0.00\" x2=\"-1.84\" y2=\"0.71\"/>\n",
       "      <line x1=\"-1.43\" y1=\"-0.00\" x2=\"-1.02\" y2=\"0.71\"/>\n",
       "      <line x1=\"-2.20\" y1=\"-0.41\" x2=\"-2.20\" y2=\"-1.24\"/>\n",
       "      <line x1=\"-2.08\" y1=\"-0.41\" x2=\"-2.08\" y2=\"-1.24\"/>\n",
       "      <line x1=\"-2.14\" y1=\"-0.41\" x2=\"-2.86\" y2=\"-0.00\"/>\n",
       "      <line x1=\"-2.86\" y1=\"-0.00\" x2=\"-3.57\" y2=\"-0.41\"/>\n",
       "    </g>\n",
       "    <g font-size=\"0.50\" font-family=\"sans-serif\">\n",
       "      <use xlink:href=\"#6872f5ac-450a-42e7-9c81-8cd6d6502f25-1\" fill=\"#3050F8\"/>\n",
       "      <use xlink:href=\"#6872f5ac-450a-42e7-9c81-8cd6d6502f25-4\" fill=\"#FF0D0D\"/>\n",
       "      <use xlink:href=\"#6872f5ac-450a-42e7-9c81-8cd6d6502f25-5\" fill=\"#FF0D0D\"/>\n",
       "      <use xlink:href=\"#6872f5ac-450a-42e7-9c81-8cd6d6502f25-6\" fill=\"#909090\"/>\n",
       "      <use xlink:href=\"#6872f5ac-450a-42e7-9c81-8cd6d6502f25-7\" fill=\"#909090\"/>\n",
       "      <use xlink:href=\"#6872f5ac-450a-42e7-9c81-8cd6d6502f25-8\" fill=\"#909090\"/>\n",
       "      <use xlink:href=\"#6872f5ac-450a-42e7-9c81-8cd6d6502f25-9\" fill=\"#909090\"/>\n",
       "      <use xlink:href=\"#6872f5ac-450a-42e7-9c81-8cd6d6502f25-10\" fill=\"#909090\"/>\n",
       "    </g>\n",
       "    <use xlink:href=\"#6872f5ac-450a-42e7-9c81-8cd6d6502f25-mapping\" fill=\"#0305A7\"/>\n",
       "  </g>\n",
       "</svg>"
      ],
      "text/plain": [
       "<chython.containers.molecule.MoleculeContainer at 0x20734f9e2c0>"
      ]
     },
     "execution_count": 26,
     "metadata": {},
     "output_type": "execute_result"
    }
   ],
   "source": [
    "print(m.explicify_hydrogens()) # return number of added hydrogens\n",
    "m.clean2d()\n",
    "m"
   ]
  },
  {
   "cell_type": "code",
   "execution_count": 27,
   "metadata": {
    "pycharm": {
     "name": "#%%\n"
    }
   },
   "outputs": [
    {
     "data": {
      "image/svg+xml": [
       "<svg width=\"4.14cm\" height=\"2.49cm\" viewBox=\"-3.48 -1.86 4.14 2.49\" xmlns=\"http://www.w3.org/2000/svg\" xmlns:xlink=\"http://www.w3.org/1999/xlink\" version=\"1.1\">\n",
       "  <g id=\"7d59b78e-de3c-4865-bba8-f976603bd684-molecule\">\n",
       "    <defs>\n",
       "      <g id=\"7d59b78e-de3c-4865-bba8-f976603bd684-symbols\" font-size=\"0.50\" font-family=\"sans-serif\">\n",
       "        <text id=\"7d59b78e-de3c-4865-bba8-f976603bd684-1\" x=\"-0.71\" y=\"-0.41\" dx=\"-0.20\" dy=\"0.20\">NH<tspan  dy=\"0.15\" font-size=\"0.35\">2</tspan></text>\n",
       "        <text id=\"7d59b78e-de3c-4865-bba8-f976603bd684-4\" x=\"-2.14\" y=\"-1.24\" dx=\"-0.20\" dy=\"0.20\">O</text>\n",
       "        <text id=\"7d59b78e-de3c-4865-bba8-f976603bd684-5\" x=\"-2.86\" y=\"-0.00\" dx=\"-0.20\" dy=\"0.20\">OH</text>\n",
       "      </g>\n",
       "      <g id=\"7d59b78e-de3c-4865-bba8-f976603bd684-mapping\" font-size=\"0.25\" font-family=\"monospace\" text-anchor=\"end\">\n",
       "        <text x=\"-0.71\" y=\"-0.41\" dx=\"-0.15\" dy=\"0.35\">1</text>\n",
       "        <text x=\"-1.43\" y=\"-0.00\" dx=\"-0.05\" dy=\"0.20\">2</text>\n",
       "        <text x=\"-2.14\" y=\"-0.41\" dx=\"-0.05\" dy=\"0.20\">3</text>\n",
       "        <text x=\"-2.14\" y=\"-1.24\" dx=\"-0.15\" dy=\"0.35\">4</text>\n",
       "        <text x=\"-2.86\" y=\"-0.00\" dx=\"-0.15\" dy=\"0.35\">5</text>\n",
       "      </g>\n",
       "      <mask id=\"7d59b78e-de3c-4865-bba8-f976603bd684-mask\">\n",
       "        <rect x=\"-3.48\" y=\"-1.86\" width=\"4.14\" height=\"2.49\" fill=\"white\"/>\n",
       "        <g>\n",
       "          <circle cx=\"-0.71\" cy=\"-0.41\" r=\"0.20\"/>\n",
       "          <circle cx=\"-2.14\" cy=\"-1.24\" r=\"0.20\"/>\n",
       "          <circle cx=\"-2.86\" cy=\"-0.00\" r=\"0.20\"/>\n",
       "        </g>\n",
       "        <g stroke=\"black\">\n",
       "          <use xlink:href=\"#7d59b78e-de3c-4865-bba8-f976603bd684-symbols\" stroke-width=\"0.05\"/>\n",
       "          <use xlink:href=\"#7d59b78e-de3c-4865-bba8-f976603bd684-mapping\" stroke-width=\"0.03\"/>\n",
       "        </g>\n",
       "      </mask>\n",
       "    </defs>\n",
       "    <g fill=\"none\" stroke=\"black\" stroke-width=\"0.04\" mask=\"url(#7d59b78e-de3c-4865-bba8-f976603bd684-mask)\">\n",
       "      <line x1=\"-0.71\" y1=\"-0.41\" x2=\"-1.43\" y2=\"-0.00\"/>\n",
       "      <line x1=\"-1.43\" y1=\"-0.00\" x2=\"-2.14\" y2=\"-0.41\"/>\n",
       "      <line x1=\"-2.20\" y1=\"-0.41\" x2=\"-2.20\" y2=\"-1.24\"/>\n",
       "      <line x1=\"-2.08\" y1=\"-0.41\" x2=\"-2.08\" y2=\"-1.24\"/>\n",
       "      <line x1=\"-2.14\" y1=\"-0.41\" x2=\"-2.86\" y2=\"-0.00\"/>\n",
       "    </g>\n",
       "    <g font-size=\"0.50\" font-family=\"sans-serif\">\n",
       "      <use xlink:href=\"#7d59b78e-de3c-4865-bba8-f976603bd684-1\" fill=\"#3050F8\"/>\n",
       "      <use xlink:href=\"#7d59b78e-de3c-4865-bba8-f976603bd684-4\" fill=\"#FF0D0D\"/>\n",
       "      <use xlink:href=\"#7d59b78e-de3c-4865-bba8-f976603bd684-5\" fill=\"#FF0D0D\"/>\n",
       "    </g>\n",
       "    <use xlink:href=\"#7d59b78e-de3c-4865-bba8-f976603bd684-mapping\" fill=\"#0305A7\"/>\n",
       "  </g>\n",
       "</svg>"
      ],
      "text/plain": [
       "<chython.containers.molecule.MoleculeContainer at 0x20734f9e2c0>"
      ]
     },
     "execution_count": 27,
     "metadata": {},
     "output_type": "execute_result"
    }
   ],
   "source": [
    "m.implicify_hydrogens()\n",
    "m"
   ]
  },
  {
   "cell_type": "markdown",
   "metadata": {},
   "source": [
    "To use GPU for AAM calculations, specify device:\n",
    "\n",
    "    import chython\n",
    "    chython.torch_device = 'cuda'\n",
    "\n",
    "Note: `reset_mapping` loads torch neural network once. So, it is impossible to change device on the fly. Do it before first call of `reset_mapping`! To parallelize AAM with multiprocessing, call `reset_mapping` only in workers, to avoid bottleneck with single GPU model."
   ]
  },
  {
   "cell_type": "code",
   "execution_count": 28,
   "metadata": {},
   "outputs": [
    {
     "name": "stdout",
     "output_type": "stream",
     "text": [
      "errors: [2, 4, 5, 6, 7, 8, 9]\n",
      "errors: [2]\n"
     ]
    },
    {
     "data": {
      "image/svg+xml": [
       "<svg width=\"5.71cm\" height=\"2.68cm\" viewBox=\"-4.34 -0.63 5.71 2.68\" xmlns=\"http://www.w3.org/2000/svg\" xmlns:xlink=\"http://www.w3.org/1999/xlink\" version=\"1.1\">\n",
       "  <g id=\"a3997313-5bb3-455a-8f20-2c6a8829c5f7-molecule\">\n",
       "    <defs>\n",
       "      <g id=\"a3997313-5bb3-455a-8f20-2c6a8829c5f7-symbols\" font-size=\"0.50\" font-family=\"sans-serif\">\n",
       "        <text id=\"a3997313-5bb3-455a-8f20-2c6a8829c5f7-2\" x=\"-0.82\" y=\"-0.00\" dx=\"-0.20\" dy=\"0.20\">N</text>\n",
       "      </g>\n",
       "      <g id=\"a3997313-5bb3-455a-8f20-2c6a8829c5f7-mapping\" font-size=\"0.25\" font-family=\"monospace\" text-anchor=\"end\">\n",
       "        <text x=\"0.00\" y=\"-0.00\" dx=\"-0.05\" dy=\"0.20\">1</text>\n",
       "        <text x=\"-0.82\" y=\"-0.00\" dx=\"-0.15\" dy=\"0.35\">2</text>\n",
       "        <text x=\"-1.24\" y=\"0.71\" dx=\"-0.05\" dy=\"0.20\">3</text>\n",
       "        <text x=\"-2.06\" y=\"0.71\" dx=\"-0.05\" dy=\"0.20\">4</text>\n",
       "        <text x=\"-2.47\" y=\"-0.00\" dx=\"-0.05\" dy=\"0.20\">5</text>\n",
       "        <text x=\"-3.30\" y=\"-0.00\" dx=\"-0.05\" dy=\"0.20\">6</text>\n",
       "        <text x=\"-3.71\" y=\"0.71\" dx=\"-0.05\" dy=\"0.20\">7</text>\n",
       "        <text x=\"-3.30\" y=\"1.43\" dx=\"-0.05\" dy=\"0.20\">8</text>\n",
       "        <text x=\"-2.48\" y=\"1.43\" dx=\"-0.05\" dy=\"0.20\">9</text>\n",
       "      </g>\n",
       "      <mask id=\"a3997313-5bb3-455a-8f20-2c6a8829c5f7-mask\">\n",
       "        <rect x=\"-4.34\" y=\"-0.63\" width=\"5.71\" height=\"2.68\" fill=\"white\"/>\n",
       "        <g>\n",
       "          <circle cx=\"-0.82\" cy=\"-0.00\" r=\"0.20\"/>\n",
       "        </g>\n",
       "        <g stroke=\"black\">\n",
       "          <use xlink:href=\"#a3997313-5bb3-455a-8f20-2c6a8829c5f7-symbols\" stroke-width=\"0.05\"/>\n",
       "          <use xlink:href=\"#a3997313-5bb3-455a-8f20-2c6a8829c5f7-mapping\" stroke-width=\"0.03\"/>\n",
       "        </g>\n",
       "      </mask>\n",
       "    </defs>\n",
       "    <g fill=\"none\" stroke=\"black\" stroke-width=\"0.04\" mask=\"url(#a3997313-5bb3-455a-8f20-2c6a8829c5f7-mask)\">\n",
       "      <line x1=\"-0.00\" y1=\"0.06\" x2=\"-0.83\" y2=\"0.06\"/>\n",
       "      <line x1=\"0.00\" y1=\"-0.06\" x2=\"-0.82\" y2=\"-0.06\"/>\n",
       "      <line x1=\"-0.77\" y1=\"0.03\" x2=\"-1.19\" y2=\"0.74\"/>\n",
       "      <line x1=\"-0.88\" y1=\"-0.03\" x2=\"-1.29\" y2=\"0.68\"/>\n",
       "      <line x1=\"-1.24\" y1=\"0.71\" x2=\"-2.06\" y2=\"0.71\"/>\n",
       "      <line x1=\"-2.06\" y1=\"0.71\" x2=\"-2.47\" y2=\"-0.00\"/>\n",
       "      <line x1=\"-2.06\" y1=\"0.71\" x2=\"-2.48\" y2=\"1.43\"/>\n",
       "      <line x1=\"-2.47\" y1=\"-0.00\" x2=\"-3.30\" y2=\"-0.00\"/>\n",
       "      <line x1=\"-3.30\" y1=\"-0.00\" x2=\"-3.71\" y2=\"0.71\"/>\n",
       "      <line x1=\"-3.71\" y1=\"0.71\" x2=\"-3.30\" y2=\"1.43\"/>\n",
       "      <line x1=\"-3.30\" y1=\"1.43\" x2=\"-2.48\" y2=\"1.43\"/>\n",
       "      <line x1=\"-2.22\" y1=\"0.71\" x2=\"-2.56\" y2=\"0.14\" stroke-dasharray=\"0.15 0.05\"/>\n",
       "      <line x1=\"-2.56\" y1=\"0.14\" x2=\"-3.22\" y2=\"0.14\" stroke-dasharray=\"0.15 0.05\"/>\n",
       "      <line x1=\"-3.22\" y1=\"0.14\" x2=\"-3.55\" y2=\"0.71\" stroke-dasharray=\"0.15 0.05\"/>\n",
       "      <line x1=\"-3.55\" y1=\"0.71\" x2=\"-3.22\" y2=\"1.29\" stroke-dasharray=\"0.15 0.05\"/>\n",
       "      <line x1=\"-3.22\" y1=\"1.29\" x2=\"-2.56\" y2=\"1.29\" stroke-dasharray=\"0.15 0.05\"/>\n",
       "      <line x1=\"-2.56\" y1=\"1.29\" x2=\"-2.22\" y2=\"0.71\" stroke-dasharray=\"0.15 0.05\"/>\n",
       "    </g>\n",
       "    <g font-size=\"0.50\" font-family=\"sans-serif\">\n",
       "      <use xlink:href=\"#a3997313-5bb3-455a-8f20-2c6a8829c5f7-2\" fill=\"#3050F8\"/>\n",
       "    </g>\n",
       "    <use xlink:href=\"#a3997313-5bb3-455a-8f20-2c6a8829c5f7-mapping\" fill=\"#0305A7\"/>\n",
       "  </g>\n",
       "</svg>"
      ],
      "text/plain": [
       "<chython.containers.molecule.MoleculeContainer at 0x20734f9ee00>"
      ]
     },
     "execution_count": 28,
     "metadata": {},
     "output_type": "execute_result"
    }
   ],
   "source": [
    "m = smiles('C=N=Cc1ccccc1')\n",
    "print('errors:', m.check_valence()) # atoms with valence problems. aromatic rings should be kekulized (canonicaqlized) to check problems\n",
    "m.canonicalize()\n",
    "print('errors:', m.check_valence())\n",
    "m.clean2d()\n",
    "m"
   ]
  },
  {
   "cell_type": "markdown",
   "metadata": {
    "pycharm": {
     "name": "#%% md\n"
    }
   },
   "source": [
    "## 3.2. Reactions\n",
    "ReactionContainer has same methods as molecules. In this case they are applied to all molecules in reaction.\n",
    "\n",
    "`explicify_hydrogen` method try to keep atom-to-atom mapping.\n",
    "\n",
    "Reaction specific methods:\n",
    "\n",
    "* `remove_reagents` - move reactants to reagents. based on atom-to-atom mapping.\n",
    "* `contract_ions` - merge ions in single multicomponent molecule.\n",
    "* `reset_mapping` - perfom atom-to-atom mapping. Required chytorch-rxnmap package.\n",
    "* `fix_mapping` - rule based atom-to-atom mapping fix for known mistakes."
   ]
  },
  {
   "cell_type": "code",
   "execution_count": 29,
   "metadata": {},
   "outputs": [
    {
     "data": {
      "image/svg+xml": [
       "<svg width=\"12.13cm\" height=\"2.68cm\" viewBox=\"-0.62 -1.34 12.13 2.68\" xmlns=\"http://www.w3.org/2000/svg\" xmlns:xlink=\"http://www.w3.org/1999/xlink\" version=\"1.1\">\n",
       "  <defs>\n",
       "    <marker id=\"arrow\" markerWidth=\"10\" markerHeight=\"10\" refX=\"0\" refY=\"3\" orient=\"auto\">\n",
       "      <path d=\"M0,0 L0,6 L9,3\"/>\n",
       "    </marker>\n",
       "  </defs>\n",
       "  <line x1=\"5.89\" y1=\"0\" x2=\"7.89\" y2=\"0\" fill=\"none\" stroke=\"black\" stroke-width=\".04\" marker-end=\"url(#arrow)\"/>\n",
       "  <g fill=\"none\" stroke=\"black\" stroke-width=\".04\">\n",
       "    <line x1=\"0.75\" y1=\"0\" x2=\"1.05\" y2=\"0\"/>\n",
       "    <line x1=\"0.90\" y1=\"0.15\" x2=\"0.90\" y2=\"-0.15\"/>\n",
       "    <line x1=\"2.10\" y1=\"0\" x2=\"2.40\" y2=\"0\"/>\n",
       "    <line x1=\"2.25\" y1=\"0.15\" x2=\"2.25\" y2=\"-0.15\"/>\n",
       "  </g>\n",
       "  <g id=\"854e8d8b-cde8-4fa4-9201-df1ed243c3d6-molecule\">\n",
       "    <defs>\n",
       "      <g id=\"854e8d8b-cde8-4fa4-9201-df1ed243c3d6-symbols\" font-size=\"0.50\" font-family=\"sans-serif\">\n",
       "        <text id=\"854e8d8b-cde8-4fa4-9201-df1ed243c3d6-1\" x=\"0.20\" y=\"-0.00\" dx=\"-0.35\" dy=\"0.20\">Na</text>\n",
       "      </g>\n",
       "      <g id=\"854e8d8b-cde8-4fa4-9201-df1ed243c3d6-attrs\" font-size=\"0.30\" font-family=\"monospace\">\n",
       "        <text x=\"0.20\" y=\"-0.00\" dx=\"0.05\" dy=\"-0.20\">+</text>\n",
       "      </g>\n",
       "      <g id=\"854e8d8b-cde8-4fa4-9201-df1ed243c3d6-mapping\" font-size=\"0.25\" font-family=\"monospace\" text-anchor=\"end\">\n",
       "        <text x=\"0.20\" y=\"-0.00\" dx=\"-0.30\" dy=\"0.35\">1</text>\n",
       "      </g>\n",
       "    </defs>\n",
       "    <g font-size=\"0.50\" font-family=\"sans-serif\">\n",
       "      <use xlink:href=\"#854e8d8b-cde8-4fa4-9201-df1ed243c3d6-1\" fill=\"#AB5CF2\"/>\n",
       "    </g>\n",
       "    <use xlink:href=\"#854e8d8b-cde8-4fa4-9201-df1ed243c3d6-attrs\" fill=\"black\"/>\n",
       "    <use xlink:href=\"#854e8d8b-cde8-4fa4-9201-df1ed243c3d6-mapping\" fill=\"#0305A7\"/>\n",
       "  </g>\n",
       "  <g id=\"dfea2493-fe1e-4b93-b84a-5650d9428b8e-molecule\">\n",
       "    <defs>\n",
       "      <g id=\"dfea2493-fe1e-4b93-b84a-5650d9428b8e-symbols\" font-size=\"0.50\" font-family=\"sans-serif\">\n",
       "        <text id=\"dfea2493-fe1e-4b93-b84a-5650d9428b8e-2\" x=\"1.40\" y=\"-0.00\" dx=\"-0.20\" dy=\"0.20\">OH</text>\n",
       "      </g>\n",
       "      <g id=\"dfea2493-fe1e-4b93-b84a-5650d9428b8e-attrs\" font-size=\"0.30\" font-family=\"monospace\">\n",
       "        <text x=\"1.40\" y=\"-0.00\" dx=\"0.05\" dy=\"-0.20\">-</text>\n",
       "      </g>\n",
       "      <g id=\"dfea2493-fe1e-4b93-b84a-5650d9428b8e-mapping\" font-size=\"0.25\" font-family=\"monospace\" text-anchor=\"end\">\n",
       "        <text x=\"1.40\" y=\"-0.00\" dx=\"-0.15\" dy=\"0.35\">2</text>\n",
       "      </g>\n",
       "    </defs>\n",
       "    <g font-size=\"0.50\" font-family=\"sans-serif\">\n",
       "      <use xlink:href=\"#dfea2493-fe1e-4b93-b84a-5650d9428b8e-2\" fill=\"#FF0D0D\"/>\n",
       "    </g>\n",
       "    <use xlink:href=\"#dfea2493-fe1e-4b93-b84a-5650d9428b8e-attrs\" fill=\"black\"/>\n",
       "    <use xlink:href=\"#dfea2493-fe1e-4b93-b84a-5650d9428b8e-mapping\" fill=\"#0305A7\"/>\n",
       "  </g>\n",
       "  <g id=\"6dce77de-aeba-4ade-b75e-9ef1d67ba884-molecule\">\n",
       "    <defs>\n",
       "      <g id=\"6dce77de-aeba-4ade-b75e-9ef1d67ba884-symbols\" font-size=\"0.50\" font-family=\"sans-serif\">\n",
       "        <text id=\"6dce77de-aeba-4ade-b75e-9ef1d67ba884-5\" x=\"3.46\" y=\"0.62\" dx=\"-0.20\" dy=\"0.20\">O</text>\n",
       "        <text id=\"6dce77de-aeba-4ade-b75e-9ef1d67ba884-6\" x=\"4.18\" y=\"-0.62\" dx=\"-0.20\" dy=\"0.20\">O</text>\n",
       "      </g>\n",
       "      <g id=\"6dce77de-aeba-4ade-b75e-9ef1d67ba884-mapping\" font-size=\"0.25\" font-family=\"monospace\" text-anchor=\"end\">\n",
       "        <text x=\"2.75\" y=\"0.21\" dx=\"-0.05\" dy=\"0.20\">7</text>\n",
       "        <text x=\"3.46\" y=\"0.62\" dx=\"-0.15\" dy=\"0.35\">5</text>\n",
       "        <text x=\"4.18\" y=\"0.21\" dx=\"-0.05\" dy=\"0.20\">4</text>\n",
       "        <text x=\"4.89\" y=\"0.62\" dx=\"-0.05\" dy=\"0.20\">3</text>\n",
       "        <text x=\"4.18\" y=\"-0.62\" dx=\"-0.15\" dy=\"0.35\">6</text>\n",
       "      </g>\n",
       "      <mask id=\"6dce77de-aeba-4ade-b75e-9ef1d67ba884-mask\">\n",
       "        <rect x=\"-0.62\" y=\"-1.34\" width=\"12.13\" height=\"2.68\" fill=\"white\"/>\n",
       "        <g>\n",
       "          <circle cx=\"3.46\" cy=\"0.62\" r=\"0.20\"/>\n",
       "          <circle cx=\"4.18\" cy=\"-0.62\" r=\"0.20\"/>\n",
       "        </g>\n",
       "        <g stroke=\"black\">\n",
       "          <use xlink:href=\"#6dce77de-aeba-4ade-b75e-9ef1d67ba884-symbols\" stroke-width=\"0.05\"/>\n",
       "          <use xlink:href=\"#6dce77de-aeba-4ade-b75e-9ef1d67ba884-mapping\" stroke-width=\"0.03\"/>\n",
       "        </g>\n",
       "      </mask>\n",
       "    </defs>\n",
       "    <g fill=\"none\" stroke=\"black\" stroke-width=\"0.04\" mask=\"url(#6dce77de-aeba-4ade-b75e-9ef1d67ba884-mask)\">\n",
       "      <line x1=\"2.75\" y1=\"0.21\" x2=\"3.46\" y2=\"0.62\"/>\n",
       "      <line x1=\"3.46\" y1=\"0.62\" x2=\"4.18\" y2=\"0.21\"/>\n",
       "      <line x1=\"4.18\" y1=\"0.21\" x2=\"4.89\" y2=\"0.62\"/>\n",
       "      <line x1=\"4.12\" y1=\"0.21\" x2=\"4.12\" y2=\"-0.62\"/>\n",
       "      <line x1=\"4.24\" y1=\"0.21\" x2=\"4.24\" y2=\"-0.62\"/>\n",
       "    </g>\n",
       "    <g font-size=\"0.50\" font-family=\"sans-serif\">\n",
       "      <use xlink:href=\"#6dce77de-aeba-4ade-b75e-9ef1d67ba884-5\" fill=\"#FF0D0D\"/>\n",
       "      <use xlink:href=\"#6dce77de-aeba-4ade-b75e-9ef1d67ba884-6\" fill=\"#FF0D0D\"/>\n",
       "    </g>\n",
       "    <use xlink:href=\"#6dce77de-aeba-4ade-b75e-9ef1d67ba884-mapping\" fill=\"#0305A7\"/>\n",
       "  </g>\n",
       "  <g id=\"b439a612-910b-416c-a5e6-10c54872bb5f-molecule\">\n",
       "    <defs>\n",
       "      <g id=\"b439a612-910b-416c-a5e6-10c54872bb5f-symbols\" font-size=\"0.50\" font-family=\"sans-serif\">\n",
       "        <text id=\"b439a612-910b-416c-a5e6-10c54872bb5f-8\" x=\"10.13\" y=\"0.71\" dx=\"-0.20\" dy=\"0.20\">OH</text>\n",
       "        <text id=\"b439a612-910b-416c-a5e6-10c54872bb5f-6\" x=\"8.89\" y=\"-0.00\" dx=\"-0.20\" dy=\"0.20\">O</text>\n",
       "      </g>\n",
       "      <g id=\"b439a612-910b-416c-a5e6-10c54872bb5f-mapping\" font-size=\"0.25\" font-family=\"monospace\" text-anchor=\"end\">\n",
       "        <text x=\"10.13\" y=\"-0.71\" dx=\"-0.05\" dy=\"0.20\">3</text>\n",
       "        <text x=\"9.72\" y=\"-0.00\" dx=\"-0.05\" dy=\"0.20\">4</text>\n",
       "        <text x=\"10.13\" y=\"0.71\" dx=\"-0.15\" dy=\"0.35\">8</text>\n",
       "        <text x=\"8.89\" y=\"-0.00\" dx=\"-0.15\" dy=\"0.35\">6</text>\n",
       "      </g>\n",
       "      <mask id=\"b439a612-910b-416c-a5e6-10c54872bb5f-mask\">\n",
       "        <rect x=\"-0.62\" y=\"-1.34\" width=\"12.13\" height=\"2.68\" fill=\"white\"/>\n",
       "        <g>\n",
       "          <circle cx=\"10.13\" cy=\"0.71\" r=\"0.20\"/>\n",
       "          <circle cx=\"8.89\" cy=\"-0.00\" r=\"0.20\"/>\n",
       "        </g>\n",
       "        <g stroke=\"black\">\n",
       "          <use xlink:href=\"#b439a612-910b-416c-a5e6-10c54872bb5f-symbols\" stroke-width=\"0.05\"/>\n",
       "          <use xlink:href=\"#b439a612-910b-416c-a5e6-10c54872bb5f-mapping\" stroke-width=\"0.03\"/>\n",
       "        </g>\n",
       "      </mask>\n",
       "    </defs>\n",
       "    <g fill=\"none\" stroke=\"black\" stroke-width=\"0.04\" mask=\"url(#b439a612-910b-416c-a5e6-10c54872bb5f-mask)\">\n",
       "      <line x1=\"10.13\" y1=\"-0.71\" x2=\"9.72\" y2=\"-0.00\"/>\n",
       "      <line x1=\"9.72\" y1=\"-0.00\" x2=\"10.13\" y2=\"0.71\"/>\n",
       "      <line x1=\"9.72\" y1=\"0.06\" x2=\"8.89\" y2=\"0.06\"/>\n",
       "      <line x1=\"9.72\" y1=\"-0.06\" x2=\"8.89\" y2=\"-0.06\"/>\n",
       "    </g>\n",
       "    <g font-size=\"0.50\" font-family=\"sans-serif\">\n",
       "      <use xlink:href=\"#b439a612-910b-416c-a5e6-10c54872bb5f-8\" fill=\"#FF0D0D\"/>\n",
       "      <use xlink:href=\"#b439a612-910b-416c-a5e6-10c54872bb5f-6\" fill=\"#FF0D0D\"/>\n",
       "    </g>\n",
       "    <use xlink:href=\"#b439a612-910b-416c-a5e6-10c54872bb5f-mapping\" fill=\"#0305A7\"/>\n",
       "  </g>\n",
       "</svg>"
      ],
      "text/plain": [
       "<chython.containers.reaction.ReactionContainer at 0x2073510af40>"
      ]
     },
     "execution_count": 29,
     "metadata": {},
     "output_type": "execute_result"
    }
   ],
   "source": [
    "r = smiles('[Na+:1].[OH-:2].[CH3:7][O:5][C:4]([CH3:3])=[O:6]>>[CH3:3][C:4]([OH:8])=[O:6]') # mapping required\n",
    "r.clean2d()\n",
    "r"
   ]
  },
  {
   "cell_type": "code",
   "execution_count": 30,
   "metadata": {},
   "outputs": [
    {
     "data": {
      "image/svg+xml": [
       "<svg width=\"11.93cm\" height=\"2.68cm\" viewBox=\"-0.62 -1.34 11.93 2.68\" xmlns=\"http://www.w3.org/2000/svg\" xmlns:xlink=\"http://www.w3.org/1999/xlink\" version=\"1.1\">\n",
       "  <defs>\n",
       "    <marker id=\"arrow\" markerWidth=\"10\" markerHeight=\"10\" refX=\"0\" refY=\"3\" orient=\"auto\">\n",
       "      <path d=\"M0,0 L0,6 L9,3\"/>\n",
       "    </marker>\n",
       "  </defs>\n",
       "  <line x1=\"5.69\" y1=\"0\" x2=\"7.69\" y2=\"0\" fill=\"none\" stroke=\"black\" stroke-width=\".04\" marker-end=\"url(#arrow)\"/>\n",
       "  <g fill=\"none\" stroke=\"black\" stroke-width=\".04\">\n",
       "    <line x1=\"2.69\" y1=\"0\" x2=\"2.99\" y2=\"0\"/>\n",
       "    <line x1=\"2.84\" y1=\"0.15\" x2=\"2.84\" y2=\"-0.15\"/>\n",
       "  </g>\n",
       "  <g id=\"95f0ca3f-3e9c-42ed-aa9d-85581edc9135-molecule\">\n",
       "    <defs>\n",
       "      <g id=\"95f0ca3f-3e9c-42ed-aa9d-85581edc9135-symbols\" font-size=\"0.50\" font-family=\"sans-serif\">\n",
       "        <text id=\"95f0ca3f-3e9c-42ed-aa9d-85581edc9135-5\" x=\"0.71\" y=\"0.62\" dx=\"-0.20\" dy=\"0.20\">O</text>\n",
       "        <text id=\"95f0ca3f-3e9c-42ed-aa9d-85581edc9135-6\" x=\"1.43\" y=\"-0.62\" dx=\"-0.20\" dy=\"0.20\">O</text>\n",
       "      </g>\n",
       "      <g id=\"95f0ca3f-3e9c-42ed-aa9d-85581edc9135-mapping\" font-size=\"0.25\" font-family=\"monospace\" text-anchor=\"end\">\n",
       "        <text x=\"0.00\" y=\"0.21\" dx=\"-0.05\" dy=\"0.20\">7</text>\n",
       "        <text x=\"0.71\" y=\"0.62\" dx=\"-0.15\" dy=\"0.35\">5</text>\n",
       "        <text x=\"1.43\" y=\"0.21\" dx=\"-0.05\" dy=\"0.20\">4</text>\n",
       "        <text x=\"2.14\" y=\"0.62\" dx=\"-0.05\" dy=\"0.20\">3</text>\n",
       "        <text x=\"1.43\" y=\"-0.62\" dx=\"-0.15\" dy=\"0.35\">6</text>\n",
       "      </g>\n",
       "      <mask id=\"95f0ca3f-3e9c-42ed-aa9d-85581edc9135-mask\">\n",
       "        <rect x=\"-0.62\" y=\"-1.34\" width=\"11.93\" height=\"2.68\" fill=\"white\"/>\n",
       "        <g>\n",
       "          <circle cx=\"0.71\" cy=\"0.62\" r=\"0.20\"/>\n",
       "          <circle cx=\"1.43\" cy=\"-0.62\" r=\"0.20\"/>\n",
       "        </g>\n",
       "        <g stroke=\"black\">\n",
       "          <use xlink:href=\"#95f0ca3f-3e9c-42ed-aa9d-85581edc9135-symbols\" stroke-width=\"0.05\"/>\n",
       "          <use xlink:href=\"#95f0ca3f-3e9c-42ed-aa9d-85581edc9135-mapping\" stroke-width=\"0.03\"/>\n",
       "        </g>\n",
       "      </mask>\n",
       "    </defs>\n",
       "    <g fill=\"none\" stroke=\"black\" stroke-width=\"0.04\" mask=\"url(#95f0ca3f-3e9c-42ed-aa9d-85581edc9135-mask)\">\n",
       "      <line x1=\"0.00\" y1=\"0.21\" x2=\"0.71\" y2=\"0.62\"/>\n",
       "      <line x1=\"0.71\" y1=\"0.62\" x2=\"1.43\" y2=\"0.21\"/>\n",
       "      <line x1=\"1.43\" y1=\"0.21\" x2=\"2.14\" y2=\"0.62\"/>\n",
       "      <line x1=\"1.37\" y1=\"0.21\" x2=\"1.37\" y2=\"-0.62\"/>\n",
       "      <line x1=\"1.49\" y1=\"0.21\" x2=\"1.49\" y2=\"-0.62\"/>\n",
       "    </g>\n",
       "    <g font-size=\"0.50\" font-family=\"sans-serif\">\n",
       "      <use xlink:href=\"#95f0ca3f-3e9c-42ed-aa9d-85581edc9135-5\" fill=\"#FF0D0D\"/>\n",
       "      <use xlink:href=\"#95f0ca3f-3e9c-42ed-aa9d-85581edc9135-6\" fill=\"#FF0D0D\"/>\n",
       "    </g>\n",
       "    <use xlink:href=\"#95f0ca3f-3e9c-42ed-aa9d-85581edc9135-mapping\" fill=\"#0305A7\"/>\n",
       "  </g>\n",
       "  <g id=\"f5b38e7d-c4b8-4eac-9027-6d5e93a9cb58-molecule\">\n",
       "    <defs>\n",
       "      <g id=\"f5b38e7d-c4b8-4eac-9027-6d5e93a9cb58-symbols\" font-size=\"0.50\" font-family=\"sans-serif\">\n",
       "        <text id=\"f5b38e7d-c4b8-4eac-9027-6d5e93a9cb58-1\" x=\"3.54\" y=\"-0.00\" dx=\"-0.35\" dy=\"0.20\">Na</text>\n",
       "        <text id=\"f5b38e7d-c4b8-4eac-9027-6d5e93a9cb58-2\" x=\"4.54\" y=\"-0.00\" dx=\"-0.20\" dy=\"0.20\">OH</text>\n",
       "      </g>\n",
       "      <g id=\"f5b38e7d-c4b8-4eac-9027-6d5e93a9cb58-attrs\" font-size=\"0.30\" font-family=\"monospace\">\n",
       "        <text x=\"3.54\" y=\"-0.00\" dx=\"0.05\" dy=\"-0.20\">+</text>\n",
       "        <text x=\"4.54\" y=\"-0.00\" dx=\"0.05\" dy=\"-0.20\">-</text>\n",
       "      </g>\n",
       "      <g id=\"f5b38e7d-c4b8-4eac-9027-6d5e93a9cb58-mapping\" font-size=\"0.25\" font-family=\"monospace\" text-anchor=\"end\">\n",
       "        <text x=\"3.54\" y=\"-0.00\" dx=\"-0.30\" dy=\"0.35\">1</text>\n",
       "        <text x=\"4.54\" y=\"-0.00\" dx=\"-0.15\" dy=\"0.35\">2</text>\n",
       "      </g>\n",
       "    </defs>\n",
       "    <g font-size=\"0.50\" font-family=\"sans-serif\">\n",
       "      <use xlink:href=\"#f5b38e7d-c4b8-4eac-9027-6d5e93a9cb58-1\" fill=\"#AB5CF2\"/>\n",
       "      <use xlink:href=\"#f5b38e7d-c4b8-4eac-9027-6d5e93a9cb58-2\" fill=\"#FF0D0D\"/>\n",
       "    </g>\n",
       "    <use xlink:href=\"#f5b38e7d-c4b8-4eac-9027-6d5e93a9cb58-attrs\" fill=\"black\"/>\n",
       "    <use xlink:href=\"#f5b38e7d-c4b8-4eac-9027-6d5e93a9cb58-mapping\" fill=\"#0305A7\"/>\n",
       "  </g>\n",
       "  <g id=\"8ddb333e-c974-44a0-be0b-ccc4385df35e-molecule\">\n",
       "    <defs>\n",
       "      <g id=\"8ddb333e-c974-44a0-be0b-ccc4385df35e-symbols\" font-size=\"0.50\" font-family=\"sans-serif\">\n",
       "        <text id=\"8ddb333e-c974-44a0-be0b-ccc4385df35e-8\" x=\"9.93\" y=\"0.71\" dx=\"-0.20\" dy=\"0.20\">OH</text>\n",
       "        <text id=\"8ddb333e-c974-44a0-be0b-ccc4385df35e-6\" x=\"8.69\" y=\"-0.00\" dx=\"-0.20\" dy=\"0.20\">O</text>\n",
       "      </g>\n",
       "      <g id=\"8ddb333e-c974-44a0-be0b-ccc4385df35e-mapping\" font-size=\"0.25\" font-family=\"monospace\" text-anchor=\"end\">\n",
       "        <text x=\"9.93\" y=\"-0.71\" dx=\"-0.05\" dy=\"0.20\">3</text>\n",
       "        <text x=\"9.52\" y=\"-0.00\" dx=\"-0.05\" dy=\"0.20\">4</text>\n",
       "        <text x=\"9.93\" y=\"0.71\" dx=\"-0.15\" dy=\"0.35\">8</text>\n",
       "        <text x=\"8.69\" y=\"-0.00\" dx=\"-0.15\" dy=\"0.35\">6</text>\n",
       "      </g>\n",
       "      <mask id=\"8ddb333e-c974-44a0-be0b-ccc4385df35e-mask\">\n",
       "        <rect x=\"-0.62\" y=\"-1.34\" width=\"11.93\" height=\"2.68\" fill=\"white\"/>\n",
       "        <g>\n",
       "          <circle cx=\"9.93\" cy=\"0.71\" r=\"0.20\"/>\n",
       "          <circle cx=\"8.69\" cy=\"-0.00\" r=\"0.20\"/>\n",
       "        </g>\n",
       "        <g stroke=\"black\">\n",
       "          <use xlink:href=\"#8ddb333e-c974-44a0-be0b-ccc4385df35e-symbols\" stroke-width=\"0.05\"/>\n",
       "          <use xlink:href=\"#8ddb333e-c974-44a0-be0b-ccc4385df35e-mapping\" stroke-width=\"0.03\"/>\n",
       "        </g>\n",
       "      </mask>\n",
       "    </defs>\n",
       "    <g fill=\"none\" stroke=\"black\" stroke-width=\"0.04\" mask=\"url(#8ddb333e-c974-44a0-be0b-ccc4385df35e-mask)\">\n",
       "      <line x1=\"9.93\" y1=\"-0.71\" x2=\"9.52\" y2=\"-0.00\"/>\n",
       "      <line x1=\"9.52\" y1=\"-0.00\" x2=\"9.93\" y2=\"0.71\"/>\n",
       "      <line x1=\"9.52\" y1=\"0.06\" x2=\"8.69\" y2=\"0.06\"/>\n",
       "      <line x1=\"9.52\" y1=\"-0.06\" x2=\"8.69\" y2=\"-0.06\"/>\n",
       "    </g>\n",
       "    <g font-size=\"0.50\" font-family=\"sans-serif\">\n",
       "      <use xlink:href=\"#8ddb333e-c974-44a0-be0b-ccc4385df35e-8\" fill=\"#FF0D0D\"/>\n",
       "      <use xlink:href=\"#8ddb333e-c974-44a0-be0b-ccc4385df35e-6\" fill=\"#FF0D0D\"/>\n",
       "    </g>\n",
       "    <use xlink:href=\"#8ddb333e-c974-44a0-be0b-ccc4385df35e-mapping\" fill=\"#0305A7\"/>\n",
       "  </g>\n",
       "</svg>"
      ],
      "text/plain": [
       "<chython.containers.reaction.ReactionContainer at 0x2073510af40>"
      ]
     },
     "execution_count": 30,
     "metadata": {},
     "output_type": "execute_result"
    }
   ],
   "source": [
    "r.contract_ions()\n",
    "r"
   ]
  },
  {
   "cell_type": "code",
   "execution_count": 31,
   "metadata": {},
   "outputs": [
    {
     "data": {
      "image/svg+xml": [
       "<svg width=\"9.38cm\" height=\"2.68cm\" viewBox=\"-0.62 -1.34 9.38 2.68\" xmlns=\"http://www.w3.org/2000/svg\" xmlns:xlink=\"http://www.w3.org/1999/xlink\" version=\"1.1\">\n",
       "  <defs>\n",
       "    <marker id=\"arrow\" markerWidth=\"10\" markerHeight=\"10\" refX=\"0\" refY=\"3\" orient=\"auto\">\n",
       "      <path d=\"M0,0 L0,6 L9,3\"/>\n",
       "    </marker>\n",
       "  </defs>\n",
       "  <line x1=\"3.14\" y1=\"0\" x2=\"5.14\" y2=\"0\" fill=\"none\" stroke=\"black\" stroke-width=\".04\" marker-end=\"url(#arrow)\"/>\n",
       "  <g id=\"443048e8-7f67-49d8-8022-68477b02d684-molecule\">\n",
       "    <defs>\n",
       "      <g id=\"443048e8-7f67-49d8-8022-68477b02d684-symbols\" font-size=\"0.50\" font-family=\"sans-serif\">\n",
       "        <text id=\"443048e8-7f67-49d8-8022-68477b02d684-5\" x=\"0.71\" y=\"0.62\" dx=\"-0.20\" dy=\"0.20\">O</text>\n",
       "        <text id=\"443048e8-7f67-49d8-8022-68477b02d684-6\" x=\"1.43\" y=\"-0.62\" dx=\"-0.20\" dy=\"0.20\">O</text>\n",
       "      </g>\n",
       "      <g id=\"443048e8-7f67-49d8-8022-68477b02d684-mapping\" font-size=\"0.25\" font-family=\"monospace\" text-anchor=\"end\">\n",
       "        <text x=\"0.00\" y=\"0.21\" dx=\"-0.05\" dy=\"0.20\">7</text>\n",
       "        <text x=\"0.71\" y=\"0.62\" dx=\"-0.15\" dy=\"0.35\">5</text>\n",
       "        <text x=\"1.43\" y=\"0.21\" dx=\"-0.05\" dy=\"0.20\">4</text>\n",
       "        <text x=\"2.14\" y=\"0.62\" dx=\"-0.05\" dy=\"0.20\">3</text>\n",
       "        <text x=\"1.43\" y=\"-0.62\" dx=\"-0.15\" dy=\"0.35\">6</text>\n",
       "      </g>\n",
       "      <mask id=\"443048e8-7f67-49d8-8022-68477b02d684-mask\">\n",
       "        <rect x=\"-0.62\" y=\"-1.34\" width=\"9.38\" height=\"2.68\" fill=\"white\"/>\n",
       "        <g>\n",
       "          <circle cx=\"0.71\" cy=\"0.62\" r=\"0.20\"/>\n",
       "          <circle cx=\"1.43\" cy=\"-0.62\" r=\"0.20\"/>\n",
       "        </g>\n",
       "        <g stroke=\"black\">\n",
       "          <use xlink:href=\"#443048e8-7f67-49d8-8022-68477b02d684-symbols\" stroke-width=\"0.05\"/>\n",
       "          <use xlink:href=\"#443048e8-7f67-49d8-8022-68477b02d684-mapping\" stroke-width=\"0.03\"/>\n",
       "        </g>\n",
       "      </mask>\n",
       "    </defs>\n",
       "    <g fill=\"none\" stroke=\"black\" stroke-width=\"0.04\" mask=\"url(#443048e8-7f67-49d8-8022-68477b02d684-mask)\">\n",
       "      <line x1=\"0.00\" y1=\"0.21\" x2=\"0.71\" y2=\"0.62\"/>\n",
       "      <line x1=\"0.71\" y1=\"0.62\" x2=\"1.43\" y2=\"0.21\"/>\n",
       "      <line x1=\"1.43\" y1=\"0.21\" x2=\"2.14\" y2=\"0.62\"/>\n",
       "      <line x1=\"1.37\" y1=\"0.21\" x2=\"1.37\" y2=\"-0.62\"/>\n",
       "      <line x1=\"1.49\" y1=\"0.21\" x2=\"1.49\" y2=\"-0.62\"/>\n",
       "    </g>\n",
       "    <g font-size=\"0.50\" font-family=\"sans-serif\">\n",
       "      <use xlink:href=\"#443048e8-7f67-49d8-8022-68477b02d684-5\" fill=\"#FF0D0D\"/>\n",
       "      <use xlink:href=\"#443048e8-7f67-49d8-8022-68477b02d684-6\" fill=\"#FF0D0D\"/>\n",
       "    </g>\n",
       "    <use xlink:href=\"#443048e8-7f67-49d8-8022-68477b02d684-mapping\" fill=\"#0305A7\"/>\n",
       "  </g>\n",
       "  <g id=\"7c1cddf1-83d5-4510-894f-f5137ec21336-molecule\">\n",
       "    <defs>\n",
       "      <g id=\"7c1cddf1-83d5-4510-894f-f5137ec21336-symbols\" font-size=\"0.50\" font-family=\"sans-serif\">\n",
       "        <text id=\"7c1cddf1-83d5-4510-894f-f5137ec21336-1\" x=\"3.54\" y=\"-0.50\" dx=\"-0.35\" dy=\"0.20\">Na</text>\n",
       "        <text id=\"7c1cddf1-83d5-4510-894f-f5137ec21336-2\" x=\"4.54\" y=\"-0.50\" dx=\"-0.20\" dy=\"0.20\">OH</text>\n",
       "      </g>\n",
       "      <g id=\"7c1cddf1-83d5-4510-894f-f5137ec21336-attrs\" font-size=\"0.30\" font-family=\"monospace\">\n",
       "        <text x=\"3.54\" y=\"-0.50\" dx=\"0.05\" dy=\"-0.20\">+</text>\n",
       "        <text x=\"4.54\" y=\"-0.50\" dx=\"0.05\" dy=\"-0.20\">-</text>\n",
       "      </g>\n",
       "      <g id=\"7c1cddf1-83d5-4510-894f-f5137ec21336-mapping\" font-size=\"0.25\" font-family=\"monospace\" text-anchor=\"end\">\n",
       "        <text x=\"3.54\" y=\"-0.50\" dx=\"-0.30\" dy=\"0.35\">1</text>\n",
       "        <text x=\"4.54\" y=\"-0.50\" dx=\"-0.15\" dy=\"0.35\">2</text>\n",
       "      </g>\n",
       "    </defs>\n",
       "    <g font-size=\"0.50\" font-family=\"sans-serif\">\n",
       "      <use xlink:href=\"#7c1cddf1-83d5-4510-894f-f5137ec21336-1\" fill=\"#AB5CF2\"/>\n",
       "      <use xlink:href=\"#7c1cddf1-83d5-4510-894f-f5137ec21336-2\" fill=\"#FF0D0D\"/>\n",
       "    </g>\n",
       "    <use xlink:href=\"#7c1cddf1-83d5-4510-894f-f5137ec21336-attrs\" fill=\"black\"/>\n",
       "    <use xlink:href=\"#7c1cddf1-83d5-4510-894f-f5137ec21336-mapping\" fill=\"#0305A7\"/>\n",
       "  </g>\n",
       "  <g id=\"a5944161-1a75-4207-add1-828199518811-molecule\">\n",
       "    <defs>\n",
       "      <g id=\"a5944161-1a75-4207-add1-828199518811-symbols\" font-size=\"0.50\" font-family=\"sans-serif\">\n",
       "        <text id=\"a5944161-1a75-4207-add1-828199518811-8\" x=\"7.38\" y=\"0.71\" dx=\"-0.20\" dy=\"0.20\">OH</text>\n",
       "        <text id=\"a5944161-1a75-4207-add1-828199518811-6\" x=\"6.14\" y=\"-0.00\" dx=\"-0.20\" dy=\"0.20\">O</text>\n",
       "      </g>\n",
       "      <g id=\"a5944161-1a75-4207-add1-828199518811-mapping\" font-size=\"0.25\" font-family=\"monospace\" text-anchor=\"end\">\n",
       "        <text x=\"7.38\" y=\"-0.71\" dx=\"-0.05\" dy=\"0.20\">3</text>\n",
       "        <text x=\"6.97\" y=\"-0.00\" dx=\"-0.05\" dy=\"0.20\">4</text>\n",
       "        <text x=\"7.38\" y=\"0.71\" dx=\"-0.15\" dy=\"0.35\">8</text>\n",
       "        <text x=\"6.14\" y=\"-0.00\" dx=\"-0.15\" dy=\"0.35\">6</text>\n",
       "      </g>\n",
       "      <mask id=\"a5944161-1a75-4207-add1-828199518811-mask\">\n",
       "        <rect x=\"-0.62\" y=\"-1.34\" width=\"9.38\" height=\"2.68\" fill=\"white\"/>\n",
       "        <g>\n",
       "          <circle cx=\"7.38\" cy=\"0.71\" r=\"0.20\"/>\n",
       "          <circle cx=\"6.14\" cy=\"-0.00\" r=\"0.20\"/>\n",
       "        </g>\n",
       "        <g stroke=\"black\">\n",
       "          <use xlink:href=\"#a5944161-1a75-4207-add1-828199518811-symbols\" stroke-width=\"0.05\"/>\n",
       "          <use xlink:href=\"#a5944161-1a75-4207-add1-828199518811-mapping\" stroke-width=\"0.03\"/>\n",
       "        </g>\n",
       "      </mask>\n",
       "    </defs>\n",
       "    <g fill=\"none\" stroke=\"black\" stroke-width=\"0.04\" mask=\"url(#a5944161-1a75-4207-add1-828199518811-mask)\">\n",
       "      <line x1=\"7.38\" y1=\"-0.71\" x2=\"6.97\" y2=\"-0.00\"/>\n",
       "      <line x1=\"6.97\" y1=\"-0.00\" x2=\"7.38\" y2=\"0.71\"/>\n",
       "      <line x1=\"6.97\" y1=\"0.06\" x2=\"6.14\" y2=\"0.06\"/>\n",
       "      <line x1=\"6.97\" y1=\"-0.06\" x2=\"6.14\" y2=\"-0.06\"/>\n",
       "    </g>\n",
       "    <g font-size=\"0.50\" font-family=\"sans-serif\">\n",
       "      <use xlink:href=\"#a5944161-1a75-4207-add1-828199518811-8\" fill=\"#FF0D0D\"/>\n",
       "      <use xlink:href=\"#a5944161-1a75-4207-add1-828199518811-6\" fill=\"#FF0D0D\"/>\n",
       "    </g>\n",
       "    <use xlink:href=\"#a5944161-1a75-4207-add1-828199518811-mapping\" fill=\"#0305A7\"/>\n",
       "  </g>\n",
       "</svg>"
      ],
      "text/plain": [
       "<chython.containers.reaction.ReactionContainer at 0x2073510af40>"
      ]
     },
     "execution_count": 31,
     "metadata": {},
     "output_type": "execute_result"
    }
   ],
   "source": [
    "r.remove_reagents(keep_reagents=True)\n",
    "r"
   ]
  },
  {
   "cell_type": "code",
   "execution_count": 32,
   "metadata": {},
   "outputs": [
    {
     "data": {
      "image/svg+xml": [
       "<svg width=\"12.90cm\" height=\"3.50cm\" viewBox=\"-0.62 -1.75 12.90 3.50\" xmlns=\"http://www.w3.org/2000/svg\" xmlns:xlink=\"http://www.w3.org/1999/xlink\" version=\"1.1\">\n",
       "  <defs>\n",
       "    <marker id=\"arrow\" markerWidth=\"10\" markerHeight=\"10\" refX=\"0\" refY=\"3\" orient=\"auto\">\n",
       "      <path d=\"M0,0 L0,6 L9,3\"/>\n",
       "    </marker>\n",
       "  </defs>\n",
       "  <line x1=\"4.60\" y1=\"0\" x2=\"7.02\" y2=\"0\" fill=\"none\" stroke=\"black\" stroke-width=\".04\" marker-end=\"url(#arrow)\"/>\n",
       "  <g id=\"b97ba65c-c156-4d76-a61f-5974f76fb6aa-molecule\">\n",
       "    <defs>\n",
       "      <g id=\"b97ba65c-c156-4d76-a61f-5974f76fb6aa-symbols\" font-size=\"0.50\" font-family=\"sans-serif\">\n",
       "        <text id=\"b97ba65c-c156-4d76-a61f-5974f76fb6aa-5\" x=\"1.95\" y=\"0.30\" dx=\"-0.20\" dy=\"0.20\">O</text>\n",
       "        <text id=\"b97ba65c-c156-4d76-a61f-5974f76fb6aa-6\" x=\"1.95\" y=\"-1.13\" dx=\"-0.20\" dy=\"0.20\">O</text>\n",
       "        <text id=\"b97ba65c-c156-4d76-a61f-5974f76fb6aa-9\" x=\"3.60\" y=\"0.30\" dx=\"-0.20\" dy=\"0.20\">H</text>\n",
       "        <text id=\"b97ba65c-c156-4d76-a61f-5974f76fb6aa-10\" x=\"2.78\" y=\"-0.52\" dx=\"-0.20\" dy=\"0.20\">H</text>\n",
       "        <text id=\"b97ba65c-c156-4d76-a61f-5974f76fb6aa-11\" x=\"2.78\" y=\"1.13\" dx=\"-0.20\" dy=\"0.20\">H</text>\n",
       "        <text id=\"b97ba65c-c156-4d76-a61f-5974f76fb6aa-12\" x=\"0.71\" y=\"0.41\" dx=\"-0.20\" dy=\"0.20\">H</text>\n",
       "        <text id=\"b97ba65c-c156-4d76-a61f-5974f76fb6aa-13\" x=\"0.30\" y=\"-1.13\" dx=\"-0.20\" dy=\"0.20\">H</text>\n",
       "        <text id=\"b97ba65c-c156-4d76-a61f-5974f76fb6aa-14\" x=\"0.00\" y=\"0.00\" dx=\"-0.20\" dy=\"0.20\">H</text>\n",
       "      </g>\n",
       "      <g id=\"b97ba65c-c156-4d76-a61f-5974f76fb6aa-mapping\" font-size=\"0.25\" font-family=\"monospace\" text-anchor=\"end\">\n",
       "        <text x=\"2.78\" y=\"0.30\" dx=\"-0.05\" dy=\"0.20\">7</text>\n",
       "        <text x=\"1.95\" y=\"0.30\" dx=\"-0.15\" dy=\"0.35\">5</text>\n",
       "        <text x=\"1.54\" y=\"-0.41\" dx=\"-0.05\" dy=\"0.20\">4</text>\n",
       "        <text x=\"0.71\" y=\"-0.41\" dx=\"-0.05\" dy=\"0.20\">3</text>\n",
       "        <text x=\"1.95\" y=\"-1.13\" dx=\"-0.15\" dy=\"0.35\">6</text>\n",
       "        <text x=\"3.60\" y=\"0.30\" dx=\"-0.15\" dy=\"0.35\">9</text>\n",
       "        <text x=\"2.78\" y=\"-0.52\" dx=\"-0.15\" dy=\"0.35\">10</text>\n",
       "        <text x=\"2.78\" y=\"1.13\" dx=\"-0.15\" dy=\"0.35\">11</text>\n",
       "        <text x=\"0.71\" y=\"0.41\" dx=\"-0.15\" dy=\"0.35\">12</text>\n",
       "        <text x=\"0.30\" y=\"-1.13\" dx=\"-0.15\" dy=\"0.35\">13</text>\n",
       "        <text x=\"0.00\" y=\"0.00\" dx=\"-0.15\" dy=\"0.35\">14</text>\n",
       "      </g>\n",
       "      <mask id=\"b97ba65c-c156-4d76-a61f-5974f76fb6aa-mask\">\n",
       "        <rect x=\"-0.62\" y=\"-1.75\" width=\"12.90\" height=\"3.50\" fill=\"white\"/>\n",
       "        <g>\n",
       "          <circle cx=\"1.95\" cy=\"0.30\" r=\"0.20\"/>\n",
       "          <circle cx=\"1.95\" cy=\"-1.13\" r=\"0.20\"/>\n",
       "          <circle cx=\"3.60\" cy=\"0.30\" r=\"0.20\"/>\n",
       "          <circle cx=\"2.78\" cy=\"-0.52\" r=\"0.20\"/>\n",
       "          <circle cx=\"2.78\" cy=\"1.13\" r=\"0.20\"/>\n",
       "          <circle cx=\"0.71\" cy=\"0.41\" r=\"0.20\"/>\n",
       "          <circle cx=\"0.30\" cy=\"-1.13\" r=\"0.20\"/>\n",
       "          <circle cx=\"0.00\" cy=\"0.00\" r=\"0.20\"/>\n",
       "        </g>\n",
       "        <g stroke=\"black\">\n",
       "          <use xlink:href=\"#b97ba65c-c156-4d76-a61f-5974f76fb6aa-symbols\" stroke-width=\"0.05\"/>\n",
       "          <use xlink:href=\"#b97ba65c-c156-4d76-a61f-5974f76fb6aa-mapping\" stroke-width=\"0.03\"/>\n",
       "        </g>\n",
       "      </mask>\n",
       "    </defs>\n",
       "    <g fill=\"none\" stroke=\"black\" stroke-width=\"0.04\" mask=\"url(#b97ba65c-c156-4d76-a61f-5974f76fb6aa-mask)\">\n",
       "      <line x1=\"2.78\" y1=\"0.30\" x2=\"1.95\" y2=\"0.30\"/>\n",
       "      <line x1=\"2.78\" y1=\"0.30\" x2=\"3.60\" y2=\"0.30\"/>\n",
       "      <line x1=\"2.78\" y1=\"0.30\" x2=\"2.78\" y2=\"-0.52\"/>\n",
       "      <line x1=\"2.78\" y1=\"0.30\" x2=\"2.78\" y2=\"1.13\"/>\n",
       "      <line x1=\"1.95\" y1=\"0.30\" x2=\"1.54\" y2=\"-0.41\"/>\n",
       "      <line x1=\"1.54\" y1=\"-0.41\" x2=\"0.71\" y2=\"-0.41\"/>\n",
       "      <line x1=\"1.49\" y1=\"-0.44\" x2=\"1.90\" y2=\"-1.16\"/>\n",
       "      <line x1=\"1.59\" y1=\"-0.38\" x2=\"2.00\" y2=\"-1.10\"/>\n",
       "      <line x1=\"0.71\" y1=\"-0.41\" x2=\"0.71\" y2=\"0.41\"/>\n",
       "      <line x1=\"0.71\" y1=\"-0.41\" x2=\"0.30\" y2=\"-1.13\"/>\n",
       "      <line x1=\"0.71\" y1=\"-0.41\" x2=\"0.00\" y2=\"0.00\"/>\n",
       "    </g>\n",
       "    <g font-size=\"0.50\" font-family=\"sans-serif\">\n",
       "      <use xlink:href=\"#b97ba65c-c156-4d76-a61f-5974f76fb6aa-5\" fill=\"#FF0D0D\"/>\n",
       "      <use xlink:href=\"#b97ba65c-c156-4d76-a61f-5974f76fb6aa-6\" fill=\"#FF0D0D\"/>\n",
       "      <use xlink:href=\"#b97ba65c-c156-4d76-a61f-5974f76fb6aa-9\" fill=\"#909090\"/>\n",
       "      <use xlink:href=\"#b97ba65c-c156-4d76-a61f-5974f76fb6aa-10\" fill=\"#909090\"/>\n",
       "      <use xlink:href=\"#b97ba65c-c156-4d76-a61f-5974f76fb6aa-11\" fill=\"#909090\"/>\n",
       "      <use xlink:href=\"#b97ba65c-c156-4d76-a61f-5974f76fb6aa-12\" fill=\"#909090\"/>\n",
       "      <use xlink:href=\"#b97ba65c-c156-4d76-a61f-5974f76fb6aa-13\" fill=\"#909090\"/>\n",
       "      <use xlink:href=\"#b97ba65c-c156-4d76-a61f-5974f76fb6aa-14\" fill=\"#909090\"/>\n",
       "    </g>\n",
       "    <use xlink:href=\"#b97ba65c-c156-4d76-a61f-5974f76fb6aa-mapping\" fill=\"#0305A7\"/>\n",
       "  </g>\n",
       "  <g id=\"7fc6364c-9e6b-48f1-a68b-b88c86600408-molecule\">\n",
       "    <defs>\n",
       "      <g id=\"7fc6364c-9e6b-48f1-a68b-b88c86600408-symbols\" font-size=\"0.50\" font-family=\"sans-serif\">\n",
       "        <text id=\"7fc6364c-9e6b-48f1-a68b-b88c86600408-1\" x=\"5.00\" y=\"-0.71\" dx=\"-0.35\" dy=\"0.20\">Na</text>\n",
       "        <text id=\"7fc6364c-9e6b-48f1-a68b-b88c86600408-2\" x=\"5.90\" y=\"-0.91\" dx=\"-0.20\" dy=\"0.20\">O</text>\n",
       "        <text id=\"7fc6364c-9e6b-48f1-a68b-b88c86600408-15\" x=\"6.62\" y=\"-0.50\" dx=\"-0.20\" dy=\"0.20\">H</text>\n",
       "      </g>\n",
       "      <g id=\"7fc6364c-9e6b-48f1-a68b-b88c86600408-attrs\" font-size=\"0.30\" font-family=\"monospace\">\n",
       "        <text x=\"5.00\" y=\"-0.71\" dx=\"0.05\" dy=\"-0.20\">+</text>\n",
       "        <text x=\"5.90\" y=\"-0.91\" dx=\"0.05\" dy=\"-0.20\">-</text>\n",
       "      </g>\n",
       "      <g id=\"7fc6364c-9e6b-48f1-a68b-b88c86600408-mapping\" font-size=\"0.25\" font-family=\"monospace\" text-anchor=\"end\">\n",
       "        <text x=\"5.00\" y=\"-0.71\" dx=\"-0.30\" dy=\"0.35\">1</text>\n",
       "        <text x=\"5.90\" y=\"-0.91\" dx=\"-0.15\" dy=\"0.35\">2</text>\n",
       "        <text x=\"6.62\" y=\"-0.50\" dx=\"-0.15\" dy=\"0.35\">15</text>\n",
       "      </g>\n",
       "      <mask id=\"7fc6364c-9e6b-48f1-a68b-b88c86600408-mask\">\n",
       "        <rect x=\"-0.62\" y=\"-1.75\" width=\"12.90\" height=\"3.50\" fill=\"white\"/>\n",
       "        <g>\n",
       "          <ellipse cx=\"4.93\" cy=\"-0.71\" rx=\"0.35\" ry=\"0.2\"/>\n",
       "          <circle cx=\"5.90\" cy=\"-0.91\" r=\"0.20\"/>\n",
       "          <circle cx=\"6.62\" cy=\"-0.50\" r=\"0.20\"/>\n",
       "        </g>\n",
       "        <g stroke=\"black\">\n",
       "          <use xlink:href=\"#7fc6364c-9e6b-48f1-a68b-b88c86600408-symbols\" stroke-width=\"0.05\"/>\n",
       "          <use xlink:href=\"#7fc6364c-9e6b-48f1-a68b-b88c86600408-attrs\" stroke-width=\"0.03\"/>\n",
       "          <use xlink:href=\"#7fc6364c-9e6b-48f1-a68b-b88c86600408-mapping\" stroke-width=\"0.03\"/>\n",
       "        </g>\n",
       "      </mask>\n",
       "    </defs>\n",
       "    <g fill=\"none\" stroke=\"black\" stroke-width=\"0.04\" mask=\"url(#7fc6364c-9e6b-48f1-a68b-b88c86600408-mask)\">\n",
       "      <line x1=\"-0.62\" y1=\"-1.75\" x2=\"12.28\" y2=\"-1.75\" stroke=\"none\"/>\n",
       "      <line x1=\"5.90\" y1=\"-0.91\" x2=\"6.62\" y2=\"-0.50\"/>\n",
       "    </g>\n",
       "    <g font-size=\"0.50\" font-family=\"sans-serif\">\n",
       "      <use xlink:href=\"#7fc6364c-9e6b-48f1-a68b-b88c86600408-1\" fill=\"#AB5CF2\"/>\n",
       "      <use xlink:href=\"#7fc6364c-9e6b-48f1-a68b-b88c86600408-2\" fill=\"#FF0D0D\"/>\n",
       "      <use xlink:href=\"#7fc6364c-9e6b-48f1-a68b-b88c86600408-15\" fill=\"#909090\"/>\n",
       "    </g>\n",
       "    <use xlink:href=\"#7fc6364c-9e6b-48f1-a68b-b88c86600408-attrs\" fill=\"black\"/>\n",
       "    <use xlink:href=\"#7fc6364c-9e6b-48f1-a68b-b88c86600408-mapping\" fill=\"#0305A7\"/>\n",
       "  </g>\n",
       "  <g id=\"b5404b31-908d-4e5e-87d3-366607bcd4ed-molecule\">\n",
       "    <defs>\n",
       "      <g id=\"b5404b31-908d-4e5e-87d3-366607bcd4ed-symbols\" font-size=\"0.50\" font-family=\"sans-serif\">\n",
       "        <text id=\"b5404b31-908d-4e5e-87d3-366607bcd4ed-8\" x=\"10.08\" y=\"-0.71\" dx=\"-0.20\" dy=\"0.20\">O</text>\n",
       "        <text id=\"b5404b31-908d-4e5e-87d3-366607bcd4ed-6\" x=\"10.08\" y=\"0.71\" dx=\"-0.20\" dy=\"0.20\">O</text>\n",
       "        <text id=\"b5404b31-908d-4e5e-87d3-366607bcd4ed-14\" x=\"8.84\" y=\"-0.82\" dx=\"-0.20\" dy=\"0.20\">H</text>\n",
       "        <text id=\"b5404b31-908d-4e5e-87d3-366607bcd4ed-13\" x=\"8.02\" y=\"-0.00\" dx=\"-0.20\" dy=\"0.20\">H</text>\n",
       "        <text id=\"b5404b31-908d-4e5e-87d3-366607bcd4ed-12\" x=\"8.84\" y=\"0.82\" dx=\"-0.20\" dy=\"0.20\">H</text>\n",
       "        <text id=\"b5404b31-908d-4e5e-87d3-366607bcd4ed-16\" x=\"10.90\" y=\"-0.71\" dx=\"-0.20\" dy=\"0.20\">H</text>\n",
       "      </g>\n",
       "      <g id=\"b5404b31-908d-4e5e-87d3-366607bcd4ed-mapping\" font-size=\"0.25\" font-family=\"monospace\" text-anchor=\"end\">\n",
       "        <text x=\"8.84\" y=\"0.00\" dx=\"-0.05\" dy=\"0.20\">3</text>\n",
       "        <text x=\"9.67\" y=\"0.00\" dx=\"-0.05\" dy=\"0.20\">4</text>\n",
       "        <text x=\"10.08\" y=\"-0.71\" dx=\"-0.15\" dy=\"0.35\">8</text>\n",
       "        <text x=\"10.08\" y=\"0.71\" dx=\"-0.15\" dy=\"0.35\">6</text>\n",
       "        <text x=\"8.84\" y=\"-0.82\" dx=\"-0.15\" dy=\"0.35\">14</text>\n",
       "        <text x=\"8.02\" y=\"-0.00\" dx=\"-0.15\" dy=\"0.35\">13</text>\n",
       "        <text x=\"8.84\" y=\"0.82\" dx=\"-0.15\" dy=\"0.35\">12</text>\n",
       "        <text x=\"10.90\" y=\"-0.71\" dx=\"-0.15\" dy=\"0.35\">16</text>\n",
       "      </g>\n",
       "      <mask id=\"b5404b31-908d-4e5e-87d3-366607bcd4ed-mask\">\n",
       "        <rect x=\"-0.62\" y=\"-1.75\" width=\"12.90\" height=\"3.50\" fill=\"white\"/>\n",
       "        <g>\n",
       "          <circle cx=\"10.08\" cy=\"-0.71\" r=\"0.20\"/>\n",
       "          <circle cx=\"10.08\" cy=\"0.71\" r=\"0.20\"/>\n",
       "          <circle cx=\"8.84\" cy=\"-0.82\" r=\"0.20\"/>\n",
       "          <circle cx=\"8.02\" cy=\"-0.00\" r=\"0.20\"/>\n",
       "          <circle cx=\"8.84\" cy=\"0.82\" r=\"0.20\"/>\n",
       "          <circle cx=\"10.90\" cy=\"-0.71\" r=\"0.20\"/>\n",
       "        </g>\n",
       "        <g stroke=\"black\">\n",
       "          <use xlink:href=\"#b5404b31-908d-4e5e-87d3-366607bcd4ed-symbols\" stroke-width=\"0.05\"/>\n",
       "          <use xlink:href=\"#b5404b31-908d-4e5e-87d3-366607bcd4ed-mapping\" stroke-width=\"0.03\"/>\n",
       "        </g>\n",
       "      </mask>\n",
       "    </defs>\n",
       "    <g fill=\"none\" stroke=\"black\" stroke-width=\"0.04\" mask=\"url(#b5404b31-908d-4e5e-87d3-366607bcd4ed-mask)\">\n",
       "      <line x1=\"8.84\" y1=\"0.00\" x2=\"9.67\" y2=\"0.00\"/>\n",
       "      <line x1=\"8.84\" y1=\"0.00\" x2=\"8.84\" y2=\"-0.82\"/>\n",
       "      <line x1=\"8.84\" y1=\"0.00\" x2=\"8.02\" y2=\"-0.00\"/>\n",
       "      <line x1=\"8.84\" y1=\"0.00\" x2=\"8.84\" y2=\"0.82\"/>\n",
       "      <line x1=\"9.67\" y1=\"0.00\" x2=\"10.08\" y2=\"-0.71\"/>\n",
       "      <line x1=\"9.72\" y1=\"-0.03\" x2=\"10.13\" y2=\"0.68\"/>\n",
       "      <line x1=\"9.61\" y1=\"0.03\" x2=\"10.03\" y2=\"0.74\"/>\n",
       "      <line x1=\"10.08\" y1=\"-0.71\" x2=\"10.90\" y2=\"-0.71\"/>\n",
       "    </g>\n",
       "    <g font-size=\"0.50\" font-family=\"sans-serif\">\n",
       "      <use xlink:href=\"#b5404b31-908d-4e5e-87d3-366607bcd4ed-8\" fill=\"#FF0D0D\"/>\n",
       "      <use xlink:href=\"#b5404b31-908d-4e5e-87d3-366607bcd4ed-6\" fill=\"#FF0D0D\"/>\n",
       "      <use xlink:href=\"#b5404b31-908d-4e5e-87d3-366607bcd4ed-14\" fill=\"#909090\"/>\n",
       "      <use xlink:href=\"#b5404b31-908d-4e5e-87d3-366607bcd4ed-13\" fill=\"#909090\"/>\n",
       "      <use xlink:href=\"#b5404b31-908d-4e5e-87d3-366607bcd4ed-12\" fill=\"#909090\"/>\n",
       "      <use xlink:href=\"#b5404b31-908d-4e5e-87d3-366607bcd4ed-16\" fill=\"#909090\"/>\n",
       "    </g>\n",
       "    <use xlink:href=\"#b5404b31-908d-4e5e-87d3-366607bcd4ed-mapping\" fill=\"#0305A7\"/>\n",
       "  </g>\n",
       "</svg>"
      ],
      "text/plain": [
       "<chython.containers.reaction.ReactionContainer at 0x2073510af40>"
      ]
     },
     "execution_count": 32,
     "metadata": {},
     "output_type": "execute_result"
    }
   ],
   "source": [
    "r.explicify_hydrogens()\n",
    "r.clean2d()\n",
    "r"
   ]
  },
  {
   "cell_type": "code",
   "execution_count": 33,
   "metadata": {},
   "outputs": [
    {
     "name": "stderr",
     "output_type": "stream",
     "text": [
      "c:\\users\\rnugmano\\bydlocoding\\chython\\venv\\lib\\site-packages\\torch\\nn\\modules\\lazy.py:178: UserWarning: Lazy modules are a new feature under heavy development so changes to the API or functionality can happen at any moment.\n",
      "  warnings.warn('Lazy modules are a new feature under heavy development '\n"
     ]
    },
    {
     "data": {
      "image/svg+xml": [
       "<svg width=\"15.77cm\" height=\"3.72cm\" viewBox=\"-0.62 -1.86 15.77 3.72\" xmlns=\"http://www.w3.org/2000/svg\" xmlns:xlink=\"http://www.w3.org/1999/xlink\" version=\"1.1\">\n",
       "  <defs>\n",
       "    <marker id=\"arrow\" markerWidth=\"10\" markerHeight=\"10\" refX=\"0\" refY=\"3\" orient=\"auto\">\n",
       "      <path d=\"M0,0 L0,6 L9,3\"/>\n",
       "    </marker>\n",
       "  </defs>\n",
       "  <line x1=\"6.49\" y1=\"0\" x2=\"8.49\" y2=\"0\" fill=\"none\" stroke=\"black\" stroke-width=\".04\" marker-end=\"url(#arrow)\"/>\n",
       "  <g fill=\"none\" stroke=\"black\" stroke-width=\".04\">\n",
       "    <line x1=\"2.69\" y1=\"0\" x2=\"2.99\" y2=\"0\"/>\n",
       "    <line x1=\"2.84\" y1=\"0.15\" x2=\"2.84\" y2=\"-0.15\"/>\n",
       "  </g>\n",
       "  <g id=\"8c25550a-b1a1-4957-a5e2-8d90e73eacb0-molecule\">\n",
       "    <defs>\n",
       "      <g id=\"8c25550a-b1a1-4957-a5e2-8d90e73eacb0-symbols\" font-size=\"0.50\" font-family=\"sans-serif\">\n",
       "        <text id=\"8c25550a-b1a1-4957-a5e2-8d90e73eacb0-1\" x=\"0.71\" y=\"-0.82\" dx=\"-0.20\" dy=\"0.20\">OH</text>\n",
       "        <text id=\"8c25550a-b1a1-4957-a5e2-8d90e73eacb0-3\" x=\"2.14\" y=\"-0.83\" dx=\"-0.20\" dy=\"0.20\">O</text>\n",
       "      </g>\n",
       "      <g id=\"8c25550a-b1a1-4957-a5e2-8d90e73eacb0-mapping\" font-size=\"0.25\" font-family=\"monospace\" text-anchor=\"end\">\n",
       "        <text x=\"0.71\" y=\"-0.82\" dx=\"-0.15\" dy=\"0.35\">1</text>\n",
       "        <text x=\"1.43\" y=\"-0.41\" dx=\"-0.05\" dy=\"0.20\">2</text>\n",
       "        <text x=\"2.14\" y=\"-0.83\" dx=\"-0.15\" dy=\"0.35\">3</text>\n",
       "        <text x=\"1.43\" y=\"0.41\" dx=\"-0.05\" dy=\"0.20\">4</text>\n",
       "        <text x=\"2.14\" y=\"0.82\" dx=\"-0.05\" dy=\"0.20\">5</text>\n",
       "        <text x=\"0.71\" y=\"0.83\" dx=\"-0.05\" dy=\"0.20\">6</text>\n",
       "        <text x=\"0.00\" y=\"0.41\" dx=\"-0.05\" dy=\"0.20\">7</text>\n",
       "      </g>\n",
       "      <mask id=\"8c25550a-b1a1-4957-a5e2-8d90e73eacb0-mask\">\n",
       "        <rect x=\"-0.62\" y=\"-1.86\" width=\"15.77\" height=\"3.72\" fill=\"white\"/>\n",
       "        <g>\n",
       "          <circle cx=\"0.71\" cy=\"-0.82\" r=\"0.20\"/>\n",
       "          <circle cx=\"2.14\" cy=\"-0.83\" r=\"0.20\"/>\n",
       "        </g>\n",
       "        <g stroke=\"black\">\n",
       "          <use xlink:href=\"#8c25550a-b1a1-4957-a5e2-8d90e73eacb0-symbols\" stroke-width=\"0.05\"/>\n",
       "          <use xlink:href=\"#8c25550a-b1a1-4957-a5e2-8d90e73eacb0-mapping\" stroke-width=\"0.03\"/>\n",
       "        </g>\n",
       "      </mask>\n",
       "    </defs>\n",
       "    <g fill=\"none\" stroke=\"black\" stroke-width=\"0.04\" mask=\"url(#8c25550a-b1a1-4957-a5e2-8d90e73eacb0-mask)\">\n",
       "      <line x1=\"0.71\" y1=\"-0.82\" x2=\"1.43\" y2=\"-0.41\"/>\n",
       "      <line x1=\"1.40\" y1=\"-0.46\" x2=\"2.11\" y2=\"-0.88\"/>\n",
       "      <line x1=\"1.46\" y1=\"-0.36\" x2=\"2.17\" y2=\"-0.77\"/>\n",
       "      <line x1=\"1.43\" y1=\"-0.41\" x2=\"1.43\" y2=\"0.41\"/>\n",
       "      <line x1=\"1.46\" y1=\"0.36\" x2=\"2.17\" y2=\"0.77\"/>\n",
       "      <line x1=\"1.40\" y1=\"0.46\" x2=\"2.11\" y2=\"0.88\"/>\n",
       "      <line x1=\"1.43\" y1=\"0.41\" x2=\"0.71\" y2=\"0.83\"/>\n",
       "      <line x1=\"0.68\" y1=\"0.88\" x2=\"-0.03\" y2=\"0.46\"/>\n",
       "      <line x1=\"0.74\" y1=\"0.77\" x2=\"0.03\" y2=\"0.36\"/>\n",
       "    </g>\n",
       "    <g font-size=\"0.50\" font-family=\"sans-serif\">\n",
       "      <use xlink:href=\"#8c25550a-b1a1-4957-a5e2-8d90e73eacb0-1\" fill=\"#FF0D0D\"/>\n",
       "      <use xlink:href=\"#8c25550a-b1a1-4957-a5e2-8d90e73eacb0-3\" fill=\"#FF0D0D\"/>\n",
       "    </g>\n",
       "    <use xlink:href=\"#8c25550a-b1a1-4957-a5e2-8d90e73eacb0-mapping\" fill=\"#0305A7\"/>\n",
       "  </g>\n",
       "  <g id=\"813c29aa-c275-479e-a91e-2c5a918bfebc-molecule\">\n",
       "    <defs>\n",
       "      <g id=\"813c29aa-c275-479e-a91e-2c5a918bfebc-symbols\" font-size=\"0.50\" font-family=\"sans-serif\">\n",
       "        <text id=\"813c29aa-c275-479e-a91e-2c5a918bfebc-11\" x=\"5.49\" y=\"0.21\" dx=\"-0.20\" dy=\"0.20\">N</text>\n",
       "      </g>\n",
       "      <g id=\"813c29aa-c275-479e-a91e-2c5a918bfebc-mapping\" font-size=\"0.25\" font-family=\"monospace\" text-anchor=\"end\">\n",
       "        <text x=\"3.34\" y=\"-0.21\" dx=\"-0.05\" dy=\"0.20\">8</text>\n",
       "        <text x=\"4.06\" y=\"0.21\" dx=\"-0.05\" dy=\"0.20\">9</text>\n",
       "        <text x=\"4.77\" y=\"-0.21\" dx=\"-0.05\" dy=\"0.20\">10</text>\n",
       "        <text x=\"5.49\" y=\"0.21\" dx=\"-0.15\" dy=\"0.35\">11</text>\n",
       "      </g>\n",
       "      <mask id=\"813c29aa-c275-479e-a91e-2c5a918bfebc-mask\">\n",
       "        <rect x=\"-0.62\" y=\"-1.86\" width=\"15.77\" height=\"3.72\" fill=\"white\"/>\n",
       "        <g>\n",
       "          <circle cx=\"5.49\" cy=\"0.21\" r=\"0.20\"/>\n",
       "        </g>\n",
       "        <g stroke=\"black\">\n",
       "          <use xlink:href=\"#813c29aa-c275-479e-a91e-2c5a918bfebc-symbols\" stroke-width=\"0.05\"/>\n",
       "          <use xlink:href=\"#813c29aa-c275-479e-a91e-2c5a918bfebc-mapping\" stroke-width=\"0.03\"/>\n",
       "        </g>\n",
       "      </mask>\n",
       "    </defs>\n",
       "    <g fill=\"none\" stroke=\"black\" stroke-width=\"0.04\" mask=\"url(#813c29aa-c275-479e-a91e-2c5a918bfebc-mask)\">\n",
       "      <line x1=\"3.37\" y1=\"-0.26\" x2=\"4.09\" y2=\"0.15\"/>\n",
       "      <line x1=\"3.31\" y1=\"-0.15\" x2=\"4.03\" y2=\"0.26\"/>\n",
       "      <line x1=\"4.06\" y1=\"0.21\" x2=\"4.77\" y2=\"-0.21\"/>\n",
       "      <line x1=\"4.84\" y1=\"-0.32\" x2=\"5.55\" y2=\"0.09\"/>\n",
       "      <line x1=\"4.77\" y1=\"-0.21\" x2=\"5.49\" y2=\"0.21\"/>\n",
       "      <line x1=\"4.71\" y1=\"-0.09\" x2=\"5.42\" y2=\"0.32\"/>\n",
       "    </g>\n",
       "    <g font-size=\"0.50\" font-family=\"sans-serif\">\n",
       "      <use xlink:href=\"#813c29aa-c275-479e-a91e-2c5a918bfebc-11\" fill=\"#3050F8\"/>\n",
       "    </g>\n",
       "    <use xlink:href=\"#813c29aa-c275-479e-a91e-2c5a918bfebc-mapping\" fill=\"#0305A7\"/>\n",
       "  </g>\n",
       "  <g id=\"bc6ba2e8-9c82-45c4-955c-443a01c5ef54-molecule\">\n",
       "    <defs>\n",
       "      <g id=\"bc6ba2e8-9c82-45c4-955c-443a01c5ef54-symbols\" font-size=\"0.50\" font-family=\"sans-serif\">\n",
       "        <text id=\"bc6ba2e8-9c82-45c4-955c-443a01c5ef54-1\" x=\"13.77\" y=\"0.00\" dx=\"-0.20\" dy=\"0.20\">OH</text>\n",
       "        <text id=\"bc6ba2e8-9c82-45c4-955c-443a01c5ef54-3\" x=\"13.06\" y=\"-1.24\" dx=\"-0.20\" dy=\"0.20\">O</text>\n",
       "        <text id=\"bc6ba2e8-9c82-45c4-955c-443a01c5ef54-11\" x=\"9.49\" y=\"-0.83\" dx=\"-0.20\" dy=\"0.20\">N</text>\n",
       "      </g>\n",
       "      <g id=\"bc6ba2e8-9c82-45c4-955c-443a01c5ef54-mapping\" font-size=\"0.25\" font-family=\"monospace\" text-anchor=\"end\">\n",
       "        <text x=\"13.77\" y=\"0.00\" dx=\"-0.15\" dy=\"0.35\">1</text>\n",
       "        <text x=\"13.06\" y=\"-0.41\" dx=\"-0.05\" dy=\"0.20\">2</text>\n",
       "        <text x=\"13.06\" y=\"-1.24\" dx=\"-0.15\" dy=\"0.35\">3</text>\n",
       "        <text x=\"12.34\" y=\"-0.00\" dx=\"-0.05\" dy=\"0.20\">4</text>\n",
       "        <text x=\"12.34\" y=\"0.82\" dx=\"-0.05\" dy=\"0.20\">6</text>\n",
       "        <text x=\"11.63\" y=\"1.24\" dx=\"-0.05\" dy=\"0.20\">7</text>\n",
       "        <text x=\"10.92\" y=\"0.82\" dx=\"-0.05\" dy=\"0.20\">8</text>\n",
       "        <text x=\"10.92\" y=\"-0.00\" dx=\"-0.05\" dy=\"0.20\">9</text>\n",
       "        <text x=\"11.63\" y=\"-0.41\" dx=\"-0.05\" dy=\"0.20\">5</text>\n",
       "        <text x=\"10.20\" y=\"-0.41\" dx=\"-0.05\" dy=\"0.20\">10</text>\n",
       "        <text x=\"9.49\" y=\"-0.83\" dx=\"-0.15\" dy=\"0.35\">11</text>\n",
       "      </g>\n",
       "      <mask id=\"bc6ba2e8-9c82-45c4-955c-443a01c5ef54-mask\">\n",
       "        <rect x=\"-0.62\" y=\"-1.86\" width=\"15.77\" height=\"3.72\" fill=\"white\"/>\n",
       "        <g>\n",
       "          <circle cx=\"13.77\" cy=\"0.00\" r=\"0.20\"/>\n",
       "          <circle cx=\"13.06\" cy=\"-1.24\" r=\"0.20\"/>\n",
       "          <circle cx=\"9.49\" cy=\"-0.83\" r=\"0.20\"/>\n",
       "        </g>\n",
       "        <g stroke=\"black\">\n",
       "          <use xlink:href=\"#bc6ba2e8-9c82-45c4-955c-443a01c5ef54-symbols\" stroke-width=\"0.05\"/>\n",
       "          <use xlink:href=\"#bc6ba2e8-9c82-45c4-955c-443a01c5ef54-mapping\" stroke-width=\"0.03\"/>\n",
       "        </g>\n",
       "      </mask>\n",
       "    </defs>\n",
       "    <g fill=\"none\" stroke=\"black\" stroke-width=\"0.04\" mask=\"url(#bc6ba2e8-9c82-45c4-955c-443a01c5ef54-mask)\">\n",
       "      <line x1=\"13.77\" y1=\"0.00\" x2=\"13.06\" y2=\"-0.41\"/>\n",
       "      <line x1=\"13.00\" y1=\"-0.41\" x2=\"13.00\" y2=\"-1.24\"/>\n",
       "      <line x1=\"13.12\" y1=\"-0.41\" x2=\"13.12\" y2=\"-1.24\"/>\n",
       "      <line x1=\"13.06\" y1=\"-0.41\" x2=\"12.34\" y2=\"-0.00\"/>\n",
       "      <line x1=\"12.40\" y1=\"0.00\" x2=\"12.40\" y2=\"0.83\"/>\n",
       "      <line x1=\"12.28\" y1=\"-0.00\" x2=\"12.28\" y2=\"0.82\"/>\n",
       "      <line x1=\"12.34\" y1=\"-0.00\" x2=\"11.63\" y2=\"-0.41\"/>\n",
       "      <line x1=\"12.34\" y1=\"0.82\" x2=\"11.63\" y2=\"1.24\"/>\n",
       "      <line x1=\"11.63\" y1=\"1.24\" x2=\"10.92\" y2=\"0.82\"/>\n",
       "      <line x1=\"10.92\" y1=\"0.82\" x2=\"10.92\" y2=\"-0.00\"/>\n",
       "      <line x1=\"10.92\" y1=\"-0.00\" x2=\"11.63\" y2=\"-0.41\"/>\n",
       "      <line x1=\"10.92\" y1=\"-0.00\" x2=\"10.20\" y2=\"-0.41\"/>\n",
       "      <line x1=\"10.14\" y1=\"-0.30\" x2=\"9.42\" y2=\"-0.71\"/>\n",
       "      <line x1=\"10.20\" y1=\"-0.41\" x2=\"9.49\" y2=\"-0.83\"/>\n",
       "      <line x1=\"10.27\" y1=\"-0.53\" x2=\"9.55\" y2=\"-0.94\"/>\n",
       "    </g>\n",
       "    <g font-size=\"0.50\" font-family=\"sans-serif\">\n",
       "      <use xlink:href=\"#bc6ba2e8-9c82-45c4-955c-443a01c5ef54-1\" fill=\"#FF0D0D\"/>\n",
       "      <use xlink:href=\"#bc6ba2e8-9c82-45c4-955c-443a01c5ef54-3\" fill=\"#FF0D0D\"/>\n",
       "      <use xlink:href=\"#bc6ba2e8-9c82-45c4-955c-443a01c5ef54-11\" fill=\"#3050F8\"/>\n",
       "    </g>\n",
       "    <use xlink:href=\"#bc6ba2e8-9c82-45c4-955c-443a01c5ef54-mapping\" fill=\"#0305A7\"/>\n",
       "  </g>\n",
       "</svg>"
      ],
      "text/plain": [
       "<chython.containers.reaction.ReactionContainer at 0x20735157880>"
      ]
     },
     "execution_count": 33,
     "metadata": {},
     "output_type": "execute_result"
    }
   ],
   "source": [
    "r = smiles('OC(=O)C(=C)C=C.C=CC#N>>OC(=O)C1=CCCC(C1)C#N')\n",
    "r.clean2d()\n",
    "r.reset_mapping()\n",
    "r"
   ]
  },
  {
   "cell_type": "markdown",
   "metadata": {
    "pycharm": {
     "name": "#%% md\n"
    }
   },
   "source": [
    "# 4. Isomorphism\n",
    "\n",
    "## 4.1. Molecules Isomorphism\n",
    "\n",
    "Chython has simple substructure/structure isomorphism API.\n",
    "\n",
    "Note, that atoms are matched in subgraph isomorphism only if they have same charge/multiplicity and isotope options."
   ]
  },
  {
   "cell_type": "code",
   "execution_count": 34,
   "metadata": {
    "pycharm": {
     "name": "#%%\n"
    }
   },
   "outputs": [
    {
     "name": "stdout",
     "output_type": "stream",
     "text": [
      "True\n",
      "False\n",
      "True\n",
      "False\n",
      "False\n",
      "True\n"
     ]
    }
   ],
   "source": [
    "benzene = smiles('c1ccccc1')\n",
    "toluene = smiles('c1ccccc1C')\n",
    "# isomorphism operations\n",
    "print(benzene < toluene)  # benzene is substructure of toluene\n",
    "print(benzene > toluene)  # benzene is not superstructure of toluene\n",
    "print(benzene <= toluene) # benzene is substructure/or same structure of toluene\n",
    "print(benzene >= toluene) # benzene is not superstructure/or same structure of toluene\n",
    "print(benzene < benzene) # benzene is not substructure of benzene. it's equal\n",
    "print(benzene <= benzene)"
   ]
  },
  {
   "cell_type": "markdown",
   "metadata": {
    "pycharm": {
     "name": "#%% md\n"
    }
   },
   "source": [
    "Mappings of substructure or structure to structure can be returned using `substructure.get_mapping(structure)` method. Method acts as generator."
   ]
  },
  {
   "cell_type": "code",
   "execution_count": 35,
   "metadata": {
    "pycharm": {
     "name": "#%%\n"
    }
   },
   "outputs": [
    {
     "data": {
      "text/plain": [
       "{1: 6, 6: 1, 5: 2, 4: 3, 3: 4, 2: 5}"
      ]
     },
     "execution_count": 35,
     "metadata": {},
     "output_type": "execute_result"
    }
   ],
   "source": [
    "next(benzene.get_mapping(toluene))"
   ]
  },
  {
   "cell_type": "code",
   "execution_count": 36,
   "metadata": {
    "pycharm": {
     "name": "#%%\n"
    }
   },
   "outputs": [
    {
     "name": "stdout",
     "output_type": "stream",
     "text": [
      "{1: 6, 6: 1, 5: 2, 4: 3, 3: 4, 2: 5}\n",
      "{1: 6, 6: 5, 5: 4, 4: 3, 3: 2, 2: 1}\n",
      "{1: 5, 6: 6, 5: 1, 4: 2, 3: 3, 2: 4}\n",
      "{1: 5, 6: 4, 5: 3, 4: 2, 3: 1, 2: 6}\n",
      "{1: 4, 6: 5, 5: 6, 4: 1, 3: 2, 2: 3}\n",
      "{1: 4, 6: 3, 5: 2, 4: 1, 3: 6, 2: 5}\n",
      "{1: 3, 6: 4, 5: 5, 4: 6, 3: 1, 2: 2}\n",
      "{1: 3, 6: 2, 5: 1, 4: 6, 3: 5, 2: 4}\n",
      "{1: 2, 6: 3, 5: 4, 4: 5, 3: 6, 2: 1}\n",
      "{1: 2, 6: 1, 5: 6, 4: 5, 3: 4, 2: 3}\n",
      "{1: 1, 6: 6, 5: 5, 4: 4, 3: 3, 2: 2}\n",
      "{1: 1, 6: 2, 5: 3, 4: 4, 3: 5, 2: 6}\n"
     ]
    }
   ],
   "source": [
    "for m in benzene.get_mapping(toluene, automorphism_filter=False):  # iterate over all possible substructure mappings\n",
    "    print(m)"
   ]
  },
  {
   "cell_type": "markdown",
   "metadata": {
    "pycharm": {
     "name": "#%% md\n"
    }
   },
   "source": [
    "## 4.2. Queries\n",
    "\n",
    "Queries (QueryContainer) is special objects which additionally takes into account neighbors, hybridization, hydrogen count, ring size and heteroatom neighbors count state of atoms and bond in ring state.\n",
    "\n",
    "Queries can be generated from molecules by `substructure` method with as_query argument.\n",
    "\n",
    "Few special arguments for controlling atom state available."
   ]
  },
  {
   "cell_type": "code",
   "execution_count": 37,
   "metadata": {
    "pycharm": {
     "name": "#%%\n"
    }
   },
   "outputs": [
    {
     "name": "stdout",
     "output_type": "stream",
     "text": [
      "[O;D1;H0;Zd]=[C;D3;H0;Zd]-[O;D1;H1;Zs]\n"
     ]
    }
   ],
   "source": [
    "m = smiles('NCC(=O)O')\n",
    "carboxy = m.substructure([3, 4, 5], as_query=True, skip_neighbors_marks=False, skip_hybridizations_marks=False, skip_hydrogens_marks=False, skip_rings_sizes_marks=False)\n",
    "print(carboxy)"
   ]
  },
  {
   "cell_type": "code",
   "execution_count": 38,
   "metadata": {
    "pycharm": {
     "name": "#%%\n"
    }
   },
   "outputs": [
    {
     "data": {
      "text/plain": [
       "True"
      ]
     },
     "execution_count": 38,
     "metadata": {},
     "output_type": "execute_result"
    }
   ],
   "source": [
    "carboxy < m"
   ]
  },
  {
   "cell_type": "code",
   "execution_count": 39,
   "metadata": {
    "pycharm": {
     "name": "#%%\n"
    }
   },
   "outputs": [
    {
     "data": {
      "text/plain": [
       "False"
      ]
     },
     "execution_count": 39,
     "metadata": {},
     "output_type": "execute_result"
    }
   ],
   "source": [
    "carboxy < smiles('NCC(=O)OC') # not acid!"
   ]
  },
  {
   "cell_type": "markdown",
   "metadata": {
    "pycharm": {
     "name": "#%%\n"
    }
   },
   "source": [
    "### 4.2.1. Query building API\n",
    "\n",
    "It is possible to build query and molecule objects in programming way"
   ]
  },
  {
   "cell_type": "code",
   "execution_count": 40,
   "metadata": {},
   "outputs": [],
   "source": [
    "from chython import QueryContainer, MoleculeContainer\n",
    "from chython.containers.bonds import QueryBond\n",
    "from chython.periodictable import ListElement"
   ]
  },
  {
   "cell_type": "code",
   "execution_count": 41,
   "metadata": {},
   "outputs": [
    {
     "name": "stdout",
     "output_type": "stream",
     "text": [
      "[C;D3;H0;r0;Zd;W1]=[O,S]\n"
     ]
    }
   ],
   "source": [
    "q = QueryContainer() # create empty query\n",
    "q.add_atom('C', neighbors=3, hybridization=2, heteroatoms=1, rings_sizes=0, hydrogens=0)\n",
    "q.add_atom(ListElement(['O', 'S']), n=3) # oxygen or sulphur, with atom number 3\n",
    "q.add_bond(1, 3, 2) # atoms enumerated from 1. connect first and 3rd atom by bouble bond.\n",
    "print(q) # match only acyclic [tia] ketones"
   ]
  },
  {
   "cell_type": "code",
   "execution_count": 42,
   "metadata": {},
   "outputs": [
    {
     "data": {
      "text/plain": [
       "False"
      ]
     },
     "execution_count": 42,
     "metadata": {},
     "output_type": "execute_result"
    }
   ],
   "source": [
    "q < smiles('CC(=O)O')"
   ]
  },
  {
   "cell_type": "code",
   "execution_count": 43,
   "metadata": {},
   "outputs": [
    {
     "data": {
      "text/plain": [
       "True"
      ]
     },
     "execution_count": 43,
     "metadata": {},
     "output_type": "execute_result"
    }
   ],
   "source": [
    "q < smiles('CC(=S)C')"
   ]
  },
  {
   "cell_type": "code",
   "execution_count": 44,
   "metadata": {},
   "outputs": [
    {
     "data": {
      "text/plain": [
       "False"
      ]
     },
     "execution_count": 44,
     "metadata": {},
     "output_type": "execute_result"
    }
   ],
   "source": [
    "q < smiles('CC=O')"
   ]
  },
  {
   "cell_type": "code",
   "execution_count": 45,
   "metadata": {},
   "outputs": [
    {
     "data": {
      "text/plain": [
       "False"
      ]
     },
     "execution_count": 45,
     "metadata": {},
     "output_type": "execute_result"
    }
   ],
   "source": [
    "q < smiles('C1CC(=O)CC1')"
   ]
  },
  {
   "cell_type": "markdown",
   "metadata": {},
   "source": [
    "Molecules construction API the same, except extra query attributes"
   ]
  },
  {
   "cell_type": "code",
   "execution_count": 46,
   "metadata": {},
   "outputs": [
    {
     "data": {
      "image/svg+xml": [
       "<svg width=\"3.43cm\" height=\"1.66cm\" viewBox=\"-2.05 -1.04 3.43 1.66\" xmlns=\"http://www.w3.org/2000/svg\" xmlns:xlink=\"http://www.w3.org/1999/xlink\" version=\"1.1\">\n",
       "  <g id=\"2c102210-983d-4de6-9d92-0a06ac9b9b32-molecule\">\n",
       "    <defs>\n",
       "      <g id=\"2c102210-983d-4de6-9d92-0a06ac9b9b32-symbols\" font-size=\"0.50\" font-family=\"sans-serif\">\n",
       "        <text id=\"2c102210-983d-4de6-9d92-0a06ac9b9b32-3\" x=\"0.00\" y=\"-0.00\" dx=\"-0.20\" dy=\"0.20\">O</text>\n",
       "      </g>\n",
       "      <g id=\"2c102210-983d-4de6-9d92-0a06ac9b9b32-mapping\" font-size=\"0.25\" font-family=\"monospace\" text-anchor=\"end\">\n",
       "        <text x=\"-1.43\" y=\"-0.00\" dx=\"-0.05\" dy=\"0.20\">1</text>\n",
       "        <text x=\"-0.71\" y=\"-0.41\" dx=\"-0.05\" dy=\"0.20\">2</text>\n",
       "        <text x=\"0.00\" y=\"-0.00\" dx=\"-0.15\" dy=\"0.35\">3</text>\n",
       "      </g>\n",
       "      <mask id=\"2c102210-983d-4de6-9d92-0a06ac9b9b32-mask\">\n",
       "        <rect x=\"-2.05\" y=\"-1.04\" width=\"3.43\" height=\"1.66\" fill=\"white\"/>\n",
       "        <g>\n",
       "          <circle cx=\"0.00\" cy=\"-0.00\" r=\"0.20\"/>\n",
       "        </g>\n",
       "        <g stroke=\"black\">\n",
       "          <use xlink:href=\"#2c102210-983d-4de6-9d92-0a06ac9b9b32-symbols\" stroke-width=\"0.05\"/>\n",
       "          <use xlink:href=\"#2c102210-983d-4de6-9d92-0a06ac9b9b32-mapping\" stroke-width=\"0.03\"/>\n",
       "        </g>\n",
       "      </mask>\n",
       "    </defs>\n",
       "    <g fill=\"none\" stroke=\"black\" stroke-width=\"0.04\" mask=\"url(#2c102210-983d-4de6-9d92-0a06ac9b9b32-mask)\">\n",
       "      <line x1=\"-1.43\" y1=\"-0.00\" x2=\"-0.71\" y2=\"-0.41\"/>\n",
       "      <line x1=\"-0.68\" y1=\"-0.46\" x2=\"0.03\" y2=\"-0.05\"/>\n",
       "      <line x1=\"-0.74\" y1=\"-0.36\" x2=\"-0.03\" y2=\"0.05\"/>\n",
       "    </g>\n",
       "    <g font-size=\"0.50\" font-family=\"sans-serif\">\n",
       "      <use xlink:href=\"#2c102210-983d-4de6-9d92-0a06ac9b9b32-3\" fill=\"#FF0D0D\"/>\n",
       "    </g>\n",
       "    <use xlink:href=\"#2c102210-983d-4de6-9d92-0a06ac9b9b32-mapping\" fill=\"#0305A7\"/>\n",
       "  </g>\n",
       "</svg>"
      ],
      "text/plain": [
       "<chython.containers.molecule.MoleculeContainer at 0x207666c9400>"
      ]
     },
     "execution_count": 46,
     "metadata": {},
     "output_type": "execute_result"
    }
   ],
   "source": [
    "m = MoleculeContainer()\n",
    "m.add_atom('C')\n",
    "m.add_atom('C')\n",
    "m.add_atom('O')\n",
    "m.add_bond(1, 2, 1)\n",
    "m.add_bond(2, 3, 2)\n",
    "m.clean2d()\n",
    "m"
   ]
  },
  {
   "cell_type": "markdown",
   "metadata": {},
   "source": [
    "# 5. Reactor\n",
    "\n",
    "Reactor works similar to ChemAxon Reactions enumeration.\n",
    "\n",
    "Example here presents application of it to create esters from acids and alcoholes.\n",
    "\n",
    "First we need to construct carboxy group and alcohole matcher queries. Then, ether group need to be specified. \n",
    "\n",
    "Atom numbers in query and patch should be mapped to each other. The same atoms should have same numbers."
   ]
  },
  {
   "cell_type": "code",
   "execution_count": 47,
   "metadata": {},
   "outputs": [
    {
     "name": "stdout",
     "output_type": "stream",
     "text": [
      "[O;D1]-[C]=[O]\n"
     ]
    }
   ],
   "source": [
    "acid = QueryContainer()\n",
    "acid.add_atom('C')\n",
    "acid.add_atom('O', neighbors=1)\n",
    "acid.add_atom('O')\n",
    "acid.add_bond(1, 2, 1)\n",
    "acid.add_bond(1, 3, 2)\n",
    "print(acid)"
   ]
  },
  {
   "cell_type": "code",
   "execution_count": 48,
   "metadata": {},
   "outputs": [
    {
     "name": "stdout",
     "output_type": "stream",
     "text": [
      "[C;W1]-[O;D1]\n"
     ]
    }
   ],
   "source": [
    "alco = QueryContainer()\n",
    "alco.add_atom('C', n=4, heteroatoms=1) # set atom number manually\n",
    "alco.add_atom('O', 5, neighbors=1)\n",
    "alco.add_bond(4, 5, 1)\n",
    "print(alco)"
   ]
  },
  {
   "cell_type": "code",
   "execution_count": 49,
   "metadata": {},
   "outputs": [
    {
     "name": "stdout",
     "output_type": "stream",
     "text": [
      "[C](=[O])-[O]-[C]\n"
     ]
    }
   ],
   "source": [
    "ether = QueryContainer()\n",
    "ether.add_atom('C')\n",
    "ether.add_atom('O', 3)\n",
    "ether.add_atom('C')\n",
    "ether.add_atom('O')\n",
    "ether.add_bond(1, 3, 2)\n",
    "ether.add_bond(1, 5, 1)\n",
    "ether.add_bond(4, 5, 1)\n",
    "print(ether)"
   ]
  },
  {
   "cell_type": "code",
   "execution_count": 50,
   "metadata": {},
   "outputs": [],
   "source": [
    "from chython import Reactor\n",
    "from chython.utils import grid_depict\n",
    "from ipywidgets import HTML"
   ]
  },
  {
   "cell_type": "code",
   "execution_count": 51,
   "metadata": {},
   "outputs": [],
   "source": [
    "rxn = Reactor([acid, alco], [ether], delete_atoms=True, one_shot=False)\n",
    "# delete atoms not presented in product query\n",
    "# do multiple reactions if possible"
   ]
  },
  {
   "cell_type": "code",
   "execution_count": 52,
   "metadata": {},
   "outputs": [],
   "source": [
    "alcohols = [smiles('CO'), smiles('CCO'), smiles('CC(C)O')]\n",
    "acids = [smiles('C(=O)O'), smiles('CC(=O)O'), smiles('OC(=O)C(=O)O')]\n",
    "for x in alcohols + acids:\n",
    "    x.clean2d()"
   ]
  },
  {
   "cell_type": "code",
   "execution_count": 53,
   "metadata": {},
   "outputs": [
    {
     "data": {
      "application/vnd.jupyter.widget-view+json": {
       "model_id": "d86f95ddaa824f47899bb5969b094590",
       "version_major": 2,
       "version_minor": 0
      },
      "text/plain": [
       "HTML(value='<svg width=\"11.82cm\" height=\"5.92cm\" viewBox=\"-0.62 -0.62 11.82 5.92\" xmlns=\"http://www.w3.org/200…"
      ]
     },
     "metadata": {},
     "output_type": "display_data"
    }
   ],
   "source": [
    "HTML(grid_depict(alcohols + acids))"
   ]
  },
  {
   "cell_type": "code",
   "execution_count": 54,
   "metadata": {},
   "outputs": [
    {
     "data": {
      "text/plain": [
       "12"
      ]
     },
     "execution_count": 54,
     "metadata": {},
     "output_type": "execute_result"
    }
   ],
   "source": [
    "from itertools import product\n",
    "\n",
    "products = []\n",
    "for x in product(acids, alcohols):\n",
    "    for p in rxn(x): # apply transformation on given list of reactants\n",
    "        p.clean2d()\n",
    "        products.append(p)\n",
    "len(products)"
   ]
  },
  {
   "cell_type": "code",
   "execution_count": 55,
   "metadata": {},
   "outputs": [
    {
     "data": {
      "image/svg+xml": [
       "<svg width=\"11.66cm\" height=\"1.96cm\" viewBox=\"-0.62 -0.98 11.66 1.96\" xmlns=\"http://www.w3.org/2000/svg\" xmlns:xlink=\"http://www.w3.org/1999/xlink\" version=\"1.1\">\n",
       "  <defs>\n",
       "    <marker id=\"arrow\" markerWidth=\"10\" markerHeight=\"10\" refX=\"0\" refY=\"3\" orient=\"auto\">\n",
       "      <path d=\"M0,0 L0,6 L9,3\"/>\n",
       "    </marker>\n",
       "  </defs>\n",
       "  <line x1=\"4.51\" y1=\"0\" x2=\"6.51\" y2=\"0\" fill=\"none\" stroke=\"black\" stroke-width=\".04\" marker-end=\"url(#arrow)\"/>\n",
       "  <g fill=\"none\" stroke=\"black\" stroke-width=\".04\">\n",
       "    <line x1=\"1.79\" y1=\"0\" x2=\"2.09\" y2=\"0\"/>\n",
       "    <line x1=\"1.94\" y1=\"0.15\" x2=\"1.94\" y2=\"-0.15\"/>\n",
       "  </g>\n",
       "  <g id=\"83b20c80-ab0d-4e39-97bf-3c9c1131c246-molecule\">\n",
       "    <defs>\n",
       "      <g id=\"83b20c80-ab0d-4e39-97bf-3c9c1131c246-symbols\" font-size=\"0.50\" font-family=\"sans-serif\">\n",
       "        <text id=\"83b20c80-ab0d-4e39-97bf-3c9c1131c246-2\" x=\"0.00\" y=\"-0.36\" dx=\"-0.20\" dy=\"0.20\">O</text>\n",
       "        <text id=\"83b20c80-ab0d-4e39-97bf-3c9c1131c246-3\" x=\"1.24\" y=\"0.36\" dx=\"-0.20\" dy=\"0.20\">OH</text>\n",
       "      </g>\n",
       "      <g id=\"83b20c80-ab0d-4e39-97bf-3c9c1131c246-mapping\" font-size=\"0.25\" font-family=\"monospace\" text-anchor=\"end\">\n",
       "        <text x=\"0.41\" y=\"0.36\" dx=\"-0.05\" dy=\"0.20\">1</text>\n",
       "        <text x=\"0.00\" y=\"-0.36\" dx=\"-0.15\" dy=\"0.35\">2</text>\n",
       "        <text x=\"1.24\" y=\"0.36\" dx=\"-0.15\" dy=\"0.35\">3</text>\n",
       "      </g>\n",
       "      <mask id=\"83b20c80-ab0d-4e39-97bf-3c9c1131c246-mask\">\n",
       "        <rect x=\"-0.62\" y=\"-0.98\" width=\"11.66\" height=\"1.96\" fill=\"white\"/>\n",
       "        <g>\n",
       "          <circle cx=\"0.00\" cy=\"-0.36\" r=\"0.20\"/>\n",
       "          <circle cx=\"1.24\" cy=\"0.36\" r=\"0.20\"/>\n",
       "        </g>\n",
       "        <g stroke=\"black\">\n",
       "          <use xlink:href=\"#83b20c80-ab0d-4e39-97bf-3c9c1131c246-symbols\" stroke-width=\"0.05\"/>\n",
       "          <use xlink:href=\"#83b20c80-ab0d-4e39-97bf-3c9c1131c246-mapping\" stroke-width=\"0.03\"/>\n",
       "        </g>\n",
       "      </mask>\n",
       "    </defs>\n",
       "    <g fill=\"none\" stroke=\"black\" stroke-width=\"0.04\" mask=\"url(#83b20c80-ab0d-4e39-97bf-3c9c1131c246-mask)\">\n",
       "      <line x1=\"0.36\" y1=\"0.39\" x2=\"-0.05\" y2=\"-0.33\"/>\n",
       "      <line x1=\"0.46\" y1=\"0.33\" x2=\"0.05\" y2=\"-0.39\"/>\n",
       "      <line x1=\"0.41\" y1=\"0.36\" x2=\"1.24\" y2=\"0.36\"/>\n",
       "    </g>\n",
       "    <g font-size=\"0.50\" font-family=\"sans-serif\">\n",
       "      <use xlink:href=\"#83b20c80-ab0d-4e39-97bf-3c9c1131c246-2\" fill=\"#FF0D0D\"/>\n",
       "      <use xlink:href=\"#83b20c80-ab0d-4e39-97bf-3c9c1131c246-3\" fill=\"#FF0D0D\"/>\n",
       "    </g>\n",
       "    <use xlink:href=\"#83b20c80-ab0d-4e39-97bf-3c9c1131c246-mapping\" fill=\"#0305A7\"/>\n",
       "  </g>\n",
       "  <g id=\"4c3d5ffb-5ff5-4d67-a19f-85ce1a507b24-molecule\">\n",
       "    <defs>\n",
       "      <g id=\"4c3d5ffb-5ff5-4d67-a19f-85ce1a507b24-symbols\" font-size=\"0.50\" font-family=\"sans-serif\">\n",
       "        <text id=\"4c3d5ffb-5ff5-4d67-a19f-85ce1a507b24-5\" x=\"2.44\" y=\"-0.00\" dx=\"-0.20\" dy=\"0.20\">OH</text>\n",
       "      </g>\n",
       "      <g id=\"4c3d5ffb-5ff5-4d67-a19f-85ce1a507b24-mapping\" font-size=\"0.25\" font-family=\"monospace\" text-anchor=\"end\">\n",
       "        <text x=\"3.26\" y=\"0.00\" dx=\"-0.05\" dy=\"0.20\">4</text>\n",
       "        <text x=\"2.44\" y=\"-0.00\" dx=\"-0.15\" dy=\"0.35\">5</text>\n",
       "      </g>\n",
       "      <mask id=\"4c3d5ffb-5ff5-4d67-a19f-85ce1a507b24-mask\">\n",
       "        <rect x=\"-0.62\" y=\"-0.98\" width=\"11.66\" height=\"1.96\" fill=\"white\"/>\n",
       "        <g>\n",
       "          <circle cx=\"2.44\" cy=\"-0.00\" r=\"0.20\"/>\n",
       "        </g>\n",
       "        <g stroke=\"black\">\n",
       "          <use xlink:href=\"#4c3d5ffb-5ff5-4d67-a19f-85ce1a507b24-symbols\" stroke-width=\"0.05\"/>\n",
       "          <use xlink:href=\"#4c3d5ffb-5ff5-4d67-a19f-85ce1a507b24-mapping\" stroke-width=\"0.03\"/>\n",
       "        </g>\n",
       "      </mask>\n",
       "    </defs>\n",
       "    <g fill=\"none\" stroke=\"black\" stroke-width=\"0.04\" mask=\"url(#4c3d5ffb-5ff5-4d67-a19f-85ce1a507b24-mask)\">\n",
       "      <line x1=\"-0.62\" y1=\"-0.98\" x2=\"11.03\" y2=\"-0.98\" stroke=\"none\"/>\n",
       "      <line x1=\"3.26\" y1=\"0.00\" x2=\"2.44\" y2=\"-0.00\"/>\n",
       "    </g>\n",
       "    <g font-size=\"0.50\" font-family=\"sans-serif\">\n",
       "      <use xlink:href=\"#4c3d5ffb-5ff5-4d67-a19f-85ce1a507b24-5\" fill=\"#FF0D0D\"/>\n",
       "    </g>\n",
       "    <use xlink:href=\"#4c3d5ffb-5ff5-4d67-a19f-85ce1a507b24-mapping\" fill=\"#0305A7\"/>\n",
       "  </g>\n",
       "  <g id=\"c181b1cb-06e5-498b-8cde-a54b8e77ef6c-molecule\">\n",
       "    <defs>\n",
       "      <g id=\"c181b1cb-06e5-498b-8cde-a54b8e77ef6c-symbols\" font-size=\"0.50\" font-family=\"sans-serif\">\n",
       "        <text id=\"c181b1cb-06e5-498b-8cde-a54b8e77ef6c-2\" x=\"7.51\" y=\"-0.21\" dx=\"-0.20\" dy=\"0.20\">O</text>\n",
       "        <text id=\"c181b1cb-06e5-498b-8cde-a54b8e77ef6c-5\" x=\"8.94\" y=\"-0.21\" dx=\"-0.20\" dy=\"0.20\">O</text>\n",
       "      </g>\n",
       "      <g id=\"c181b1cb-06e5-498b-8cde-a54b8e77ef6c-mapping\" font-size=\"0.25\" font-family=\"monospace\" text-anchor=\"end\">\n",
       "        <text x=\"8.23\" y=\"0.21\" dx=\"-0.05\" dy=\"0.20\">1</text>\n",
       "        <text x=\"7.51\" y=\"-0.21\" dx=\"-0.15\" dy=\"0.35\">2</text>\n",
       "        <text x=\"9.66\" y=\"0.21\" dx=\"-0.05\" dy=\"0.20\">4</text>\n",
       "        <text x=\"8.94\" y=\"-0.21\" dx=\"-0.15\" dy=\"0.35\">5</text>\n",
       "      </g>\n",
       "      <mask id=\"c181b1cb-06e5-498b-8cde-a54b8e77ef6c-mask\">\n",
       "        <rect x=\"-0.62\" y=\"-0.98\" width=\"11.66\" height=\"1.96\" fill=\"white\"/>\n",
       "        <g>\n",
       "          <circle cx=\"7.51\" cy=\"-0.21\" r=\"0.20\"/>\n",
       "          <circle cx=\"8.94\" cy=\"-0.21\" r=\"0.20\"/>\n",
       "        </g>\n",
       "        <g stroke=\"black\">\n",
       "          <use xlink:href=\"#c181b1cb-06e5-498b-8cde-a54b8e77ef6c-symbols\" stroke-width=\"0.05\"/>\n",
       "          <use xlink:href=\"#c181b1cb-06e5-498b-8cde-a54b8e77ef6c-mapping\" stroke-width=\"0.03\"/>\n",
       "        </g>\n",
       "      </mask>\n",
       "    </defs>\n",
       "    <g fill=\"none\" stroke=\"black\" stroke-width=\"0.04\" mask=\"url(#c181b1cb-06e5-498b-8cde-a54b8e77ef6c-mask)\">\n",
       "      <line x1=\"8.20\" y1=\"0.26\" x2=\"7.48\" y2=\"-0.15\"/>\n",
       "      <line x1=\"8.26\" y1=\"0.15\" x2=\"7.54\" y2=\"-0.26\"/>\n",
       "      <line x1=\"8.23\" y1=\"0.21\" x2=\"8.94\" y2=\"-0.21\"/>\n",
       "      <line x1=\"9.66\" y1=\"0.21\" x2=\"8.94\" y2=\"-0.21\"/>\n",
       "    </g>\n",
       "    <g font-size=\"0.50\" font-family=\"sans-serif\">\n",
       "      <use xlink:href=\"#c181b1cb-06e5-498b-8cde-a54b8e77ef6c-2\" fill=\"#FF0D0D\"/>\n",
       "      <use xlink:href=\"#c181b1cb-06e5-498b-8cde-a54b8e77ef6c-5\" fill=\"#FF0D0D\"/>\n",
       "    </g>\n",
       "    <use xlink:href=\"#c181b1cb-06e5-498b-8cde-a54b8e77ef6c-mapping\" fill=\"#0305A7\"/>\n",
       "  </g>\n",
       "</svg>"
      ],
      "text/plain": [
       "<chython.containers.reaction.ReactionContainer at 0x20734fb78e0>"
      ]
     },
     "execution_count": 55,
     "metadata": {},
     "output_type": "execute_result"
    }
   ],
   "source": [
    "products[0]"
   ]
  },
  {
   "cell_type": "code",
   "execution_count": 56,
   "metadata": {},
   "outputs": [
    {
     "data": {
      "image/svg+xml": [
       "<svg width=\"14.68cm\" height=\"3.20cm\" viewBox=\"-0.62 -1.60 14.68 3.20\" xmlns=\"http://www.w3.org/2000/svg\" xmlns:xlink=\"http://www.w3.org/1999/xlink\" version=\"1.1\">\n",
       "  <defs>\n",
       "    <marker id=\"arrow\" markerWidth=\"10\" markerHeight=\"10\" refX=\"0\" refY=\"3\" orient=\"auto\">\n",
       "      <path d=\"M0,0 L0,6 L9,3\"/>\n",
       "    </marker>\n",
       "  </defs>\n",
       "  <line x1=\"5.28\" y1=\"0\" x2=\"7.28\" y2=\"0\" fill=\"none\" stroke=\"black\" stroke-width=\".04\" marker-end=\"url(#arrow)\"/>\n",
       "  <g fill=\"none\" stroke=\"black\" stroke-width=\".04\">\n",
       "    <line x1=\"2.20\" y1=\"0\" x2=\"2.50\" y2=\"0\"/>\n",
       "    <line x1=\"2.35\" y1=\"0.15\" x2=\"2.35\" y2=\"-0.15\"/>\n",
       "  </g>\n",
       "  <g id=\"6a8579ba-d8a5-4a1b-94b1-ae5d84f44089-molecule\">\n",
       "    <defs>\n",
       "      <g id=\"6a8579ba-d8a5-4a1b-94b1-ae5d84f44089-symbols\" font-size=\"0.50\" font-family=\"sans-serif\">\n",
       "        <text id=\"6a8579ba-d8a5-4a1b-94b1-ae5d84f44089-1\" x=\"0.00\" y=\"0.71\" dx=\"-0.20\" dy=\"0.20\">OH</text>\n",
       "        <text id=\"6a8579ba-d8a5-4a1b-94b1-ae5d84f44089-3\" x=\"0.00\" y=\"-0.71\" dx=\"-0.20\" dy=\"0.20\">O</text>\n",
       "        <text id=\"6a8579ba-d8a5-4a1b-94b1-ae5d84f44089-5\" x=\"1.65\" y=\"-0.71\" dx=\"-0.20\" dy=\"0.20\">O</text>\n",
       "        <text id=\"6a8579ba-d8a5-4a1b-94b1-ae5d84f44089-6\" x=\"1.65\" y=\"0.71\" dx=\"-0.20\" dy=\"0.20\">OH</text>\n",
       "      </g>\n",
       "      <g id=\"6a8579ba-d8a5-4a1b-94b1-ae5d84f44089-mapping\" font-size=\"0.25\" font-family=\"monospace\" text-anchor=\"end\">\n",
       "        <text x=\"0.00\" y=\"0.71\" dx=\"-0.15\" dy=\"0.35\">1</text>\n",
       "        <text x=\"0.41\" y=\"-0.00\" dx=\"-0.05\" dy=\"0.20\">2</text>\n",
       "        <text x=\"0.00\" y=\"-0.71\" dx=\"-0.15\" dy=\"0.35\">3</text>\n",
       "        <text x=\"1.24\" y=\"0.00\" dx=\"-0.05\" dy=\"0.20\">4</text>\n",
       "        <text x=\"1.65\" y=\"-0.71\" dx=\"-0.15\" dy=\"0.35\">5</text>\n",
       "        <text x=\"1.65\" y=\"0.71\" dx=\"-0.15\" dy=\"0.35\">6</text>\n",
       "      </g>\n",
       "      <mask id=\"6a8579ba-d8a5-4a1b-94b1-ae5d84f44089-mask\">\n",
       "        <rect x=\"-0.62\" y=\"-1.60\" width=\"14.68\" height=\"3.20\" fill=\"white\"/>\n",
       "        <g>\n",
       "          <circle cx=\"0.00\" cy=\"0.71\" r=\"0.20\"/>\n",
       "          <circle cx=\"0.00\" cy=\"-0.71\" r=\"0.20\"/>\n",
       "          <circle cx=\"1.65\" cy=\"-0.71\" r=\"0.20\"/>\n",
       "          <circle cx=\"1.65\" cy=\"0.71\" r=\"0.20\"/>\n",
       "        </g>\n",
       "        <g stroke=\"black\">\n",
       "          <use xlink:href=\"#6a8579ba-d8a5-4a1b-94b1-ae5d84f44089-symbols\" stroke-width=\"0.05\"/>\n",
       "          <use xlink:href=\"#6a8579ba-d8a5-4a1b-94b1-ae5d84f44089-mapping\" stroke-width=\"0.03\"/>\n",
       "        </g>\n",
       "      </mask>\n",
       "    </defs>\n",
       "    <g fill=\"none\" stroke=\"black\" stroke-width=\"0.04\" mask=\"url(#6a8579ba-d8a5-4a1b-94b1-ae5d84f44089-mask)\">\n",
       "      <line x1=\"0.00\" y1=\"0.71\" x2=\"0.41\" y2=\"-0.00\"/>\n",
       "      <line x1=\"0.36\" y1=\"0.03\" x2=\"-0.05\" y2=\"-0.68\"/>\n",
       "      <line x1=\"0.46\" y1=\"-0.03\" x2=\"0.05\" y2=\"-0.74\"/>\n",
       "      <line x1=\"0.41\" y1=\"-0.00\" x2=\"1.24\" y2=\"0.00\"/>\n",
       "      <line x1=\"1.19\" y1=\"-0.03\" x2=\"1.60\" y2=\"-0.74\"/>\n",
       "      <line x1=\"1.29\" y1=\"0.03\" x2=\"1.70\" y2=\"-0.68\"/>\n",
       "      <line x1=\"1.24\" y1=\"0.00\" x2=\"1.65\" y2=\"0.71\"/>\n",
       "    </g>\n",
       "    <g font-size=\"0.50\" font-family=\"sans-serif\">\n",
       "      <use xlink:href=\"#6a8579ba-d8a5-4a1b-94b1-ae5d84f44089-1\" fill=\"#FF0D0D\"/>\n",
       "      <use xlink:href=\"#6a8579ba-d8a5-4a1b-94b1-ae5d84f44089-3\" fill=\"#FF0D0D\"/>\n",
       "      <use xlink:href=\"#6a8579ba-d8a5-4a1b-94b1-ae5d84f44089-5\" fill=\"#FF0D0D\"/>\n",
       "      <use xlink:href=\"#6a8579ba-d8a5-4a1b-94b1-ae5d84f44089-6\" fill=\"#FF0D0D\"/>\n",
       "    </g>\n",
       "    <use xlink:href=\"#6a8579ba-d8a5-4a1b-94b1-ae5d84f44089-mapping\" fill=\"#0305A7\"/>\n",
       "  </g>\n",
       "  <g id=\"67f0667e-aa89-46e8-9634-ccc4df608b5b-molecule\">\n",
       "    <defs>\n",
       "      <g id=\"67f0667e-aa89-46e8-9634-ccc4df608b5b-symbols\" font-size=\"0.50\" font-family=\"sans-serif\">\n",
       "        <text id=\"67f0667e-aa89-46e8-9634-ccc4df608b5b-9\" x=\"4.28\" y=\"0.21\" dx=\"-0.20\" dy=\"0.20\">OH</text>\n",
       "      </g>\n",
       "      <g id=\"67f0667e-aa89-46e8-9634-ccc4df608b5b-mapping\" font-size=\"0.25\" font-family=\"monospace\" text-anchor=\"end\">\n",
       "        <text x=\"2.85\" y=\"0.21\" dx=\"-0.05\" dy=\"0.20\">7</text>\n",
       "        <text x=\"3.56\" y=\"-0.21\" dx=\"-0.05\" dy=\"0.20\">8</text>\n",
       "        <text x=\"4.28\" y=\"0.21\" dx=\"-0.15\" dy=\"0.35\">9</text>\n",
       "      </g>\n",
       "      <mask id=\"67f0667e-aa89-46e8-9634-ccc4df608b5b-mask\">\n",
       "        <rect x=\"-0.62\" y=\"-1.60\" width=\"14.68\" height=\"3.20\" fill=\"white\"/>\n",
       "        <g>\n",
       "          <circle cx=\"4.28\" cy=\"0.21\" r=\"0.20\"/>\n",
       "        </g>\n",
       "        <g stroke=\"black\">\n",
       "          <use xlink:href=\"#67f0667e-aa89-46e8-9634-ccc4df608b5b-symbols\" stroke-width=\"0.05\"/>\n",
       "          <use xlink:href=\"#67f0667e-aa89-46e8-9634-ccc4df608b5b-mapping\" stroke-width=\"0.03\"/>\n",
       "        </g>\n",
       "      </mask>\n",
       "    </defs>\n",
       "    <g fill=\"none\" stroke=\"black\" stroke-width=\"0.04\" mask=\"url(#67f0667e-aa89-46e8-9634-ccc4df608b5b-mask)\">\n",
       "      <line x1=\"2.85\" y1=\"0.21\" x2=\"3.56\" y2=\"-0.21\"/>\n",
       "      <line x1=\"3.56\" y1=\"-0.21\" x2=\"4.28\" y2=\"0.21\"/>\n",
       "    </g>\n",
       "    <g font-size=\"0.50\" font-family=\"sans-serif\">\n",
       "      <use xlink:href=\"#67f0667e-aa89-46e8-9634-ccc4df608b5b-9\" fill=\"#FF0D0D\"/>\n",
       "    </g>\n",
       "    <use xlink:href=\"#67f0667e-aa89-46e8-9634-ccc4df608b5b-mapping\" fill=\"#0305A7\"/>\n",
       "  </g>\n",
       "  <g id=\"e287fbcf-c307-451a-b6e4-abe66b15a9da-molecule\">\n",
       "    <defs>\n",
       "      <g id=\"e287fbcf-c307-451a-b6e4-abe66b15a9da-symbols\" font-size=\"0.50\" font-family=\"sans-serif\">\n",
       "        <text id=\"e287fbcf-c307-451a-b6e4-abe66b15a9da-3\" x=\"10.72\" y=\"0.98\" dx=\"-0.20\" dy=\"0.20\">O</text>\n",
       "        <text id=\"e287fbcf-c307-451a-b6e4-abe66b15a9da-11\" x=\"11.55\" y=\"-0.45\" dx=\"-0.20\" dy=\"0.20\">O</text>\n",
       "        <text id=\"e287fbcf-c307-451a-b6e4-abe66b15a9da-5\" x=\"10.42\" y=\"-0.98\" dx=\"-0.20\" dy=\"0.20\">O</text>\n",
       "        <text id=\"e287fbcf-c307-451a-b6e4-abe66b15a9da-9\" x=\"9.71\" y=\"0.26\" dx=\"-0.20\" dy=\"0.20\">O</text>\n",
       "      </g>\n",
       "      <g id=\"e287fbcf-c307-451a-b6e4-abe66b15a9da-mapping\" font-size=\"0.25\" font-family=\"monospace\" text-anchor=\"end\">\n",
       "        <text x=\"11.14\" y=\"0.26\" dx=\"-0.05\" dy=\"0.20\">2</text>\n",
       "        <text x=\"10.72\" y=\"0.98\" dx=\"-0.15\" dy=\"0.35\">3</text>\n",
       "        <text x=\"12.26\" y=\"-0.87\" dx=\"-0.05\" dy=\"0.20\">10</text>\n",
       "        <text x=\"11.55\" y=\"-0.45\" dx=\"-0.15\" dy=\"0.35\">11</text>\n",
       "        <text x=\"10.42\" y=\"-0.15\" dx=\"-0.05\" dy=\"0.20\">4</text>\n",
       "        <text x=\"10.42\" y=\"-0.98\" dx=\"-0.15\" dy=\"0.35\">5</text>\n",
       "        <text x=\"8.99\" y=\"-0.15\" dx=\"-0.05\" dy=\"0.20\">8</text>\n",
       "        <text x=\"9.71\" y=\"0.26\" dx=\"-0.15\" dy=\"0.35\">9</text>\n",
       "        <text x=\"8.28\" y=\"0.26\" dx=\"-0.05\" dy=\"0.20\">7</text>\n",
       "        <text x=\"12.68\" y=\"-0.15\" dx=\"-0.05\" dy=\"0.20\">12</text>\n",
       "      </g>\n",
       "      <mask id=\"e287fbcf-c307-451a-b6e4-abe66b15a9da-mask\">\n",
       "        <rect x=\"-0.62\" y=\"-1.60\" width=\"14.68\" height=\"3.20\" fill=\"white\"/>\n",
       "        <g>\n",
       "          <circle cx=\"10.72\" cy=\"0.98\" r=\"0.20\"/>\n",
       "          <circle cx=\"11.55\" cy=\"-0.45\" r=\"0.20\"/>\n",
       "          <circle cx=\"10.42\" cy=\"-0.98\" r=\"0.20\"/>\n",
       "          <circle cx=\"9.71\" cy=\"0.26\" r=\"0.20\"/>\n",
       "        </g>\n",
       "        <g stroke=\"black\">\n",
       "          <use xlink:href=\"#e287fbcf-c307-451a-b6e4-abe66b15a9da-symbols\" stroke-width=\"0.05\"/>\n",
       "          <use xlink:href=\"#e287fbcf-c307-451a-b6e4-abe66b15a9da-mapping\" stroke-width=\"0.03\"/>\n",
       "        </g>\n",
       "      </mask>\n",
       "    </defs>\n",
       "    <g fill=\"none\" stroke=\"black\" stroke-width=\"0.04\" mask=\"url(#e287fbcf-c307-451a-b6e4-abe66b15a9da-mask)\">\n",
       "      <line x1=\"11.19\" y1=\"0.29\" x2=\"10.78\" y2=\"1.01\"/>\n",
       "      <line x1=\"11.08\" y1=\"0.23\" x2=\"10.67\" y2=\"0.95\"/>\n",
       "      <line x1=\"11.14\" y1=\"0.26\" x2=\"11.55\" y2=\"-0.45\"/>\n",
       "      <line x1=\"11.14\" y1=\"0.26\" x2=\"10.42\" y2=\"-0.15\"/>\n",
       "      <line x1=\"12.26\" y1=\"-0.87\" x2=\"11.55\" y2=\"-0.45\"/>\n",
       "      <line x1=\"12.26\" y1=\"-0.87\" x2=\"12.68\" y2=\"-0.15\"/>\n",
       "      <line x1=\"10.36\" y1=\"-0.15\" x2=\"10.36\" y2=\"-0.98\"/>\n",
       "      <line x1=\"10.48\" y1=\"-0.15\" x2=\"10.48\" y2=\"-0.98\"/>\n",
       "      <line x1=\"10.42\" y1=\"-0.15\" x2=\"9.71\" y2=\"0.26\"/>\n",
       "      <line x1=\"8.99\" y1=\"-0.15\" x2=\"9.71\" y2=\"0.26\"/>\n",
       "      <line x1=\"8.99\" y1=\"-0.15\" x2=\"8.28\" y2=\"0.26\"/>\n",
       "    </g>\n",
       "    <g font-size=\"0.50\" font-family=\"sans-serif\">\n",
       "      <use xlink:href=\"#e287fbcf-c307-451a-b6e4-abe66b15a9da-3\" fill=\"#FF0D0D\"/>\n",
       "      <use xlink:href=\"#e287fbcf-c307-451a-b6e4-abe66b15a9da-11\" fill=\"#FF0D0D\"/>\n",
       "      <use xlink:href=\"#e287fbcf-c307-451a-b6e4-abe66b15a9da-5\" fill=\"#FF0D0D\"/>\n",
       "      <use xlink:href=\"#e287fbcf-c307-451a-b6e4-abe66b15a9da-9\" fill=\"#FF0D0D\"/>\n",
       "    </g>\n",
       "    <use xlink:href=\"#e287fbcf-c307-451a-b6e4-abe66b15a9da-mapping\" fill=\"#0305A7\"/>\n",
       "  </g>\n",
       "</svg>"
      ],
      "text/plain": [
       "<chython.containers.reaction.ReactionContainer at 0x20734fb7a00>"
      ]
     },
     "execution_count": 56,
     "metadata": {},
     "output_type": "execute_result"
    }
   ],
   "source": [
    "products[-3]"
   ]
  },
  {
   "cell_type": "code",
   "execution_count": 57,
   "metadata": {
    "scrolled": true
   },
   "outputs": [
    {
     "data": {
      "image/svg+xml": [
       "<svg width=\"13.85cm\" height=\"3.31cm\" viewBox=\"-0.62 -1.66 13.85 3.31\" xmlns=\"http://www.w3.org/2000/svg\" xmlns:xlink=\"http://www.w3.org/1999/xlink\" version=\"1.1\">\n",
       "  <defs>\n",
       "    <marker id=\"arrow\" markerWidth=\"10\" markerHeight=\"10\" refX=\"0\" refY=\"3\" orient=\"auto\">\n",
       "      <path d=\"M0,0 L0,6 L9,3\"/>\n",
       "    </marker>\n",
       "  </defs>\n",
       "  <line x1=\"5.28\" y1=\"0\" x2=\"7.28\" y2=\"0\" fill=\"none\" stroke=\"black\" stroke-width=\".04\" marker-end=\"url(#arrow)\"/>\n",
       "  <g fill=\"none\" stroke=\"black\" stroke-width=\".04\">\n",
       "    <line x1=\"2.20\" y1=\"0\" x2=\"2.50\" y2=\"0\"/>\n",
       "    <line x1=\"2.35\" y1=\"0.15\" x2=\"2.35\" y2=\"-0.15\"/>\n",
       "  </g>\n",
       "  <g id=\"892476be-d10a-45fe-bc77-96919dd2abba-molecule\">\n",
       "    <defs>\n",
       "      <g id=\"892476be-d10a-45fe-bc77-96919dd2abba-symbols\" font-size=\"0.50\" font-family=\"sans-serif\">\n",
       "        <text id=\"892476be-d10a-45fe-bc77-96919dd2abba-1\" x=\"1.65\" y=\"-0.71\" dx=\"-0.20\" dy=\"0.20\">OH</text>\n",
       "        <text id=\"892476be-d10a-45fe-bc77-96919dd2abba-3\" x=\"1.65\" y=\"0.71\" dx=\"-0.20\" dy=\"0.20\">O</text>\n",
       "        <text id=\"892476be-d10a-45fe-bc77-96919dd2abba-5\" x=\"0.00\" y=\"-0.71\" dx=\"-0.20\" dy=\"0.20\">O</text>\n",
       "        <text id=\"892476be-d10a-45fe-bc77-96919dd2abba-6\" x=\"0.00\" y=\"0.71\" dx=\"-0.20\" dy=\"0.20\">OH</text>\n",
       "      </g>\n",
       "      <g id=\"892476be-d10a-45fe-bc77-96919dd2abba-mapping\" font-size=\"0.25\" font-family=\"monospace\" text-anchor=\"end\">\n",
       "        <text x=\"1.65\" y=\"-0.71\" dx=\"-0.15\" dy=\"0.35\">1</text>\n",
       "        <text x=\"1.24\" y=\"0.00\" dx=\"-0.05\" dy=\"0.20\">2</text>\n",
       "        <text x=\"1.65\" y=\"0.71\" dx=\"-0.15\" dy=\"0.35\">3</text>\n",
       "        <text x=\"0.41\" y=\"-0.00\" dx=\"-0.05\" dy=\"0.20\">4</text>\n",
       "        <text x=\"0.00\" y=\"-0.71\" dx=\"-0.15\" dy=\"0.35\">5</text>\n",
       "        <text x=\"0.00\" y=\"0.71\" dx=\"-0.15\" dy=\"0.35\">6</text>\n",
       "      </g>\n",
       "      <mask id=\"892476be-d10a-45fe-bc77-96919dd2abba-mask\">\n",
       "        <rect x=\"-0.62\" y=\"-1.66\" width=\"13.85\" height=\"3.31\" fill=\"white\"/>\n",
       "        <g>\n",
       "          <circle cx=\"1.65\" cy=\"-0.71\" r=\"0.20\"/>\n",
       "          <circle cx=\"1.65\" cy=\"0.71\" r=\"0.20\"/>\n",
       "          <circle cx=\"0.00\" cy=\"-0.71\" r=\"0.20\"/>\n",
       "          <circle cx=\"0.00\" cy=\"0.71\" r=\"0.20\"/>\n",
       "        </g>\n",
       "        <g stroke=\"black\">\n",
       "          <use xlink:href=\"#892476be-d10a-45fe-bc77-96919dd2abba-symbols\" stroke-width=\"0.05\"/>\n",
       "          <use xlink:href=\"#892476be-d10a-45fe-bc77-96919dd2abba-mapping\" stroke-width=\"0.03\"/>\n",
       "        </g>\n",
       "      </mask>\n",
       "    </defs>\n",
       "    <g fill=\"none\" stroke=\"black\" stroke-width=\"0.04\" mask=\"url(#892476be-d10a-45fe-bc77-96919dd2abba-mask)\">\n",
       "      <line x1=\"1.65\" y1=\"-0.71\" x2=\"1.24\" y2=\"0.00\"/>\n",
       "      <line x1=\"1.29\" y1=\"-0.03\" x2=\"1.70\" y2=\"0.68\"/>\n",
       "      <line x1=\"1.19\" y1=\"0.03\" x2=\"1.60\" y2=\"0.74\"/>\n",
       "      <line x1=\"1.24\" y1=\"0.00\" x2=\"0.41\" y2=\"-0.00\"/>\n",
       "      <line x1=\"0.36\" y1=\"0.03\" x2=\"-0.05\" y2=\"-0.68\"/>\n",
       "      <line x1=\"0.46\" y1=\"-0.03\" x2=\"0.05\" y2=\"-0.74\"/>\n",
       "      <line x1=\"0.41\" y1=\"-0.00\" x2=\"0.00\" y2=\"0.71\"/>\n",
       "    </g>\n",
       "    <g font-size=\"0.50\" font-family=\"sans-serif\">\n",
       "      <use xlink:href=\"#892476be-d10a-45fe-bc77-96919dd2abba-1\" fill=\"#FF0D0D\"/>\n",
       "      <use xlink:href=\"#892476be-d10a-45fe-bc77-96919dd2abba-3\" fill=\"#FF0D0D\"/>\n",
       "      <use xlink:href=\"#892476be-d10a-45fe-bc77-96919dd2abba-5\" fill=\"#FF0D0D\"/>\n",
       "      <use xlink:href=\"#892476be-d10a-45fe-bc77-96919dd2abba-6\" fill=\"#FF0D0D\"/>\n",
       "    </g>\n",
       "    <use xlink:href=\"#892476be-d10a-45fe-bc77-96919dd2abba-mapping\" fill=\"#0305A7\"/>\n",
       "  </g>\n",
       "  <g id=\"a16365ca-4344-444b-8cfa-f8ea8903a452-molecule\">\n",
       "    <defs>\n",
       "      <g id=\"a16365ca-4344-444b-8cfa-f8ea8903a452-symbols\" font-size=\"0.50\" font-family=\"sans-serif\">\n",
       "        <text id=\"a16365ca-4344-444b-8cfa-f8ea8903a452-9\" x=\"2.85\" y=\"0.21\" dx=\"-0.20\" dy=\"0.20\">OH</text>\n",
       "      </g>\n",
       "      <g id=\"a16365ca-4344-444b-8cfa-f8ea8903a452-mapping\" font-size=\"0.25\" font-family=\"monospace\" text-anchor=\"end\">\n",
       "        <text x=\"4.28\" y=\"0.21\" dx=\"-0.05\" dy=\"0.20\">7</text>\n",
       "        <text x=\"3.56\" y=\"-0.21\" dx=\"-0.05\" dy=\"0.20\">8</text>\n",
       "        <text x=\"2.85\" y=\"0.21\" dx=\"-0.15\" dy=\"0.35\">9</text>\n",
       "      </g>\n",
       "      <mask id=\"a16365ca-4344-444b-8cfa-f8ea8903a452-mask\">\n",
       "        <rect x=\"-0.62\" y=\"-1.66\" width=\"13.85\" height=\"3.31\" fill=\"white\"/>\n",
       "        <g>\n",
       "          <circle cx=\"2.85\" cy=\"0.21\" r=\"0.20\"/>\n",
       "        </g>\n",
       "        <g stroke=\"black\">\n",
       "          <use xlink:href=\"#a16365ca-4344-444b-8cfa-f8ea8903a452-symbols\" stroke-width=\"0.05\"/>\n",
       "          <use xlink:href=\"#a16365ca-4344-444b-8cfa-f8ea8903a452-mapping\" stroke-width=\"0.03\"/>\n",
       "        </g>\n",
       "      </mask>\n",
       "    </defs>\n",
       "    <g fill=\"none\" stroke=\"black\" stroke-width=\"0.04\" mask=\"url(#a16365ca-4344-444b-8cfa-f8ea8903a452-mask)\">\n",
       "      <line x1=\"4.28\" y1=\"0.21\" x2=\"3.56\" y2=\"-0.21\"/>\n",
       "      <line x1=\"3.56\" y1=\"-0.21\" x2=\"2.85\" y2=\"0.21\"/>\n",
       "    </g>\n",
       "    <g font-size=\"0.50\" font-family=\"sans-serif\">\n",
       "      <use xlink:href=\"#a16365ca-4344-444b-8cfa-f8ea8903a452-9\" fill=\"#FF0D0D\"/>\n",
       "    </g>\n",
       "    <use xlink:href=\"#a16365ca-4344-444b-8cfa-f8ea8903a452-mapping\" fill=\"#0305A7\"/>\n",
       "  </g>\n",
       "  <g id=\"18483fa5-4a5c-46eb-8886-7683218ddb60-molecule\">\n",
       "    <defs>\n",
       "      <g id=\"18483fa5-4a5c-46eb-8886-7683218ddb60-symbols\" font-size=\"0.50\" font-family=\"sans-serif\">\n",
       "        <text id=\"18483fa5-4a5c-46eb-8886-7683218ddb60-5\" x=\"10.42\" y=\"1.03\" dx=\"-0.20\" dy=\"0.20\">O</text>\n",
       "        <text id=\"18483fa5-4a5c-46eb-8886-7683218ddb60-9\" x=\"9.71\" y=\"-0.21\" dx=\"-0.20\" dy=\"0.20\">O</text>\n",
       "        <text id=\"18483fa5-4a5c-46eb-8886-7683218ddb60-1\" x=\"11.85\" y=\"0.21\" dx=\"-0.20\" dy=\"0.20\">OH</text>\n",
       "        <text id=\"18483fa5-4a5c-46eb-8886-7683218ddb60-3\" x=\"11.14\" y=\"-1.03\" dx=\"-0.20\" dy=\"0.20\">O</text>\n",
       "      </g>\n",
       "      <g id=\"18483fa5-4a5c-46eb-8886-7683218ddb60-mapping\" font-size=\"0.25\" font-family=\"monospace\" text-anchor=\"end\">\n",
       "        <text x=\"10.42\" y=\"0.21\" dx=\"-0.05\" dy=\"0.20\">4</text>\n",
       "        <text x=\"10.42\" y=\"1.03\" dx=\"-0.15\" dy=\"0.35\">5</text>\n",
       "        <text x=\"8.99\" y=\"0.21\" dx=\"-0.05\" dy=\"0.20\">8</text>\n",
       "        <text x=\"9.71\" y=\"-0.21\" dx=\"-0.15\" dy=\"0.35\">9</text>\n",
       "        <text x=\"11.85\" y=\"0.21\" dx=\"-0.15\" dy=\"0.35\">1</text>\n",
       "        <text x=\"11.14\" y=\"-0.21\" dx=\"-0.05\" dy=\"0.20\">2</text>\n",
       "        <text x=\"11.14\" y=\"-1.03\" dx=\"-0.15\" dy=\"0.35\">3</text>\n",
       "        <text x=\"8.28\" y=\"-0.21\" dx=\"-0.05\" dy=\"0.20\">7</text>\n",
       "      </g>\n",
       "      <mask id=\"18483fa5-4a5c-46eb-8886-7683218ddb60-mask\">\n",
       "        <rect x=\"-0.62\" y=\"-1.66\" width=\"13.85\" height=\"3.31\" fill=\"white\"/>\n",
       "        <g>\n",
       "          <circle cx=\"10.42\" cy=\"1.03\" r=\"0.20\"/>\n",
       "          <circle cx=\"9.71\" cy=\"-0.21\" r=\"0.20\"/>\n",
       "          <circle cx=\"11.85\" cy=\"0.21\" r=\"0.20\"/>\n",
       "          <circle cx=\"11.14\" cy=\"-1.03\" r=\"0.20\"/>\n",
       "        </g>\n",
       "        <g stroke=\"black\">\n",
       "          <use xlink:href=\"#18483fa5-4a5c-46eb-8886-7683218ddb60-symbols\" stroke-width=\"0.05\"/>\n",
       "          <use xlink:href=\"#18483fa5-4a5c-46eb-8886-7683218ddb60-mapping\" stroke-width=\"0.03\"/>\n",
       "        </g>\n",
       "      </mask>\n",
       "    </defs>\n",
       "    <g fill=\"none\" stroke=\"black\" stroke-width=\"0.04\" mask=\"url(#18483fa5-4a5c-46eb-8886-7683218ddb60-mask)\">\n",
       "      <line x1=\"10.48\" y1=\"0.21\" x2=\"10.48\" y2=\"1.03\"/>\n",
       "      <line x1=\"10.36\" y1=\"0.21\" x2=\"10.36\" y2=\"1.03\"/>\n",
       "      <line x1=\"10.42\" y1=\"0.21\" x2=\"9.71\" y2=\"-0.21\"/>\n",
       "      <line x1=\"10.42\" y1=\"0.21\" x2=\"11.14\" y2=\"-0.21\"/>\n",
       "      <line x1=\"8.99\" y1=\"0.21\" x2=\"9.71\" y2=\"-0.21\"/>\n",
       "      <line x1=\"8.99\" y1=\"0.21\" x2=\"8.28\" y2=\"-0.21\"/>\n",
       "      <line x1=\"11.85\" y1=\"0.21\" x2=\"11.14\" y2=\"-0.21\"/>\n",
       "      <line x1=\"11.08\" y1=\"-0.21\" x2=\"11.08\" y2=\"-1.03\"/>\n",
       "      <line x1=\"11.20\" y1=\"-0.21\" x2=\"11.20\" y2=\"-1.03\"/>\n",
       "    </g>\n",
       "    <g font-size=\"0.50\" font-family=\"sans-serif\">\n",
       "      <use xlink:href=\"#18483fa5-4a5c-46eb-8886-7683218ddb60-5\" fill=\"#FF0D0D\"/>\n",
       "      <use xlink:href=\"#18483fa5-4a5c-46eb-8886-7683218ddb60-9\" fill=\"#FF0D0D\"/>\n",
       "      <use xlink:href=\"#18483fa5-4a5c-46eb-8886-7683218ddb60-1\" fill=\"#FF0D0D\"/>\n",
       "      <use xlink:href=\"#18483fa5-4a5c-46eb-8886-7683218ddb60-3\" fill=\"#FF0D0D\"/>\n",
       "    </g>\n",
       "    <use xlink:href=\"#18483fa5-4a5c-46eb-8886-7683218ddb60-mapping\" fill=\"#0305A7\"/>\n",
       "  </g>\n",
       "</svg>"
      ],
      "text/plain": [
       "<chython.containers.reaction.ReactionContainer at 0x20734fb7dc0>"
      ]
     },
     "execution_count": 57,
     "metadata": {},
     "output_type": "execute_result"
    }
   ],
   "source": [
    "products[-4]"
   ]
  },
  {
   "cell_type": "markdown",
   "metadata": {},
   "source": [
    "# 6. Molecules and Reactions API\n",
    "\n",
    "There are explanation of some methods"
   ]
  },
  {
   "cell_type": "code",
   "execution_count": 58,
   "metadata": {},
   "outputs": [
    {
     "name": "stdout",
     "output_type": "stream",
     "text": [
      "[Cl-] [Na+]\n"
     ]
    },
    {
     "data": {
      "image/svg+xml": [
       "<svg width=\"3.10cm\" height=\"1.25cm\" viewBox=\"-0.43 -0.62 3.10 1.25\" xmlns=\"http://www.w3.org/2000/svg\" xmlns:xlink=\"http://www.w3.org/1999/xlink\" version=\"1.1\">\n",
       "  <g id=\"b7e403ee-df12-483c-8195-eb7a3dd521af-molecule\">\n",
       "    <defs>\n",
       "      <g id=\"b7e403ee-df12-483c-8195-eb7a3dd521af-symbols\" font-size=\"0.50\" font-family=\"sans-serif\">\n",
       "        <text id=\"b7e403ee-df12-483c-8195-eb7a3dd521af-1\" x=\"0.20\" y=\"-0.00\" dx=\"-0.35\" dy=\"0.20\">Cl</text>\n",
       "        <text id=\"b7e403ee-df12-483c-8195-eb7a3dd521af-2\" x=\"1.30\" y=\"-0.00\" dx=\"-0.35\" dy=\"0.20\">Na</text>\n",
       "      </g>\n",
       "      <g id=\"b7e403ee-df12-483c-8195-eb7a3dd521af-attrs\" font-size=\"0.30\" font-family=\"monospace\">\n",
       "        <text x=\"0.20\" y=\"-0.00\" dx=\"0.05\" dy=\"-0.20\">-</text>\n",
       "        <text x=\"1.30\" y=\"-0.00\" dx=\"0.05\" dy=\"-0.20\">+</text>\n",
       "      </g>\n",
       "      <g id=\"b7e403ee-df12-483c-8195-eb7a3dd521af-mapping\" font-size=\"0.25\" font-family=\"monospace\" text-anchor=\"end\">\n",
       "        <text x=\"0.20\" y=\"-0.00\" dx=\"-0.30\" dy=\"0.35\">1</text>\n",
       "        <text x=\"1.30\" y=\"-0.00\" dx=\"-0.30\" dy=\"0.35\">2</text>\n",
       "      </g>\n",
       "    </defs>\n",
       "    <g font-size=\"0.50\" font-family=\"sans-serif\">\n",
       "      <use xlink:href=\"#b7e403ee-df12-483c-8195-eb7a3dd521af-1\" fill=\"#1FF01F\"/>\n",
       "      <use xlink:href=\"#b7e403ee-df12-483c-8195-eb7a3dd521af-2\" fill=\"#AB5CF2\"/>\n",
       "    </g>\n",
       "    <use xlink:href=\"#b7e403ee-df12-483c-8195-eb7a3dd521af-attrs\" fill=\"black\"/>\n",
       "    <use xlink:href=\"#b7e403ee-df12-483c-8195-eb7a3dd521af-mapping\" fill=\"#0305A7\"/>\n",
       "  </g>\n",
       "</svg>"
      ],
      "text/plain": [
       "<chython.containers.molecule.MoleculeContainer at 0x2075c5b79a0>"
      ]
     },
     "execution_count": 58,
     "metadata": {},
     "output_type": "execute_result"
    }
   ],
   "source": [
    "anion, cation = smiles('[Cl-].[Na+]').split() # disconnected components can be split\n",
    "print(anion, cation)\n",
    "salt = anion | cation # molecules can be merged\n",
    "salt = anion.union(cation, remap=True) # fix mapping overlap\n",
    "salt.clean2d()\n",
    "salt"
   ]
  },
  {
   "cell_type": "code",
   "execution_count": 59,
   "metadata": {},
   "outputs": [
    {
     "name": "stdout",
     "output_type": "stream",
     "text": [
      "C None\n",
      "C 1\n"
     ]
    },
    {
     "data": {
      "image/svg+xml": [
       "<svg width=\"3.65cm\" height=\"2.68cm\" viewBox=\"-2.27 -1.34 3.65 2.68\" xmlns=\"http://www.w3.org/2000/svg\" xmlns:xlink=\"http://www.w3.org/1999/xlink\" version=\"1.1\">\n",
       "  <g id=\"b0c7c11f-ed4f-487a-b155-7d832a7a7835-molecule\">\n",
       "    <defs>\n",
       "      <g id=\"b0c7c11f-ed4f-487a-b155-7d832a7a7835-mapping\" font-size=\"0.25\" font-family=\"monospace\" text-anchor=\"end\">\n",
       "        <text x=\"-1.24\" y=\"0.71\" dx=\"-0.05\" dy=\"0.20\">1</text>\n",
       "        <text x=\"-0.41\" y=\"0.71\" dx=\"-0.05\" dy=\"0.20\">2</text>\n",
       "        <text x=\"0.00\" y=\"-0.00\" dx=\"-0.05\" dy=\"0.20\">3</text>\n",
       "        <text x=\"-0.41\" y=\"-0.71\" dx=\"-0.05\" dy=\"0.20\">4</text>\n",
       "        <text x=\"-1.24\" y=\"-0.71\" dx=\"-0.05\" dy=\"0.20\">5</text>\n",
       "        <text x=\"-1.65\" y=\"-0.00\" dx=\"-0.05\" dy=\"0.20\">6</text>\n",
       "      </g>\n",
       "      <mask id=\"b0c7c11f-ed4f-487a-b155-7d832a7a7835-mask\">\n",
       "        <rect x=\"-2.27\" y=\"-1.34\" width=\"3.65\" height=\"2.68\" fill=\"white\"/>\n",
       "        <g stroke=\"black\">\n",
       "          <use xlink:href=\"#b0c7c11f-ed4f-487a-b155-7d832a7a7835-mapping\" stroke-width=\"0.03\"/>\n",
       "        </g>\n",
       "      </mask>\n",
       "    </defs>\n",
       "    <g fill=\"none\" stroke=\"black\" stroke-width=\"0.04\" mask=\"url(#b0c7c11f-ed4f-487a-b155-7d832a7a7835-mask)\">\n",
       "      <line x1=\"-1.24\" y1=\"0.71\" x2=\"-0.41\" y2=\"0.71\"/>\n",
       "      <line x1=\"-1.24\" y1=\"0.71\" x2=\"-1.65\" y2=\"-0.00\"/>\n",
       "      <line x1=\"-0.41\" y1=\"0.71\" x2=\"0.00\" y2=\"-0.00\"/>\n",
       "      <line x1=\"0.00\" y1=\"-0.00\" x2=\"-0.41\" y2=\"-0.71\"/>\n",
       "      <line x1=\"-0.41\" y1=\"-0.71\" x2=\"-1.24\" y2=\"-0.71\"/>\n",
       "      <line x1=\"-1.24\" y1=\"-0.71\" x2=\"-1.65\" y2=\"-0.00\"/>\n",
       "      <line x1=\"-1.16\" y1=\"0.57\" x2=\"-0.49\" y2=\"0.57\" stroke-dasharray=\"0.15 0.05\"/>\n",
       "      <line x1=\"-0.49\" y1=\"0.57\" x2=\"-0.16\" y2=\"-0.00\" stroke-dasharray=\"0.15 0.05\"/>\n",
       "      <line x1=\"-0.16\" y1=\"-0.00\" x2=\"-0.49\" y2=\"-0.57\" stroke-dasharray=\"0.15 0.05\"/>\n",
       "      <line x1=\"-0.49\" y1=\"-0.57\" x2=\"-1.16\" y2=\"-0.57\" stroke-dasharray=\"0.15 0.05\"/>\n",
       "      <line x1=\"-1.16\" y1=\"-0.57\" x2=\"-1.49\" y2=\"-0.00\" stroke-dasharray=\"0.15 0.05\"/>\n",
       "      <line x1=\"-1.49\" y1=\"-0.00\" x2=\"-1.16\" y2=\"0.57\" stroke-dasharray=\"0.15 0.05\"/>\n",
       "    </g>\n",
       "    <use xlink:href=\"#b0c7c11f-ed4f-487a-b155-7d832a7a7835-mapping\" fill=\"#0305A7\"/>\n",
       "  </g>\n",
       "</svg>"
      ],
      "text/plain": [
       "<chython.containers.molecule.MoleculeContainer at 0x207666c9cc0>"
      ]
     },
     "execution_count": 59,
     "metadata": {},
     "output_type": "execute_result"
    }
   ],
   "source": [
    "m = toluene.substructure([1, 2, 3, 4, 5, 6]) # extraction of substructure\n",
    "# set recalculate_hydrogens=False to save hydrogen count info. useful for full component extraction.\n",
    "m.clean2d()\n",
    "print(m.atom(1).atomic_symbol, m.atom(1).implicit_hydrogens) # aromatic structures require kekule>thiele procedure to fix hydrogens count\n",
    "m.kekule() and m.thiele()\n",
    "print(m.atom(1).atomic_symbol, m.atom(1).implicit_hydrogens)\n",
    "m"
   ]
  },
  {
   "cell_type": "code",
   "execution_count": 60,
   "metadata": {},
   "outputs": [
    {
     "data": {
      "image/svg+xml": [
       "<svg width=\"3.65cm\" height=\"2.68cm\" viewBox=\"-2.27 -1.34 3.65 2.68\" xmlns=\"http://www.w3.org/2000/svg\" xmlns:xlink=\"http://www.w3.org/1999/xlink\" version=\"1.1\">\n",
       "  <g id=\"ccacdeb9-1c7c-438f-a834-5d1608948841-molecule\">\n",
       "    <defs>\n",
       "      <g id=\"ccacdeb9-1c7c-438f-a834-5d1608948841-mapping\" font-size=\"0.25\" font-family=\"monospace\" text-anchor=\"end\">\n",
       "        <text x=\"-1.24\" y=\"0.71\" dx=\"-0.05\" dy=\"0.20\">7</text>\n",
       "        <text x=\"-0.41\" y=\"0.71\" dx=\"-0.05\" dy=\"0.20\">2</text>\n",
       "        <text x=\"0.00\" y=\"-0.00\" dx=\"-0.05\" dy=\"0.20\">3</text>\n",
       "        <text x=\"-0.41\" y=\"-0.71\" dx=\"-0.05\" dy=\"0.20\">4</text>\n",
       "        <text x=\"-1.24\" y=\"-0.71\" dx=\"-0.05\" dy=\"0.20\">5</text>\n",
       "        <text x=\"-1.65\" y=\"-0.00\" dx=\"-0.05\" dy=\"0.20\">6</text>\n",
       "      </g>\n",
       "      <mask id=\"ccacdeb9-1c7c-438f-a834-5d1608948841-mask\">\n",
       "        <rect x=\"-2.27\" y=\"-1.34\" width=\"3.65\" height=\"2.68\" fill=\"white\"/>\n",
       "        <g stroke=\"black\">\n",
       "          <use xlink:href=\"#ccacdeb9-1c7c-438f-a834-5d1608948841-mapping\" stroke-width=\"0.03\"/>\n",
       "        </g>\n",
       "      </mask>\n",
       "    </defs>\n",
       "    <g fill=\"none\" stroke=\"black\" stroke-width=\"0.04\" mask=\"url(#ccacdeb9-1c7c-438f-a834-5d1608948841-mask)\">\n",
       "      <line x1=\"-1.24\" y1=\"0.71\" x2=\"-0.41\" y2=\"0.71\"/>\n",
       "      <line x1=\"-1.24\" y1=\"0.71\" x2=\"-1.65\" y2=\"-0.00\"/>\n",
       "      <line x1=\"-0.41\" y1=\"0.71\" x2=\"0.00\" y2=\"-0.00\"/>\n",
       "      <line x1=\"0.00\" y1=\"-0.00\" x2=\"-0.41\" y2=\"-0.71\"/>\n",
       "      <line x1=\"-0.41\" y1=\"-0.71\" x2=\"-1.24\" y2=\"-0.71\"/>\n",
       "      <line x1=\"-1.24\" y1=\"-0.71\" x2=\"-1.65\" y2=\"-0.00\"/>\n",
       "      <line x1=\"-0.49\" y1=\"0.57\" x2=\"-0.16\" y2=\"-0.00\" stroke-dasharray=\"0.15 0.05\"/>\n",
       "      <line x1=\"-0.16\" y1=\"-0.00\" x2=\"-0.49\" y2=\"-0.57\" stroke-dasharray=\"0.15 0.05\"/>\n",
       "      <line x1=\"-0.49\" y1=\"-0.57\" x2=\"-1.16\" y2=\"-0.57\" stroke-dasharray=\"0.15 0.05\"/>\n",
       "      <line x1=\"-1.16\" y1=\"-0.57\" x2=\"-1.49\" y2=\"-0.00\" stroke-dasharray=\"0.15 0.05\"/>\n",
       "      <line x1=\"-1.49\" y1=\"-0.00\" x2=\"-1.16\" y2=\"0.57\" stroke-dasharray=\"0.15 0.05\"/>\n",
       "      <line x1=\"-1.16\" y1=\"0.57\" x2=\"-0.49\" y2=\"0.57\" stroke-dasharray=\"0.15 0.05\"/>\n",
       "    </g>\n",
       "    <use xlink:href=\"#ccacdeb9-1c7c-438f-a834-5d1608948841-mapping\" fill=\"#0305A7\"/>\n",
       "  </g>\n",
       "</svg>"
      ],
      "text/plain": [
       "<chython.containers.molecule.MoleculeContainer at 0x2075c5e2400>"
      ]
     },
     "execution_count": 60,
     "metadata": {},
     "output_type": "execute_result"
    }
   ],
   "source": [
    "remapped = m.remap({1: 7}, copy=True) # change atom numbers\n",
    "remapped"
   ]
  }
 ],
 "metadata": {
  "kernelspec": {
   "display_name": "Python 3 (ipykernel)",
   "language": "python",
   "name": "python3"
  },
  "language_info": {
   "codemirror_mode": {
    "name": "ipython",
    "version": 3
   },
   "file_extension": ".py",
   "mimetype": "text/x-python",
   "name": "python",
   "nbconvert_exporter": "python",
   "pygments_lexer": "ipython3",
   "version": "3.8.10"
  }
 },
 "nbformat": 4,
 "nbformat_minor": 2
}