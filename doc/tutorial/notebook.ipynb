{
 "cells": [
  {
   "cell_type": "markdown",
   "metadata": {
    "pycharm": {
     "name": "#%% md\n"
    }
   },
   "source": [
    "# 1. Input-output operations\n",
    "\n",
    "*chython.files* subpackage contains file readers and writers classes.\n",
    "\n",
    "## 1.1. MDL RDF reader\n",
    "\n",
    "**RDFRead** class can be used for RDF files reading.\n",
    "Instance of this class is file-like object which support **iteration**, has a method **read()** for parsing all data and **context manager**.\n",
    "\n",
    "### 1.1.1. Read file from disk"
   ]
  },
  {
   "cell_type": "code",
   "execution_count": 1,
   "metadata": {
    "pycharm": {
     "name": "#%%\n"
    }
   },
   "source": [
    "from chython.files import * # import all available readers and writers\n",
    "\n",
    "with RDFRead('example.rdf') as f:\n",
    "    first = next(f)  # get first reaction using generator\n",
    "    data = f.read()  # read remaining reactions to list of ReactionContainers\n",
    "\n",
    "data = []\n",
    "with RDFRead('example.rdf') as f:\n",
    "    for r in f:  # looping is supported. Useful for large files.\n",
    "        data.append(r)"
   ],
   "outputs": []
  },
  {
   "cell_type": "markdown",
   "metadata": {
    "pycharm": {
     "name": "#%% md\n"
    }
   },
   "source": [
    "#### OOP-stype Pathlib supported"
   ]
  },
  {
   "cell_type": "code",
   "execution_count": 2,
   "metadata": {
    "pycharm": {
     "name": "#%%\n"
    }
   },
   "source": [
    "from pathlib import Path\n",
    "\n",
    "with RDFRead(Path('example.rdf')) as r: # OOP style call\n",
    "    r = next(r)"
   ],
   "outputs": []
  },
  {
   "cell_type": "markdown",
   "metadata": {
    "pycharm": {
     "name": "#%% md\n"
    }
   },
   "source": [
    "#### opened files supported\n",
    "RDF file should be opened in text mode"
   ]
  },
  {
   "cell_type": "code",
   "execution_count": 3,
   "metadata": {
    "pycharm": {
     "name": "#%%\n"
    }
   },
   "source": [
    "with open('example.rdf') as f, RDFRead(f) as r:\n",
    "    r = next(r) # OOP style application"
   ],
   "outputs": []
  },
  {
   "cell_type": "markdown",
   "metadata": {
    "pycharm": {
     "name": "#%% md\n"
    }
   },
   "source": [
    "### 1.1.2. Transparent loading from archives and network\n",
    "Readers designed transparently support any type of data sources. \n",
    "\n",
    "Data sources should be file-like objects."
   ]
  },
  {
   "cell_type": "code",
   "execution_count": 4,
   "metadata": {
    "pycharm": {
     "name": "#%%\n"
    }
   },
   "source": [
    "from requests import get\n",
    "from io import StringIO\n",
    "\n",
    "# get function return requested URL which has attribute text. \n",
    "# in example this text is whole RDF stored in single string.\n",
    "# RDFread does not support parsing of strings, but one can emulate files with data \n",
    "# instead of strings by using io.StringIO\n",
    "with StringIO(get('https://github.com/chython/chython/raw/master/doc/tutorial/example.rdf').text) as f, RDFRead(f) as r:\n",
    "    r = next(r)\n",
    "\n",
    "# python support gzipped data. This example shows how to work with compressed \n",
    "# data directly without decompressing them to disk.\n",
    "from gzip import open as gzip_open\n",
    "with gzip_open('example.rdf.gz', 'rt') as f, RDFRead(f) as r:\n",
    "    r = next(r)\n",
    "\n",
    "# zip-files also supported out of the box \n",
    "# zipped files can be opened only in binary mode. io.TextIOWrapper can be used for transparent decoding them into text\n",
    "from zipfile import ZipFile\n",
    "from io import TextIOWrapper\n",
    "with ZipFile('example.zip') as z, z.open('example.rdf') as c:\n",
    "    with TextIOWrapper(c) as f, RDFRead(f) as r:\n",
    "        r = next(r)\n",
    "\n",
    "# tar-file reading example\n",
    "from tarfile import open as tar_open\n",
    "from io import TextIOWrapper\n",
    "with tar_open('example.tar.gz') as t:\n",
    "    c = t.extractfile('example.rdf')\n",
    "    with TextIOWrapper(c) as f, RDFRead(f) as r:\n",
    "        r = next(r)"
   ],
   "outputs": []
  },
  {
   "cell_type": "markdown",
   "metadata": {
    "pycharm": {
     "name": "#%% md\n"
    }
   },
   "source": [
    "## 1.2. Other Readers\n",
    "* SDFRead - MOL, SDF files reader (versions v2000, v3000 are supported)\n",
    "* MRVRead - ChemAxon MRV files reader (lxml parser is used)\n",
    "* SMILESRead - SMILES strings files reader (coho backend used). Every row should start with new SMILES\n",
    "* INCHIRead - INCHI strings files reader (INCHI trust backend used). Every row should start with new InChI\n",
    "* XYZRead - xyz files reader (only structures with explicit hydrogens supported)\n",
    "* PDBRead - PDB files parser (only structures with explicit hydrogens supported)\n",
    "\n",
    "All files except MRV should be opened in **text-mode**  \n",
    "MRV requires binary mode `open('/path/to/data.mrv', 'rb')`"
   ]
  },
  {
   "cell_type": "code",
   "execution_count": 5,
   "metadata": {
    "pycharm": {
     "name": "#%%\n"
    }
   },
   "source": [
    "with MRVRead(open('example.mrv', 'rb')) as f:\n",
    "    m = next(f)"
   ],
   "outputs": []
  },
  {
   "cell_type": "markdown",
   "metadata": {
    "pycharm": {
     "name": "#%% md\n"
    }
   },
   "source": [
    "## 1.3. File writers\n",
    "Export in following file formats is supported:\n",
    "\n",
    "* RDFWrite (v2000) - molecules and reactions export in RDF format\n",
    "* SDFWrite (v2000) - molecules export in SDF format\n",
    "* ERDFWrite (v3000) - molecules and reactions export in RDF format\n",
    "* ESDFWrite (v3000) - molecules export in SDF format\n",
    "* MRVWrite - molecules and reactions export in MRV format\n",
    "\n",
    "Writers have the same API as readers. All writers work with text-files\n",
    "Writers have `write` method which accepts as argument single reaction or molecule object"
   ]
  },
  {
   "cell_type": "code",
   "execution_count": 6,
   "metadata": {
    "pycharm": {
     "name": "#%%\n"
    }
   },
   "source": [
    "with RDFWrite('out.rdf') as f: # context manager supported\n",
    "    for r in data:\n",
    "        f.write(r)\n",
    "# file out.rdf will be overriden"
   ],
   "outputs": []
  },
  {
   "cell_type": "code",
   "execution_count": 7,
   "metadata": {
    "pycharm": {
     "name": "#%%\n"
    }
   },
   "source": [
    "f = RDFWrite('out.rdf') # ongoing writing into a single file\n",
    "for r in data:\n",
    "    f.write(r)\n",
    "\n",
    "f.write(r)\n",
    "f.close() # close file. Flushes Python writer buffers."
   ],
   "outputs": []
  },
  {
   "cell_type": "markdown",
   "metadata": {
    "pycharm": {
     "name": "#%% md\n"
    }
   },
   "source": [
    "## 1.4. Pickle support\n",
    "\n",
    "Chython containers fully support pickle dumping and loading.\n",
    "\n",
    "Pickle dumps are more fast than common files and could be used as temporal storage."
   ]
  },
  {
   "cell_type": "code",
   "execution_count": 8,
   "metadata": {
    "pycharm": {
     "name": "#%%\n"
    }
   },
   "source": [
    "from pickle import loads, dumps"
   ],
   "outputs": []
  },
  {
   "cell_type": "code",
   "execution_count": 9,
   "metadata": {
    "pycharm": {
     "name": "#%%\n"
    }
   },
   "source": [
    "loads(dumps(r)) # load reaction from Pickle dump"
   ],
   "outputs": []
  },
  {
   "cell_type": "markdown",
   "metadata": {
    "pycharm": {
     "name": "#%% md\n"
    }
   },
   "source": [
    "## 1.5. Chython binary format (chython pack)\n",
    "\n",
    "Chython introduce new effective format for molecules and reactions, which combine benefits from MDL and SMILES formats.\n",
    "Molecules store 2d-coordinates; tetrahedron, allene and cis-trans stereo; explicit bonds, implicit hydrogen count, atom numbers, radical mark, charge, isotope.\n",
    "\n",
    "Size only 1.5-2 times larger than SMILES. Parsing speed is faster than pickle.\n",
    "Full specification described in source code."
   ]
  },
  {
   "cell_type": "code",
   "execution_count": 10,
   "metadata": {
    "pycharm": {
     "name": "#%%\n"
    }
   },
   "source": [
    "from chython import MoleculeContainer, ReactionContainer\n",
    "\n",
    "b = r.pack()\n",
    "r = ReactionContainer.unpack(b)\n",
    "\n",
    "# same for molecules\n",
    "# MoleculeContainer.unpack(m.pack())"
   ],
   "outputs": []
  },
  {
   "cell_type": "markdown",
   "metadata": {
    "pycharm": {
     "name": "#%% md\n"
    }
   },
   "source": [
    "## 1.6. Metadata access\n",
    "\n",
    "RDF, SDF, etc - files have metadata which stored in molecules and reactions objects"
   ]
  },
  {
   "cell_type": "code",
   "execution_count": 11,
   "metadata": {
    "pycharm": {
     "name": "#%%\n"
    }
   },
   "source": [
    "r = next(RDFRead('example.rdf'))\n",
    "r.meta # dictionary for molecule/reaction properties storage. For example, DTYPE/DATUM fields of RDF file are read into this dictionary"
   ],
   "outputs": []
  },
  {
   "cell_type": "code",
   "execution_count": 12,
   "metadata": {
    "pycharm": {
     "name": "#%%\n"
    }
   },
   "source": [
    "r.name  # string with reaction title from RDF"
   ],
   "outputs": []
  },
  {
   "cell_type": "code",
   "execution_count": 13,
   "metadata": {
    "pycharm": {
     "name": "#%%\n"
    }
   },
   "source": [
    "r.reactants[0].name # string with reactant molecule title from MOL"
   ],
   "outputs": []
  },
  {
   "cell_type": "markdown",
   "metadata": {
    "pycharm": {
     "name": "#%% md\n"
    }
   },
   "source": [
    "## 1.7. Depiction into SVG"
   ]
  },
  {
   "cell_type": "code",
   "execution_count": 14,
   "metadata": {
    "pycharm": {
     "name": "#%%\n"
    },
    "scrolled": true
   },
   "source": [
    "r.depict()[:100] # show only part of string"
   ],
   "outputs": []
  },
  {
   "cell_type": "code",
   "execution_count": 15,
   "metadata": {
    "pycharm": {
     "name": "#%%\n"
    }
   },
   "source": [
    "r # Notebooks supported!"
   ],
   "outputs": []
  },
  {
   "cell_type": "code",
   "execution_count": 16,
   "metadata": {},
   "source": [
    "from chython import depict_settings\n",
    "\n",
    "depict_settings(aam=False)  # configure depiction"
   ],
   "outputs": []
  },
  {
   "cell_type": "code",
   "execution_count": 17,
   "metadata": {
    "pycharm": {
     "name": "#%%\n"
    }
   },
   "source": [
    "r.flush_cache()  # drop cached depiction\n",
    "r"
   ],
   "outputs": []
  },
  {
   "cell_type": "code",
   "execution_count": 18,
   "metadata": {
    "pycharm": {
     "name": "#%%\n"
    }
   },
   "source": [
    "depict_settings()  # restore defaults"
   ],
   "outputs": []
  },
  {
   "cell_type": "markdown",
   "metadata": {
    "pycharm": {
     "name": "#%% md\n"
    }
   },
   "source": [
    "## 1.8. String parsers"
   ]
  },
  {
   "cell_type": "code",
   "execution_count": 19,
   "metadata": {
    "pycharm": {
     "name": "#%%\n"
    }
   },
   "source": [
    "from chython import smiles, smarts, mdl_mol, xyz, inchi"
   ],
   "outputs": []
  },
  {
   "cell_type": "code",
   "execution_count": 20,
   "metadata": {
    "pycharm": {
     "name": "#%%\n"
    }
   },
   "source": [
    "m = smiles('CCO')\n",
    "m.clean2d()\n",
    "m"
   ],
   "outputs": []
  },
  {
   "cell_type": "code",
   "execution_count": 21,
   "metadata": {
    "pycharm": {
     "name": "#%%\n"
    }
   },
   "source": [
    "m = inchi('InChI=1S/C2H6O/c1-2-3/h3H,2H2,1H3')\n",
    "m.clean2d()\n",
    "m"
   ],
   "outputs": []
  },
  {
   "cell_type": "code",
   "execution_count": 22,
   "metadata": {
    "pycharm": {
     "name": "#%%\n"
    }
   },
   "source": [
    "m = mdl_mol('''\n",
    "  Mrv2115 04202210182D          \n",
    "\n",
    "  3  2  0  0  0  0            999 V2000\n",
    "    1.2375   -0.7145    0.0000 C   0  0  0  0  0  0  0  0  0  0  0  0\n",
    "    1.9520   -1.1270    0.0000 C   0  0  0  0  0  0  0  0  0  0  0  0\n",
    "    2.6664   -0.7145    0.0000 O   0  0  0  0  0  0  0  0  0  0  0  0\n",
    "  1  2  1  0  0  0  0\n",
    "  2  3  1  0  0  0  0\n",
    "M  END''')\n",
    "m"
   ],
   "outputs": []
  },
  {
   "cell_type": "code",
   "execution_count": 23,
   "metadata": {
    "pycharm": {
     "name": "#%%\n"
    }
   },
   "source": [
    "m = xyz((('O', 0., 0., 0.), ('H', 1., 0., 0.), ('H', 0., 1., 0.)))\n",
    "m.clean2d()\n",
    "m"
   ],
   "outputs": []
  },
  {
   "cell_type": "markdown",
   "metadata": {
    "pycharm": {
     "name": "#%% md\n"
    }
   },
   "source": [
    "### 1.8.1. SMARTS\n",
    "\n",
    "Only limited features list supported.\n",
    "\n",
    "* stereo ignored.\n",
    "* only D, a, h, r and !R atom primitives supported.\n",
    "* bond order list and not bond supported.\n",
    "* [not]ring bond supported only in combination with explicit bonds, not bonds and bonds orders lists.\n",
    "* mapping, charge and isotopes supported.\n",
    "* list of elements supported.\n",
    "* A - treats as any element. A-primitive (aliphatic) ignored.\n",
    "* M - treats as any metal..\n",
    "* &-logic operator unsupported.\n",
    "* ;-logic operator is mandatory except for charge, isotope, stereo marks. however preferable.\n",
    "* CXSMARTS radicals supported.\n",
    "* hybridization and heteroatoms count in CXSMARTS atomProp notation as <hyb> and <het> keys supported.\n",
    "\n",
    "For example::\n",
    "\n",
    "`[C;r5,r6;a]-;!@[C;h0,h1] |^1:1,atomProp:1.hyb.32:1.het.0|` - aromatic C member of 5 or 6 atoms ring connected with non-ring single bond to SP3 or SP2 radical C with 0 or 1 hydrogen and no heteroatom neighbors."
   ]
  },
  {
   "cell_type": "code",
   "execution_count": 24,
   "metadata": {
    "pycharm": {
     "name": "#%%\n"
    }
   },
   "source": [
    "q = smarts('[C;r5,r6;a]-;!@[C;h0,h1] |^1:1,atomProp:1.hyb.32:1.het.0|')\n",
    "print(q)  # canonic atoms order!"
   ],
   "outputs": []
  },
  {
   "cell_type": "markdown",
   "metadata": {
    "pycharm": {
     "name": "#%% md\n"
    }
   },
   "source": [
    "# 2. Signatures and duplicates selection\n",
    "\n",
    "## 2.1. Molecule Signatures\n",
    "*MoleculeContainer* has methods for unique molecule signature generation.\n",
    "Signature is SMILES string with canonical atoms ordering. Order of atoms calculated by Morgan-like algorithm.\n",
    "\n",
    "For signature generation one need to call `str` function on MoleculeContainer object.\n",
    "Fixed length hash of signature could be retrieved by calling `bytes` function on molecule (correspond to SHA 512 bitstring).\n",
    "\n",
    "Next string formatting keys supported:\n",
    "\n",
    "a - Generate asymmetric closures.\n",
    "!s - Disable stereo marks.\n",
    "A - Use aromatic bonds instead aromatic atoms.\n",
    "m - Set atom mapping.\n",
    "r - Generate random-ordered smiles.\n",
    "h - Show implicit hydrogens.\n",
    "!b - Disable bonds tokens."
   ]
  },
  {
   "cell_type": "code",
   "execution_count": 25,
   "metadata": {
    "pycharm": {
     "name": "#%%\n"
    }
   },
   "source": [
    "from chython import smiles  # smiles string parser\n",
    "\n",
    "m = smiles('c1ccccc1C=2C=CC=CC=2[C@H](O)C')\n",
    "str(m) # signature\n",
    "bytes(m) # cryptographic signature hash\n",
    "hash(m) # runtime-dependent signature hash. See Python str hash behavior\n",
    "\n",
    "print(m)\n",
    "print(f'f string {m}')  # use signature in string formatting\n",
    "print('C-style string %s' % m)\n",
    "print('format method {}'.format(m))\n",
    "print(f'{m:A}')\n",
    "print(f'{m:h!b}') # combination supported"
   ],
   "outputs": []
  },
  {
   "cell_type": "markdown",
   "metadata": {
    "pycharm": {
     "name": "#%% md\n"
    }
   },
   "source": [
    "Molecules comparable and hashable\n",
    "\n",
    "Comparison of MoleculeContainer is based on its signatures. Moreover, since strings in Python are hashable, MoleculeContaier also hashable.\n",
    "\n",
    "NOTE: MoleculeContainer can be changed. This can lead to unobvious behavior of the sets and dictionaries in which these molecules were placed before the change. Avoid changing molecules (standardize, aromatize, hydrogens and atoms/bonds changes) placed inside sets and dictionaries."
   ]
  },
  {
   "cell_type": "code",
   "execution_count": 26,
   "metadata": {
    "pycharm": {
     "name": "#%%\n"
    }
   },
   "source": [
    "m != smiles('c1ccccc1')"
   ],
   "outputs": []
  },
  {
   "cell_type": "code",
   "execution_count": 27,
   "metadata": {
    "pycharm": {
     "name": "#%%\n"
    }
   },
   "source": [
    "# Simplest way to exclude duplicated structures\n",
    "len({m, m, smiles('c1ccccc1')}) == 2 # create set of unique molecules. Only 2 of them were different."
   ],
   "outputs": []
  },
  {
   "cell_type": "markdown",
   "metadata": {
    "pycharm": {
     "name": "#%% md\n"
    }
   },
   "source": [
    "## 2.2. Reaction signatures\n",
    "ReactionContainer have its signature. Signature is SMIRKS string in which molecules of reactants, reagents, products presented in canonical order.\n",
    "\n",
    "API is the same as for molecules\n",
    "\n",
    "Next extra formatting keys supported:\n",
    "\n",
    "!c - Keep nested containers order\n",
    "!C - skip cxsmiles fragments contract"
   ]
  },
  {
   "cell_type": "code",
   "execution_count": 28,
   "metadata": {
    "pycharm": {
     "name": "#%%\n"
    }
   },
   "source": [
    "print(r)"
   ],
   "outputs": []
  },
  {
   "cell_type": "code",
   "execution_count": 29,
   "metadata": {
    "pycharm": {
     "name": "#%%\n"
    }
   },
   "source": [
    "format(r, '!c')"
   ],
   "outputs": []
  },
  {
   "cell_type": "markdown",
   "metadata": {
    "pycharm": {
     "name": "#%% md\n"
    }
   },
   "source": [
    "# 3. Structure standardization\n",
    "\n",
    "## 3.1. Molecules\n",
    "\n",
    "MoleculeContainer has `standardize`, `kekule`, `thiele`, `neutralize`, `implicify_hydrogens`, `explicify_hidrogens` and `canonicalize` methods.\n",
    "\n",
    "Method `thiele` transforms Kekule representation of rings into aromatized.\n",
    "Method `standardize` applies functional group standardization rules to molecules (more than 80 rules).\n",
    "\n",
    "Method `canonicalize` apply set of methods: `neutralize`, `standardize`, `kekule`, `implicify_hydrogens`, `thiele`"
   ]
  },
  {
   "cell_type": "code",
   "execution_count": 30,
   "metadata": {
    "pycharm": {
     "name": "#%%\n"
    }
   },
   "source": [
    "m = smiles('c1ccccc1N(=O)=O')\n",
    "m.clean2d()  # calculate 2d layout\n",
    "m #  depict"
   ],
   "outputs": []
  },
  {
   "cell_type": "code",
   "execution_count": 31,
   "metadata": {
    "pycharm": {
     "name": "#%%\n"
    }
   },
   "source": [
    "m.kekule()  # transform to kekule form\n",
    "m"
   ],
   "outputs": []
  },
  {
   "cell_type": "code",
   "execution_count": 32,
   "metadata": {
    "pycharm": {
     "name": "#%%\n"
    }
   },
   "source": [
    "m.standardize() # fix groups\n",
    "m"
   ],
   "outputs": []
  },
  {
   "cell_type": "code",
   "execution_count": 33,
   "metadata": {
    "pycharm": {
     "name": "#%%\n"
    }
   },
   "source": [
    "m.thiele() # transform to aromatized form\n",
    "m"
   ],
   "outputs": []
  },
  {
   "cell_type": "code",
   "execution_count": 34,
   "metadata": {
    "pycharm": {
     "name": "#%%\n"
    }
   },
   "source": [
    "m = smiles('[NH3+]CC(=O)[O-]')\n",
    "m.clean2d()\n",
    "m.neutralize() # fix zwitter-ions\n",
    "m"
   ],
   "outputs": []
  },
  {
   "cell_type": "markdown",
   "metadata": {
    "pycharm": {
     "name": "#%% md\n"
    }
   },
   "source": [
    "Molecules has `explicify_hydrogens` and `implicify_hydrogens` methods to handle hydrogens.\n",
    "\n",
    "This methods is used to add or remove hydrogens in molecule.\n",
    "\n",
    "Note `implicify_hydrogens` working for aromatic rings only in `kekule` form. `explicify_hydrogens` for `aromatized` forms required `kekule` and optionally `thiele` procedures applied before."
   ]
  },
  {
   "cell_type": "code",
   "execution_count": 35,
   "metadata": {
    "pycharm": {
     "name": "#%%\n"
    }
   },
   "source": [
    "print(m.explicify_hydrogens()) # return number of added hydrogens\n",
    "m.clean2d()\n",
    "m"
   ],
   "outputs": []
  },
  {
   "cell_type": "code",
   "execution_count": 36,
   "metadata": {
    "pycharm": {
     "name": "#%%\n"
    }
   },
   "source": [
    "m.implicify_hydrogens()\n",
    "m"
   ],
   "outputs": []
  },
  {
   "cell_type": "markdown",
   "metadata": {
    "pycharm": {
     "name": "#%% md\n"
    }
   },
   "source": [
    "To use GPU for AAM calculations, specify device:\n",
    "\n",
    "    import chython\n",
    "    chython.torch_device = 'cuda'\n",
    "\n",
    "Note: `reset_mapping` loads torch neural network once. So, it is impossible to change device on the fly. Do it before first call of `reset_mapping`! To parallelize AAM with multiprocessing, call `reset_mapping` only in workers, to avoid bottleneck with single GPU model."
   ]
  },
  {
   "cell_type": "code",
   "execution_count": 37,
   "metadata": {
    "pycharm": {
     "name": "#%%\n"
    }
   },
   "source": [
    "m = smiles('C=N=Cc1ccccc1')\n",
    "print('errors:', m.check_valence()) # atoms with valence problems. aromatic rings should be kekulized (canonicaqlized) to check problems\n",
    "m.canonicalize()\n",
    "print('errors:', m.check_valence())\n",
    "m.clean2d()\n",
    "m"
   ],
   "outputs": []
  },
  {
   "cell_type": "markdown",
   "metadata": {
    "pycharm": {
     "name": "#%% md\n"
    }
   },
   "source": [
    "## 3.2. Reactions\n",
    "ReactionContainer has same methods as molecules. In this case they are applied to all molecules in reaction.\n",
    "\n",
    "`explicify_hydrogen` method try to keep atom-to-atom mapping.\n",
    "\n",
    "Reaction specific methods:\n",
    "\n",
    "* `remove_reagents` - move reactants to reagents. based on atom-to-atom mapping.\n",
    "* `contract_ions` - merge ions in single multicomponent molecule.\n",
    "* `reset_mapping` - perfom atom-to-atom mapping. Required chytorch-rxnmap package.\n",
    "* `fix_mapping` - rule based atom-to-atom mapping fix for known mistakes."
   ]
  },
  {
   "cell_type": "code",
   "execution_count": 38,
   "metadata": {
    "pycharm": {
     "name": "#%%\n"
    }
   },
   "source": [
    "r = smiles('[Na+:1].[OH-:2].[CH3:7][O:5][C:4]([CH3:3])=[O:6]>>[CH3:3][C:4]([OH:8])=[O:6]') # mapping required\n",
    "r.clean2d()\n",
    "r"
   ],
   "outputs": []
  },
  {
   "cell_type": "code",
   "execution_count": 39,
   "metadata": {
    "pycharm": {
     "name": "#%%\n"
    }
   },
   "source": [
    "r.contract_ions()\n",
    "r"
   ],
   "outputs": []
  },
  {
   "cell_type": "code",
   "execution_count": 40,
   "metadata": {
    "pycharm": {
     "name": "#%%\n"
    }
   },
   "source": [
    "r.remove_reagents(keep_reagents=True)\n",
    "r"
   ],
   "outputs": []
  },
  {
   "cell_type": "code",
   "execution_count": 41,
   "metadata": {
    "pycharm": {
     "name": "#%%\n"
    }
   },
   "source": [
    "r.explicify_hydrogens()\n",
    "r.clean2d()\n",
    "r"
   ],
   "outputs": []
  },
  {
   "cell_type": "code",
   "execution_count": 42,
   "metadata": {
    "pycharm": {
     "name": "#%%\n"
    }
   },
   "source": [
    "r = smiles('OC(=O)C(=C)C=C.C=CC#N>>OC(=O)C1=CCCC(C1)C#N')\n",
    "r.clean2d()\n",
    "r.reset_mapping()\n",
    "r"
   ],
   "outputs": []
  },
  {
   "cell_type": "markdown",
   "metadata": {
    "pycharm": {
     "name": "#%% md\n"
    }
   },
   "source": [
    "# 4. Isomorphism\n",
    "\n",
    "## 4.1. Molecules Isomorphism\n",
    "\n",
    "Chython has simple substructure/structure isomorphism API.\n",
    "\n",
    "Note, that atoms are matched in subgraph isomorphism only if they have same charge/multiplicity and isotope options."
   ]
  },
  {
   "cell_type": "code",
   "execution_count": 43,
   "metadata": {
    "pycharm": {
     "name": "#%%\n"
    }
   },
   "source": [
    "benzene = smiles('c1ccccc1')\n",
    "toluene = smiles('c1ccccc1C')\n",
    "# isomorphism operations\n",
    "print(benzene < toluene)  # benzene is substructure of toluene\n",
    "print(benzene > toluene)  # benzene is not superstructure of toluene\n",
    "print(benzene <= toluene) # benzene is substructure/or same structure of toluene\n",
    "print(benzene >= toluene) # benzene is not superstructure/or same structure of toluene\n",
    "print(benzene < benzene) # benzene is not substructure of benzene. it's equal\n",
    "print(benzene <= benzene)"
   ],
   "outputs": []
  },
  {
   "cell_type": "markdown",
   "metadata": {
    "pycharm": {
     "name": "#%% md\n"
    }
   },
   "source": [
    "Mappings of substructure or structure to structure can be returned using `substructure.get_mapping(structure)` method. Method acts as generator."
   ]
  },
  {
   "cell_type": "code",
   "execution_count": 44,
   "metadata": {
    "pycharm": {
     "name": "#%%\n"
    }
   },
   "source": [
    "next(benzene.get_mapping(toluene))"
   ],
   "outputs": []
  },
  {
   "cell_type": "code",
   "execution_count": 45,
   "metadata": {
    "pycharm": {
     "name": "#%%\n"
    }
   },
   "source": [
    "for m in benzene.get_mapping(toluene, automorphism_filter=False):  # iterate over all possible substructure mappings\n",
    "    print(m)"
   ],
   "outputs": []
  },
  {
   "cell_type": "markdown",
   "metadata": {
    "pycharm": {
     "name": "#%% md\n"
    }
   },
   "source": [
    "## 4.2. Queries\n",
    "\n",
    "Queries (QueryContainer) is special objects which additionally takes into account neighbors, hybridization, hydrogen count, ring size and heteroatom neighbors count state of atoms and bond in ring state.\n",
    "\n",
    "Queries can be generated from molecules by `substructure` method with as_query argument.\n",
    "\n",
    "Few special arguments for controlling atom state available."
   ]
  },
  {
   "cell_type": "code",
   "execution_count": 46,
   "metadata": {
    "pycharm": {
     "name": "#%%\n"
    }
   },
   "source": [
    "m = smiles('NCC(=O)O')\n",
    "carboxy = m.substructure([3, 4, 5], as_query=True, skip_neighbors_marks=False, skip_hybridizations_marks=False, skip_hydrogens_marks=False, skip_rings_sizes_marks=False)\n",
    "print(carboxy)"
   ],
   "outputs": []
  },
  {
   "cell_type": "code",
   "execution_count": 47,
   "metadata": {
    "pycharm": {
     "name": "#%%\n"
    }
   },
   "source": [
    "carboxy < m"
   ],
   "outputs": []
  },
  {
   "cell_type": "code",
   "execution_count": 48,
   "metadata": {
    "pycharm": {
     "name": "#%%\n"
    }
   },
   "source": [
    "carboxy < smiles('NCC(=O)OC') # not acid!"
   ],
   "outputs": []
  },
  {
   "cell_type": "markdown",
   "metadata": {
    "pycharm": {
     "name": "#%%\n"
    }
   },
   "source": [
    "### 4.2.1. Query building API\n",
    "\n",
    "It is possible to build query and molecule objects in programming way"
   ]
  },
  {
   "cell_type": "code",
   "execution_count": 49,
   "metadata": {
    "pycharm": {
     "name": "#%%\n"
    }
   },
   "source": [
    "from chython import QueryContainer, MoleculeContainer\n",
    "from chython.containers.bonds import QueryBond\n",
    "from chython.periodictable import ListElement"
   ],
   "outputs": []
  },
  {
   "cell_type": "code",
   "execution_count": 50,
   "metadata": {
    "pycharm": {
     "name": "#%%\n"
    }
   },
   "source": [
    "q = QueryContainer() # create empty query\n",
    "q.add_atom('C', neighbors=3, hybridization=2, heteroatoms=1, rings_sizes=0, hydrogens=0)\n",
    "q.add_atom(ListElement(['O', 'S']), n=3) # oxygen or sulphur, with atom number 3\n",
    "q.add_bond(1, 3, 2) # atoms enumerated from 1. connect first and 3rd atom by bouble bond.\n",
    "print(q) # match only acyclic [tia] ketones"
   ],
   "outputs": []
  },
  {
   "cell_type": "code",
   "execution_count": 51,
   "metadata": {
    "pycharm": {
     "name": "#%%\n"
    }
   },
   "source": [
    "q < smiles('CC(=O)O')"
   ],
   "outputs": []
  },
  {
   "cell_type": "code",
   "execution_count": 52,
   "metadata": {
    "pycharm": {
     "name": "#%%\n"
    }
   },
   "source": [
    "q < smiles('CC(=S)C')"
   ],
   "outputs": []
  },
  {
   "cell_type": "code",
   "execution_count": 53,
   "metadata": {
    "pycharm": {
     "name": "#%%\n"
    }
   },
   "source": [
    "q < smiles('CC=O')"
   ],
   "outputs": []
  },
  {
   "cell_type": "code",
   "execution_count": 54,
   "metadata": {
    "pycharm": {
     "name": "#%%\n"
    }
   },
   "source": [
    "q < smiles('C1CC(=O)CC1')"
   ],
   "outputs": []
  },
  {
   "cell_type": "code",
   "execution_count": 55,
   "metadata": {
    "pycharm": {
     "name": "#%%\n"
    }
   },
   "source": [
    "q = QueryContainer()\n",
    "q.add_atom('C', rings_sizes=6, hybridization=4)\n",
    "q.add_atom('C', rings_sizes=6, hybridization=4)\n",
    "q.add_bond(1, 2, QueryBond(1, False))  # QueryBond(order, in_ring)\n",
    "print(q)  # match ring-ring linker"
   ],
   "outputs": []
  },
  {
   "cell_type": "code",
   "execution_count": 56,
   "metadata": {
    "pycharm": {
     "name": "#%%\n"
    }
   },
   "source": [
    "q < smiles('C1Cc2ccccc2-c2ccccc12')"
   ],
   "outputs": []
  },
  {
   "cell_type": "code",
   "execution_count": 57,
   "metadata": {
    "pycharm": {
     "name": "#%%\n"
    }
   },
   "source": [
    "q < smiles('c1ccc(cc1)-c1ccccc1')"
   ],
   "outputs": []
  },
  {
   "cell_type": "code",
   "execution_count": 58,
   "metadata": {
    "pycharm": {
     "name": "#%%\n"
    }
   },
   "source": [
    "q < smiles('C1CC(=O)CC1')"
   ],
   "outputs": []
  },
  {
   "cell_type": "code",
   "execution_count": 59,
   "metadata": {},
   "source": [
    "q = QueryContainer()\n",
    "q.add_atom('C', rings_sizes=6, hybridization=4)\n",
    "q.add_atom('C', rings_sizes=6, hybridization=4)\n",
    "q.add_bond(1, 2, QueryBond(1, False))  # QueryBond(order, in_ring)\n",
    "print(q)  # match ring-ring linker"
   ],
   "outputs": []
  },
  {
   "cell_type": "code",
   "execution_count": 60,
   "metadata": {},
   "source": [
    "q < smiles('C1Cc2ccccc2-c2ccccc12')"
   ],
   "outputs": []
  },
  {
   "cell_type": "code",
   "execution_count": 61,
   "metadata": {},
   "source": [
    "q < smiles('c1ccc(cc1)-c1ccccc1')"
   ],
   "outputs": []
  },
  {
   "cell_type": "markdown",
   "metadata": {
    "pycharm": {
     "name": "#%% md\n"
    }
   },
   "source": [
    "Molecules construction API the same, except extra query attributes"
   ]
  },
  {
   "cell_type": "code",
   "execution_count": 62,
   "metadata": {
    "pycharm": {
     "name": "#%%\n"
    }
   },
   "source": [
    "m = MoleculeContainer()\n",
    "m.add_atom('C')\n",
    "m.add_atom('C')\n",
    "m.add_atom('O')\n",
    "m.add_bond(1, 2, 1)\n",
    "m.add_bond(2, 3, 2)\n",
    "m.clean2d()\n",
    "m"
   ],
   "outputs": []
  },
  {
   "cell_type": "markdown",
   "metadata": {
    "pycharm": {
     "name": "#%% md\n"
    }
   },
   "source": [
    "# 5. Reactor\n",
    "\n",
    "Reactor works similar to ChemAxon Reactions enumeration.\n",
    "\n",
    "Example here presents application of it to create esters from acids and alcoholes.\n",
    "\n",
    "First we need to construct carboxy group and alcohole matcher queries. Then, ether group need to be specified. \n",
    "\n",
    "Atom numbers in query and patch should be mapped to each other. The same atoms should have same numbers."
   ]
  },
  {
   "cell_type": "code",
   "execution_count": 63,
   "metadata": {
    "pycharm": {
     "name": "#%%\n"
    }
   },
   "source": [
    "acid = QueryContainer()\n",
    "acid.add_atom('C')\n",
    "acid.add_atom('O', neighbors=1)\n",
    "acid.add_atom('O')\n",
    "acid.add_bond(1, 2, 1)\n",
    "acid.add_bond(1, 3, 2)\n",
    "print(acid)"
   ],
   "outputs": []
  },
  {
   "cell_type": "code",
   "execution_count": 64,
   "metadata": {
    "pycharm": {
     "name": "#%%\n"
    }
   },
   "source": [
    "alco = QueryContainer()\n",
    "alco.add_atom('C', n=4, heteroatoms=1) # set atom number manually\n",
    "alco.add_atom('O', 5, neighbors=1)\n",
    "alco.add_bond(4, 5, 1)\n",
    "print(alco)"
   ],
   "outputs": []
  },
  {
   "cell_type": "code",
   "execution_count": 65,
   "metadata": {
    "pycharm": {
     "name": "#%%\n"
    }
   },
   "source": [
    "ether = QueryContainer()\n",
    "ether.add_atom('C')\n",
    "ether.add_atom('O', 3)\n",
    "ether.add_atom('C')\n",
    "ether.add_atom('O')\n",
    "ether.add_bond(1, 3, 2)\n",
    "ether.add_bond(1, 5, 1)\n",
    "ether.add_bond(4, 5, 1)\n",
    "print(ether)"
   ],
   "outputs": []
  },
  {
   "cell_type": "code",
   "execution_count": 66,
   "metadata": {
    "pycharm": {
     "name": "#%%\n"
    }
   },
   "source": [
    "from chython import Reactor\n",
    "from chython.utils import grid_depict\n",
    "from ipywidgets import HTML"
   ],
   "outputs": []
  },
  {
   "cell_type": "code",
   "execution_count": 67,
   "metadata": {
    "pycharm": {
     "name": "#%%\n"
    }
   },
   "source": [
    "rxn = Reactor([acid, alco], [ether], delete_atoms=True, one_shot=False)\n",
    "# delete atoms not presented in product query\n",
    "# do multiple reactions if possible"
   ],
   "outputs": []
  },
  {
   "cell_type": "code",
   "execution_count": 68,
   "metadata": {
    "pycharm": {
     "name": "#%%\n"
    }
   },
   "source": [
    "alcohols = [smiles('CO'), smiles('CCO'), smiles('CC(C)O')]\n",
    "acids = [smiles('C(=O)O'), smiles('CC(=O)O'), smiles('OC(=O)C(=O)O')]\n",
    "for x in alcohols + acids:\n",
    "    x.clean2d()"
   ],
   "outputs": []
  },
  {
   "cell_type": "code",
   "execution_count": 69,
   "metadata": {
    "pycharm": {
     "name": "#%%\n"
    }
   },
   "source": [
    "HTML(grid_depict(alcohols + acids))"
   ],
   "outputs": []
  },
  {
   "cell_type": "code",
   "execution_count": 70,
   "metadata": {
    "pycharm": {
     "name": "#%%\n"
    }
   },
   "source": [
    "from itertools import product\n",
    "\n",
    "products = []\n",
    "for x in product(acids, alcohols):\n",
    "    for p in rxn(x): # apply transformation on given list of reactants\n",
    "        p.clean2d()\n",
    "        products.append(p)\n",
    "len(products)"
   ],
   "outputs": []
  },
  {
   "cell_type": "code",
   "execution_count": 71,
   "metadata": {
    "pycharm": {
     "name": "#%%\n"
    }
   },
   "source": [
    "products[0]"
   ],
   "outputs": []
  },
  {
   "cell_type": "code",
   "execution_count": 72,
   "metadata": {
    "pycharm": {
     "name": "#%%\n"
    }
   },
   "source": [
    "products[-3]"
   ],
   "outputs": []
  },
  {
   "cell_type": "code",
   "execution_count": 73,
   "metadata": {
    "pycharm": {
     "name": "#%%\n"
    },
    "scrolled": true
   },
   "source": [
    "products[-4]"
   ],
   "outputs": []
  },
  {
   "cell_type": "markdown",
   "metadata": {
    "pycharm": {
     "name": "#%% md\n"
    }
   },
   "source": [
    "# 6. Molecules and Reactions API\n",
    "\n",
    "There are explanation of some methods"
   ]
  },
  {
   "cell_type": "code",
   "execution_count": 74,
   "metadata": {
    "pycharm": {
     "name": "#%%\n"
    }
   },
   "source": [
    "anion, cation = smiles('[Cl-].[Na+]').split() # disconnected components can be split\n",
    "print(anion, cation)\n",
    "salt = anion | cation # molecules can be merged\n",
    "salt = anion.union(cation, remap=True) # fix mapping overlap\n",
    "salt.clean2d()\n",
    "salt"
   ],
   "outputs": []
  },
  {
   "cell_type": "code",
   "execution_count": 75,
   "metadata": {
    "pycharm": {
     "name": "#%%\n"
    }
   },
   "source": [
    "m = toluene.substructure([1, 2, 3, 4, 5, 6]) # extraction of substructure\n",
    "# set recalculate_hydrogens=False to save hydrogen count info. useful for full component extraction.\n",
    "m.clean2d()\n",
    "print(m.atom(1).atomic_symbol, m.atom(1).implicit_hydrogens) # aromatic structures require kekule>thiele procedure to fix hydrogens count\n",
    "m.kekule() and m.thiele()\n",
    "print(m.atom(1).atomic_symbol, m.atom(1).implicit_hydrogens)\n",
    "m"
   ],
   "outputs": []
  },
  {
   "cell_type": "code",
   "execution_count": 76,
   "metadata": {
    "pycharm": {
     "name": "#%%\n"
    }
   },
   "source": [
    "remapped = m.remap({1: 7}, copy=True) # change atom numbers\n",
    "remapped"
   ],
   "outputs": []
  }
 ],
 "metadata": {
  "kernelspec": {
   "display_name": "Python 3 (ipykernel)",
   "language": "python",
   "name": "python3"
  },
  "language_info": {
   "codemirror_mode": {
    "name": "ipython",
    "version": 3
   },
   "file_extension": ".py",
   "mimetype": "text/x-python",
   "name": "python",
   "nbconvert_exporter": "python",
   "pygments_lexer": "python3",
   "version": "3.8.10"
  }
 },
 "nbformat": 4,
 "nbformat_minor": 2
}
